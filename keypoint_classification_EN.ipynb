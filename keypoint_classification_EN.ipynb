{
 "nbformat": 4,
 "nbformat_minor": 0,
 "metadata": {
  "kernelspec": {
   "display_name": "Python 3",
   "language": "python",
   "name": "python3"
  },
  "language_info": {
   "codemirror_mode": {
    "name": "ipython",
    "version": 3
   },
   "file_extension": ".py",
   "mimetype": "text/x-python",
   "name": "python",
   "nbconvert_exporter": "python",
   "pygments_lexer": "ipython3",
   "version": "3.8.5"
  },
  "colab": {
   "name": "keypoint_classification_EN.ipynb",
   "provenance": [],
   "collapsed_sections": [],
   "toc_visible": true
  },
  "accelerator": "GPU"
 },
 "cells": [
  {
   "cell_type": "code",
   "metadata": {
    "id": "igMyGnjE9hEp",
    "ExecuteTime": {
     "end_time": "2025-04-28T19:49:51.526303Z",
     "start_time": "2025-04-28T19:49:42.002688Z"
    }
   },
   "source": [
    "import csv\n",
    "\n",
    "import numpy as np\n",
    "import tensorflow as tf\n",
    "from sklearn.model_selection import train_test_split\n",
    "\n",
    "RANDOM_SEED = 42"
   ],
   "outputs": [],
   "execution_count": 1
  },
  {
   "cell_type": "markdown",
   "metadata": {
    "id": "t2HDvhIu9hEr"
   },
   "source": [
    "# Specify each path"
   ]
  },
  {
   "cell_type": "code",
   "metadata": {
    "id": "9NvZP2Zn9hEy",
    "ExecuteTime": {
     "end_time": "2025-04-28T19:49:51.535650Z",
     "start_time": "2025-04-28T19:49:51.531167Z"
    }
   },
   "source": [
    "dataset = 'model/keypoint_classifier/keypoint.csv'\n",
    "model_save_path = 'model/keypoint_classifier/keypoint_classifier.keras'\n",
    "tflite_save_path = 'model/keypoint_classifier/keypoint_classifier.tflite'"
   ],
   "outputs": [],
   "execution_count": 2
  },
  {
   "cell_type": "markdown",
   "metadata": {
    "id": "s5oMH7x19hEz"
   },
   "source": [
    "# Set number of classes"
   ]
  },
  {
   "cell_type": "code",
   "metadata": {
    "id": "du4kodXL9hEz",
    "ExecuteTime": {
     "end_time": "2025-04-28T19:49:51.857319Z",
     "start_time": "2025-04-28T19:49:51.853355Z"
    }
   },
   "source": "NUM_CLASSES = 6",
   "outputs": [],
   "execution_count": 3
  },
  {
   "cell_type": "markdown",
   "metadata": {
    "id": "XjnL0uso9hEz"
   },
   "source": [
    "# Dataset reading"
   ]
  },
  {
   "cell_type": "code",
   "metadata": {
    "id": "QT5ZqtEz9hE0",
    "ExecuteTime": {
     "end_time": "2025-04-28T19:49:52.063Z",
     "start_time": "2025-04-28T19:49:51.866294Z"
    }
   },
   "source": [
    "X_dataset = np.loadtxt(dataset, delimiter=',', dtype='float32', usecols=list(range(1, (21 * 2) + 1)))"
   ],
   "outputs": [],
   "execution_count": 4
  },
  {
   "cell_type": "code",
   "metadata": {
    "id": "QmoKFsp49hE0",
    "ExecuteTime": {
     "end_time": "2025-04-28T19:49:52.119132Z",
     "start_time": "2025-04-28T19:49:52.075081Z"
    }
   },
   "source": [
    "y_dataset = np.loadtxt(dataset, delimiter=',', dtype='int32', usecols=(0))"
   ],
   "outputs": [],
   "execution_count": 5
  },
  {
   "cell_type": "code",
   "metadata": {
    "id": "xQU7JTZ_9hE0",
    "ExecuteTime": {
     "end_time": "2025-04-28T19:49:52.136755Z",
     "start_time": "2025-04-28T19:49:52.128903Z"
    }
   },
   "source": [
    "X_train, X_test, y_train, y_test = train_test_split(X_dataset, y_dataset, train_size=0.75, random_state=RANDOM_SEED)"
   ],
   "outputs": [],
   "execution_count": 6
  },
  {
   "cell_type": "markdown",
   "metadata": {
    "id": "mxK_lETT9hE0"
   },
   "source": [
    "# Model building"
   ]
  },
  {
   "cell_type": "code",
   "metadata": {
    "id": "vHBmUf1t9hE1",
    "ExecuteTime": {
     "end_time": "2025-04-28T19:49:52.262725Z",
     "start_time": "2025-04-28T19:49:52.150729Z"
    }
   },
   "source": [
    "model = tf.keras.models.Sequential([\n",
    "    tf.keras.layers.Input((21 * 2, )),\n",
    "    tf.keras.layers.Dropout(0.2),\n",
    "    tf.keras.layers.Dense(20, activation='relu'),\n",
    "    tf.keras.layers.Dropout(0.4),\n",
    "    tf.keras.layers.Dense(10, activation='relu'),\n",
    "    tf.keras.layers.Dense(NUM_CLASSES, activation='softmax')\n",
    "])"
   ],
   "outputs": [],
   "execution_count": 7
  },
  {
   "cell_type": "code",
   "metadata": {
    "id": "ypqky9tc9hE1",
    "colab": {
     "base_uri": "https://localhost:8080/"
    },
    "outputId": "5db082bb-30e3-4110-bf63-a1ee777ecd46",
    "ExecuteTime": {
     "end_time": "2025-04-28T19:49:52.302362Z",
     "start_time": "2025-04-28T19:49:52.276490Z"
    }
   },
   "source": [
    "model.summary()  # tf.keras.utils.plot_model(model, show_shapes=True)"
   ],
   "outputs": [
    {
     "data": {
      "text/plain": [
       "\u001B[1mModel: \"sequential\"\u001B[0m\n"
      ],
      "text/html": [
       "<pre style=\"white-space:pre;overflow-x:auto;line-height:normal;font-family:Menlo,'DejaVu Sans Mono',consolas,'Courier New',monospace\"><span style=\"font-weight: bold\">Model: \"sequential\"</span>\n",
       "</pre>\n"
      ]
     },
     "metadata": {},
     "output_type": "display_data"
    },
    {
     "data": {
      "text/plain": [
       "┏━━━━━━━━━━━━━━━━━━━━━━━━━━━━━━━━━┳━━━━━━━━━━━━━━━━━━━━━━━━┳━━━━━━━━━━━━━━━┓\n",
       "┃\u001B[1m \u001B[0m\u001B[1mLayer (type)                   \u001B[0m\u001B[1m \u001B[0m┃\u001B[1m \u001B[0m\u001B[1mOutput Shape          \u001B[0m\u001B[1m \u001B[0m┃\u001B[1m \u001B[0m\u001B[1m      Param #\u001B[0m\u001B[1m \u001B[0m┃\n",
       "┡━━━━━━━━━━━━━━━━━━━━━━━━━━━━━━━━━╇━━━━━━━━━━━━━━━━━━━━━━━━╇━━━━━━━━━━━━━━━┩\n",
       "│ dropout (\u001B[38;5;33mDropout\u001B[0m)               │ (\u001B[38;5;45mNone\u001B[0m, \u001B[38;5;34m42\u001B[0m)             │             \u001B[38;5;34m0\u001B[0m │\n",
       "├─────────────────────────────────┼────────────────────────┼───────────────┤\n",
       "│ dense (\u001B[38;5;33mDense\u001B[0m)                   │ (\u001B[38;5;45mNone\u001B[0m, \u001B[38;5;34m20\u001B[0m)             │           \u001B[38;5;34m860\u001B[0m │\n",
       "├─────────────────────────────────┼────────────────────────┼───────────────┤\n",
       "│ dropout_1 (\u001B[38;5;33mDropout\u001B[0m)             │ (\u001B[38;5;45mNone\u001B[0m, \u001B[38;5;34m20\u001B[0m)             │             \u001B[38;5;34m0\u001B[0m │\n",
       "├─────────────────────────────────┼────────────────────────┼───────────────┤\n",
       "│ dense_1 (\u001B[38;5;33mDense\u001B[0m)                 │ (\u001B[38;5;45mNone\u001B[0m, \u001B[38;5;34m10\u001B[0m)             │           \u001B[38;5;34m210\u001B[0m │\n",
       "├─────────────────────────────────┼────────────────────────┼───────────────┤\n",
       "│ dense_2 (\u001B[38;5;33mDense\u001B[0m)                 │ (\u001B[38;5;45mNone\u001B[0m, \u001B[38;5;34m6\u001B[0m)              │            \u001B[38;5;34m66\u001B[0m │\n",
       "└─────────────────────────────────┴────────────────────────┴───────────────┘\n"
      ],
      "text/html": [
       "<pre style=\"white-space:pre;overflow-x:auto;line-height:normal;font-family:Menlo,'DejaVu Sans Mono',consolas,'Courier New',monospace\">┏━━━━━━━━━━━━━━━━━━━━━━━━━━━━━━━━━┳━━━━━━━━━━━━━━━━━━━━━━━━┳━━━━━━━━━━━━━━━┓\n",
       "┃<span style=\"font-weight: bold\"> Layer (type)                    </span>┃<span style=\"font-weight: bold\"> Output Shape           </span>┃<span style=\"font-weight: bold\">       Param # </span>┃\n",
       "┡━━━━━━━━━━━━━━━━━━━━━━━━━━━━━━━━━╇━━━━━━━━━━━━━━━━━━━━━━━━╇━━━━━━━━━━━━━━━┩\n",
       "│ dropout (<span style=\"color: #0087ff; text-decoration-color: #0087ff\">Dropout</span>)               │ (<span style=\"color: #00d7ff; text-decoration-color: #00d7ff\">None</span>, <span style=\"color: #00af00; text-decoration-color: #00af00\">42</span>)             │             <span style=\"color: #00af00; text-decoration-color: #00af00\">0</span> │\n",
       "├─────────────────────────────────┼────────────────────────┼───────────────┤\n",
       "│ dense (<span style=\"color: #0087ff; text-decoration-color: #0087ff\">Dense</span>)                   │ (<span style=\"color: #00d7ff; text-decoration-color: #00d7ff\">None</span>, <span style=\"color: #00af00; text-decoration-color: #00af00\">20</span>)             │           <span style=\"color: #00af00; text-decoration-color: #00af00\">860</span> │\n",
       "├─────────────────────────────────┼────────────────────────┼───────────────┤\n",
       "│ dropout_1 (<span style=\"color: #0087ff; text-decoration-color: #0087ff\">Dropout</span>)             │ (<span style=\"color: #00d7ff; text-decoration-color: #00d7ff\">None</span>, <span style=\"color: #00af00; text-decoration-color: #00af00\">20</span>)             │             <span style=\"color: #00af00; text-decoration-color: #00af00\">0</span> │\n",
       "├─────────────────────────────────┼────────────────────────┼───────────────┤\n",
       "│ dense_1 (<span style=\"color: #0087ff; text-decoration-color: #0087ff\">Dense</span>)                 │ (<span style=\"color: #00d7ff; text-decoration-color: #00d7ff\">None</span>, <span style=\"color: #00af00; text-decoration-color: #00af00\">10</span>)             │           <span style=\"color: #00af00; text-decoration-color: #00af00\">210</span> │\n",
       "├─────────────────────────────────┼────────────────────────┼───────────────┤\n",
       "│ dense_2 (<span style=\"color: #0087ff; text-decoration-color: #0087ff\">Dense</span>)                 │ (<span style=\"color: #00d7ff; text-decoration-color: #00d7ff\">None</span>, <span style=\"color: #00af00; text-decoration-color: #00af00\">6</span>)              │            <span style=\"color: #00af00; text-decoration-color: #00af00\">66</span> │\n",
       "└─────────────────────────────────┴────────────────────────┴───────────────┘\n",
       "</pre>\n"
      ]
     },
     "metadata": {},
     "output_type": "display_data"
    },
    {
     "data": {
      "text/plain": [
       "\u001B[1m Total params: \u001B[0m\u001B[38;5;34m1,136\u001B[0m (4.44 KB)\n"
      ],
      "text/html": [
       "<pre style=\"white-space:pre;overflow-x:auto;line-height:normal;font-family:Menlo,'DejaVu Sans Mono',consolas,'Courier New',monospace\"><span style=\"font-weight: bold\"> Total params: </span><span style=\"color: #00af00; text-decoration-color: #00af00\">1,136</span> (4.44 KB)\n",
       "</pre>\n"
      ]
     },
     "metadata": {},
     "output_type": "display_data"
    },
    {
     "data": {
      "text/plain": [
       "\u001B[1m Trainable params: \u001B[0m\u001B[38;5;34m1,136\u001B[0m (4.44 KB)\n"
      ],
      "text/html": [
       "<pre style=\"white-space:pre;overflow-x:auto;line-height:normal;font-family:Menlo,'DejaVu Sans Mono',consolas,'Courier New',monospace\"><span style=\"font-weight: bold\"> Trainable params: </span><span style=\"color: #00af00; text-decoration-color: #00af00\">1,136</span> (4.44 KB)\n",
       "</pre>\n"
      ]
     },
     "metadata": {},
     "output_type": "display_data"
    },
    {
     "data": {
      "text/plain": [
       "\u001B[1m Non-trainable params: \u001B[0m\u001B[38;5;34m0\u001B[0m (0.00 B)\n"
      ],
      "text/html": [
       "<pre style=\"white-space:pre;overflow-x:auto;line-height:normal;font-family:Menlo,'DejaVu Sans Mono',consolas,'Courier New',monospace\"><span style=\"font-weight: bold\"> Non-trainable params: </span><span style=\"color: #00af00; text-decoration-color: #00af00\">0</span> (0.00 B)\n",
       "</pre>\n"
      ]
     },
     "metadata": {},
     "output_type": "display_data"
    }
   ],
   "execution_count": 8
  },
  {
   "cell_type": "code",
   "metadata": {
    "id": "MbMjOflQ9hE1",
    "ExecuteTime": {
     "end_time": "2025-04-28T19:49:52.349318Z",
     "start_time": "2025-04-28T19:49:52.343369Z"
    }
   },
   "source": [
    "# Model checkpoint callback\n",
    "cp_callback = tf.keras.callbacks.ModelCheckpoint(\n",
    "    model_save_path, verbose=1, save_weights_only=False)\n",
    "# Callback for early stopping\n",
    "es_callback = tf.keras.callbacks.EarlyStopping(patience=20, verbose=1)"
   ],
   "outputs": [],
   "execution_count": 9
  },
  {
   "cell_type": "code",
   "metadata": {
    "id": "c3Dac0M_9hE2",
    "ExecuteTime": {
     "end_time": "2025-04-28T19:49:52.379109Z",
     "start_time": "2025-04-28T19:49:52.362865Z"
    }
   },
   "source": [
    "# Model compilation\n",
    "model.compile(\n",
    "    optimizer='adam',\n",
    "    loss='sparse_categorical_crossentropy',\n",
    "    metrics=['accuracy']\n",
    ")"
   ],
   "outputs": [],
   "execution_count": 10
  },
  {
   "cell_type": "markdown",
   "metadata": {
    "id": "7XI0j1Iu9hE2"
   },
   "source": [
    "# Model training"
   ]
  },
  {
   "cell_type": "code",
   "metadata": {
    "scrolled": true,
    "id": "WirBl-JE9hE3",
    "colab": {
     "base_uri": "https://localhost:8080/"
    },
    "outputId": "71b30ca2-8294-4d9d-8aa2-800d90d399de",
    "ExecuteTime": {
     "end_time": "2025-04-28T19:50:29.101534Z",
     "start_time": "2025-04-28T19:49:52.391369Z"
    }
   },
   "source": [
    "model.fit(\n",
    "    X_train,\n",
    "    y_train,\n",
    "    epochs=1000,\n",
    "    batch_size=128,\n",
    "    validation_data=(X_test, y_test),\n",
    "    callbacks=[cp_callback, es_callback]\n",
    ")"
   ],
   "outputs": [
    {
     "name": "stdout",
     "output_type": "stream",
     "text": [
      "Epoch 1/1000\n",
      "\u001B[1m22/30\u001B[0m \u001B[32m━━━━━━━━━━━━━━\u001B[0m\u001B[37m━━━━━━\u001B[0m \u001B[1m0s\u001B[0m 2ms/step - accuracy: 0.2271 - loss: 1.7882\n",
      "Epoch 1: saving model to model/keypoint_classifier/keypoint_classifier.keras\n",
      "\u001B[1m30/30\u001B[0m \u001B[32m━━━━━━━━━━━━━━━━━━━━\u001B[0m\u001B[37m\u001B[0m \u001B[1m2s\u001B[0m 14ms/step - accuracy: 0.2330 - loss: 1.7803 - val_accuracy: 0.3798 - val_loss: 1.6702\n",
      "Epoch 2/1000\n",
      "\u001B[1m26/30\u001B[0m \u001B[32m━━━━━━━━━━━━━━━━━\u001B[0m\u001B[37m━━━\u001B[0m \u001B[1m0s\u001B[0m 2ms/step - accuracy: 0.3072 - loss: 1.6913 \n",
      "Epoch 2: saving model to model/keypoint_classifier/keypoint_classifier.keras\n",
      "\u001B[1m30/30\u001B[0m \u001B[32m━━━━━━━━━━━━━━━━━━━━\u001B[0m\u001B[37m\u001B[0m \u001B[1m0s\u001B[0m 7ms/step - accuracy: 0.3077 - loss: 1.6881 - val_accuracy: 0.4148 - val_loss: 1.5804\n",
      "Epoch 3/1000\n",
      "\u001B[1m25/30\u001B[0m \u001B[32m━━━━━━━━━━━━━━━━\u001B[0m\u001B[37m━━━━\u001B[0m \u001B[1m0s\u001B[0m 2ms/step - accuracy: 0.3546 - loss: 1.6096 \n",
      "Epoch 3: saving model to model/keypoint_classifier/keypoint_classifier.keras\n",
      "\u001B[1m30/30\u001B[0m \u001B[32m━━━━━━━━━━━━━━━━━━━━\u001B[0m\u001B[37m\u001B[0m \u001B[1m0s\u001B[0m 7ms/step - accuracy: 0.3540 - loss: 1.6079 - val_accuracy: 0.4156 - val_loss: 1.4954\n",
      "Epoch 4/1000\n",
      "\u001B[1m21/30\u001B[0m \u001B[32m━━━━━━━━━━━━━━\u001B[0m\u001B[37m━━━━━━\u001B[0m \u001B[1m0s\u001B[0m 3ms/step - accuracy: 0.3620 - loss: 1.5701 \n",
      "Epoch 4: saving model to model/keypoint_classifier/keypoint_classifier.keras\n",
      "\u001B[1m30/30\u001B[0m \u001B[32m━━━━━━━━━━━━━━━━━━━━\u001B[0m\u001B[37m\u001B[0m \u001B[1m0s\u001B[0m 7ms/step - accuracy: 0.3641 - loss: 1.5634 - val_accuracy: 0.4530 - val_loss: 1.4264\n",
      "Epoch 5/1000\n",
      "\u001B[1m26/30\u001B[0m \u001B[32m━━━━━━━━━━━━━━━━━\u001B[0m\u001B[37m━━━\u001B[0m \u001B[1m0s\u001B[0m 2ms/step - accuracy: 0.3998 - loss: 1.5022 \n",
      "Epoch 5: saving model to model/keypoint_classifier/keypoint_classifier.keras\n",
      "\u001B[1m30/30\u001B[0m \u001B[32m━━━━━━━━━━━━━━━━━━━━\u001B[0m\u001B[37m\u001B[0m \u001B[1m0s\u001B[0m 6ms/step - accuracy: 0.4002 - loss: 1.5021 - val_accuracy: 0.4992 - val_loss: 1.3681\n",
      "Epoch 6/1000\n",
      "\u001B[1m27/30\u001B[0m \u001B[32m━━━━━━━━━━━━━━━━━━\u001B[0m\u001B[37m━━\u001B[0m \u001B[1m0s\u001B[0m 2ms/step - accuracy: 0.4050 - loss: 1.4730 \n",
      "Epoch 6: saving model to model/keypoint_classifier/keypoint_classifier.keras\n",
      "\u001B[1m30/30\u001B[0m \u001B[32m━━━━━━━━━━━━━━━━━━━━\u001B[0m\u001B[37m\u001B[0m \u001B[1m0s\u001B[0m 8ms/step - accuracy: 0.4067 - loss: 1.4702 - val_accuracy: 0.5215 - val_loss: 1.3200\n",
      "Epoch 7/1000\n",
      "\u001B[1m26/30\u001B[0m \u001B[32m━━━━━━━━━━━━━━━━━\u001B[0m\u001B[37m━━━\u001B[0m \u001B[1m0s\u001B[0m 2ms/step - accuracy: 0.4272 - loss: 1.4308 \n",
      "Epoch 7: saving model to model/keypoint_classifier/keypoint_classifier.keras\n",
      "\u001B[1m30/30\u001B[0m \u001B[32m━━━━━━━━━━━━━━━━━━━━\u001B[0m\u001B[37m\u001B[0m \u001B[1m0s\u001B[0m 7ms/step - accuracy: 0.4289 - loss: 1.4274 - val_accuracy: 0.5127 - val_loss: 1.2739\n",
      "Epoch 8/1000\n",
      "\u001B[1m26/30\u001B[0m \u001B[32m━━━━━━━━━━━━━━━━━\u001B[0m\u001B[37m━━━\u001B[0m \u001B[1m0s\u001B[0m 2ms/step - accuracy: 0.4627 - loss: 1.3712 \n",
      "Epoch 8: saving model to model/keypoint_classifier/keypoint_classifier.keras\n",
      "\u001B[1m30/30\u001B[0m \u001B[32m━━━━━━━━━━━━━━━━━━━━\u001B[0m\u001B[37m\u001B[0m \u001B[1m0s\u001B[0m 7ms/step - accuracy: 0.4611 - loss: 1.3733 - val_accuracy: 0.5573 - val_loss: 1.2385\n",
      "Epoch 9/1000\n",
      "\u001B[1m26/30\u001B[0m \u001B[32m━━━━━━━━━━━━━━━━━\u001B[0m\u001B[37m━━━\u001B[0m \u001B[1m0s\u001B[0m 2ms/step - accuracy: 0.4562 - loss: 1.3443 \n",
      "Epoch 9: saving model to model/keypoint_classifier/keypoint_classifier.keras\n",
      "\u001B[1m30/30\u001B[0m \u001B[32m━━━━━━━━━━━━━━━━━━━━\u001B[0m\u001B[37m\u001B[0m \u001B[1m0s\u001B[0m 6ms/step - accuracy: 0.4573 - loss: 1.3441 - val_accuracy: 0.5860 - val_loss: 1.1870\n",
      "Epoch 10/1000\n",
      "\u001B[1m26/30\u001B[0m \u001B[32m━━━━━━━━━━━━━━━━━\u001B[0m\u001B[37m━━━\u001B[0m \u001B[1m0s\u001B[0m 2ms/step - accuracy: 0.4721 - loss: 1.3389 \n",
      "Epoch 10: saving model to model/keypoint_classifier/keypoint_classifier.keras\n",
      "\u001B[1m30/30\u001B[0m \u001B[32m━━━━━━━━━━━━━━━━━━━━\u001B[0m\u001B[37m\u001B[0m \u001B[1m0s\u001B[0m 6ms/step - accuracy: 0.4742 - loss: 1.3348 - val_accuracy: 0.6346 - val_loss: 1.1409\n",
      "Epoch 11/1000\n",
      "\u001B[1m27/30\u001B[0m \u001B[32m━━━━━━━━━━━━━━━━━━\u001B[0m\u001B[37m━━\u001B[0m \u001B[1m0s\u001B[0m 2ms/step - accuracy: 0.4909 - loss: 1.2993 \n",
      "Epoch 11: saving model to model/keypoint_classifier/keypoint_classifier.keras\n",
      "\u001B[1m30/30\u001B[0m \u001B[32m━━━━━━━━━━━━━━━━━━━━\u001B[0m\u001B[37m\u001B[0m \u001B[1m0s\u001B[0m 8ms/step - accuracy: 0.4914 - loss: 1.2977 - val_accuracy: 0.6561 - val_loss: 1.0957\n",
      "Epoch 12/1000\n",
      "\u001B[1m27/30\u001B[0m \u001B[32m━━━━━━━━━━━━━━━━━━\u001B[0m\u001B[37m━━\u001B[0m \u001B[1m0s\u001B[0m 2ms/step - accuracy: 0.4917 - loss: 1.2788 \n",
      "Epoch 12: saving model to model/keypoint_classifier/keypoint_classifier.keras\n",
      "\u001B[1m30/30\u001B[0m \u001B[32m━━━━━━━━━━━━━━━━━━━━\u001B[0m\u001B[37m\u001B[0m \u001B[1m0s\u001B[0m 7ms/step - accuracy: 0.4929 - loss: 1.2760 - val_accuracy: 0.6592 - val_loss: 1.0524\n",
      "Epoch 13/1000\n",
      "\u001B[1m22/30\u001B[0m \u001B[32m━━━━━━━━━━━━━━\u001B[0m\u001B[37m━━━━━━\u001B[0m \u001B[1m0s\u001B[0m 2ms/step - accuracy: 0.5177 - loss: 1.2267 \n",
      "Epoch 13: saving model to model/keypoint_classifier/keypoint_classifier.keras\n",
      "\u001B[1m30/30\u001B[0m \u001B[32m━━━━━━━━━━━━━━━━━━━━\u001B[0m\u001B[37m\u001B[0m \u001B[1m0s\u001B[0m 7ms/step - accuracy: 0.5186 - loss: 1.2256 - val_accuracy: 0.6807 - val_loss: 1.0041\n",
      "Epoch 14/1000\n",
      "\u001B[1m28/30\u001B[0m \u001B[32m━━━━━━━━━━━━━━━━━━\u001B[0m\u001B[37m━━\u001B[0m \u001B[1m0s\u001B[0m 2ms/step - accuracy: 0.5368 - loss: 1.1917 \n",
      "Epoch 14: saving model to model/keypoint_classifier/keypoint_classifier.keras\n",
      "\u001B[1m30/30\u001B[0m \u001B[32m━━━━━━━━━━━━━━━━━━━━\u001B[0m\u001B[37m\u001B[0m \u001B[1m0s\u001B[0m 6ms/step - accuracy: 0.5369 - loss: 1.1915 - val_accuracy: 0.6839 - val_loss: 0.9656\n",
      "Epoch 15/1000\n",
      "\u001B[1m25/30\u001B[0m \u001B[32m━━━━━━━━━━━━━━━━\u001B[0m\u001B[37m━━━━\u001B[0m \u001B[1m0s\u001B[0m 2ms/step - accuracy: 0.5341 - loss: 1.2016 \n",
      "Epoch 15: saving model to model/keypoint_classifier/keypoint_classifier.keras\n",
      "\u001B[1m30/30\u001B[0m \u001B[32m━━━━━━━━━━━━━━━━━━━━\u001B[0m\u001B[37m\u001B[0m \u001B[1m0s\u001B[0m 7ms/step - accuracy: 0.5368 - loss: 1.1956 - val_accuracy: 0.6935 - val_loss: 0.9306\n",
      "Epoch 16/1000\n",
      "\u001B[1m27/30\u001B[0m \u001B[32m━━━━━━━━━━━━━━━━━━\u001B[0m\u001B[37m━━\u001B[0m \u001B[1m0s\u001B[0m 2ms/step - accuracy: 0.5497 - loss: 1.1557 \n",
      "Epoch 16: saving model to model/keypoint_classifier/keypoint_classifier.keras\n",
      "\u001B[1m30/30\u001B[0m \u001B[32m━━━━━━━━━━━━━━━━━━━━\u001B[0m\u001B[37m\u001B[0m \u001B[1m0s\u001B[0m 6ms/step - accuracy: 0.5499 - loss: 1.1547 - val_accuracy: 0.7062 - val_loss: 0.8970\n",
      "Epoch 17/1000\n",
      "\u001B[1m27/30\u001B[0m \u001B[32m━━━━━━━━━━━━━━━━━━\u001B[0m\u001B[37m━━\u001B[0m \u001B[1m0s\u001B[0m 2ms/step - accuracy: 0.5725 - loss: 1.1157 \n",
      "Epoch 17: saving model to model/keypoint_classifier/keypoint_classifier.keras\n",
      "\u001B[1m30/30\u001B[0m \u001B[32m━━━━━━━━━━━━━━━━━━━━\u001B[0m\u001B[37m\u001B[0m \u001B[1m0s\u001B[0m 7ms/step - accuracy: 0.5705 - loss: 1.1166 - val_accuracy: 0.7094 - val_loss: 0.8685\n",
      "Epoch 18/1000\n",
      "\u001B[1m27/30\u001B[0m \u001B[32m━━━━━━━━━━━━━━━━━━\u001B[0m\u001B[37m━━\u001B[0m \u001B[1m0s\u001B[0m 2ms/step - accuracy: 0.5552 - loss: 1.1137 \n",
      "Epoch 18: saving model to model/keypoint_classifier/keypoint_classifier.keras\n",
      "\u001B[1m30/30\u001B[0m \u001B[32m━━━━━━━━━━━━━━━━━━━━\u001B[0m\u001B[37m\u001B[0m \u001B[1m0s\u001B[0m 7ms/step - accuracy: 0.5570 - loss: 1.1115 - val_accuracy: 0.7237 - val_loss: 0.8369\n",
      "Epoch 19/1000\n",
      "\u001B[1m26/30\u001B[0m \u001B[32m━━━━━━━━━━━━━━━━━\u001B[0m\u001B[37m━━━\u001B[0m \u001B[1m0s\u001B[0m 2ms/step - accuracy: 0.5711 - loss: 1.0878 \n",
      "Epoch 19: saving model to model/keypoint_classifier/keypoint_classifier.keras\n",
      "\u001B[1m30/30\u001B[0m \u001B[32m━━━━━━━━━━━━━━━━━━━━\u001B[0m\u001B[37m\u001B[0m \u001B[1m0s\u001B[0m 7ms/step - accuracy: 0.5714 - loss: 1.0884 - val_accuracy: 0.7564 - val_loss: 0.8091\n",
      "Epoch 20/1000\n",
      "\u001B[1m25/30\u001B[0m \u001B[32m━━━━━━━━━━━━━━━━\u001B[0m\u001B[37m━━━━\u001B[0m \u001B[1m0s\u001B[0m 2ms/step - accuracy: 0.5893 - loss: 1.0605 \n",
      "Epoch 20: saving model to model/keypoint_classifier/keypoint_classifier.keras\n",
      "\u001B[1m30/30\u001B[0m \u001B[32m━━━━━━━━━━━━━━━━━━━━\u001B[0m\u001B[37m\u001B[0m \u001B[1m0s\u001B[0m 7ms/step - accuracy: 0.5885 - loss: 1.0622 - val_accuracy: 0.7818 - val_loss: 0.7908\n",
      "Epoch 21/1000\n",
      "\u001B[1m27/30\u001B[0m \u001B[32m━━━━━━━━━━━━━━━━━━\u001B[0m\u001B[37m━━\u001B[0m \u001B[1m0s\u001B[0m 2ms/step - accuracy: 0.5839 - loss: 1.0799 \n",
      "Epoch 21: saving model to model/keypoint_classifier/keypoint_classifier.keras\n",
      "\u001B[1m30/30\u001B[0m \u001B[32m━━━━━━━━━━━━━━━━━━━━\u001B[0m\u001B[37m\u001B[0m \u001B[1m0s\u001B[0m 7ms/step - accuracy: 0.5853 - loss: 1.0764 - val_accuracy: 0.7890 - val_loss: 0.7670\n",
      "Epoch 22/1000\n",
      "\u001B[1m24/30\u001B[0m \u001B[32m━━━━━━━━━━━━━━━━\u001B[0m\u001B[37m━━━━\u001B[0m \u001B[1m0s\u001B[0m 2ms/step - accuracy: 0.5844 - loss: 1.0570 \n",
      "Epoch 22: saving model to model/keypoint_classifier/keypoint_classifier.keras\n",
      "\u001B[1m30/30\u001B[0m \u001B[32m━━━━━━━━━━━━━━━━━━━━\u001B[0m\u001B[37m\u001B[0m \u001B[1m0s\u001B[0m 7ms/step - accuracy: 0.5868 - loss: 1.0551 - val_accuracy: 0.8105 - val_loss: 0.7422\n",
      "Epoch 23/1000\n",
      "\u001B[1m26/30\u001B[0m \u001B[32m━━━━━━━━━━━━━━━━━\u001B[0m\u001B[37m━━━\u001B[0m \u001B[1m0s\u001B[0m 2ms/step - accuracy: 0.5926 - loss: 1.0243 \n",
      "Epoch 23: saving model to model/keypoint_classifier/keypoint_classifier.keras\n",
      "\u001B[1m30/30\u001B[0m \u001B[32m━━━━━━━━━━━━━━━━━━━━\u001B[0m\u001B[37m\u001B[0m \u001B[1m0s\u001B[0m 6ms/step - accuracy: 0.5939 - loss: 1.0230 - val_accuracy: 0.8105 - val_loss: 0.7194\n",
      "Epoch 24/1000\n",
      "\u001B[1m25/30\u001B[0m \u001B[32m━━━━━━━━━━━━━━━━\u001B[0m\u001B[37m━━━━\u001B[0m \u001B[1m0s\u001B[0m 2ms/step - accuracy: 0.6068 - loss: 1.0151 \n",
      "Epoch 24: saving model to model/keypoint_classifier/keypoint_classifier.keras\n",
      "\u001B[1m30/30\u001B[0m \u001B[32m━━━━━━━━━━━━━━━━━━━━\u001B[0m\u001B[37m\u001B[0m \u001B[1m0s\u001B[0m 6ms/step - accuracy: 0.6075 - loss: 1.0113 - val_accuracy: 0.8169 - val_loss: 0.6990\n",
      "Epoch 25/1000\n",
      "\u001B[1m27/30\u001B[0m \u001B[32m━━━━━━━━━━━━━━━━━━\u001B[0m\u001B[37m━━\u001B[0m \u001B[1m0s\u001B[0m 2ms/step - accuracy: 0.6052 - loss: 1.0016 \n",
      "Epoch 25: saving model to model/keypoint_classifier/keypoint_classifier.keras\n",
      "\u001B[1m30/30\u001B[0m \u001B[32m━━━━━━━━━━━━━━━━━━━━\u001B[0m\u001B[37m\u001B[0m \u001B[1m0s\u001B[0m 7ms/step - accuracy: 0.6055 - loss: 1.0034 - val_accuracy: 0.8336 - val_loss: 0.6876\n",
      "Epoch 26/1000\n",
      "\u001B[1m25/30\u001B[0m \u001B[32m━━━━━━━━━━━━━━━━\u001B[0m\u001B[37m━━━━\u001B[0m \u001B[1m0s\u001B[0m 2ms/step - accuracy: 0.6304 - loss: 0.9805 \n",
      "Epoch 26: saving model to model/keypoint_classifier/keypoint_classifier.keras\n",
      "\u001B[1m30/30\u001B[0m \u001B[32m━━━━━━━━━━━━━━━━━━━━\u001B[0m\u001B[37m\u001B[0m \u001B[1m0s\u001B[0m 7ms/step - accuracy: 0.6279 - loss: 0.9843 - val_accuracy: 0.8336 - val_loss: 0.6765\n",
      "Epoch 27/1000\n",
      "\u001B[1m22/30\u001B[0m \u001B[32m━━━━━━━━━━━━━━\u001B[0m\u001B[37m━━━━━━\u001B[0m \u001B[1m0s\u001B[0m 2ms/step - accuracy: 0.6438 - loss: 0.9396 \n",
      "Epoch 27: saving model to model/keypoint_classifier/keypoint_classifier.keras\n",
      "\u001B[1m30/30\u001B[0m \u001B[32m━━━━━━━━━━━━━━━━━━━━\u001B[0m\u001B[37m\u001B[0m \u001B[1m0s\u001B[0m 7ms/step - accuracy: 0.6378 - loss: 0.9505 - val_accuracy: 0.8392 - val_loss: 0.6597\n",
      "Epoch 28/1000\n",
      "\u001B[1m23/30\u001B[0m \u001B[32m━━━━━━━━━━━━━━━\u001B[0m\u001B[37m━━━━━\u001B[0m \u001B[1m0s\u001B[0m 2ms/step - accuracy: 0.6159 - loss: 0.9913 \n",
      "Epoch 28: saving model to model/keypoint_classifier/keypoint_classifier.keras\n",
      "\u001B[1m30/30\u001B[0m \u001B[32m━━━━━━━━━━━━━━━━━━━━\u001B[0m\u001B[37m\u001B[0m \u001B[1m0s\u001B[0m 7ms/step - accuracy: 0.6192 - loss: 0.9904 - val_accuracy: 0.8400 - val_loss: 0.6526\n",
      "Epoch 29/1000\n",
      "\u001B[1m28/30\u001B[0m \u001B[32m━━━━━━━━━━━━━━━━━━\u001B[0m\u001B[37m━━\u001B[0m \u001B[1m0s\u001B[0m 2ms/step - accuracy: 0.6305 - loss: 0.9755 \n",
      "Epoch 29: saving model to model/keypoint_classifier/keypoint_classifier.keras\n",
      "\u001B[1m30/30\u001B[0m \u001B[32m━━━━━━━━━━━━━━━━━━━━\u001B[0m\u001B[37m\u001B[0m \u001B[1m0s\u001B[0m 6ms/step - accuracy: 0.6306 - loss: 0.9746 - val_accuracy: 0.8392 - val_loss: 0.6367\n",
      "Epoch 30/1000\n",
      "\u001B[1m27/30\u001B[0m \u001B[32m━━━━━━━━━━━━━━━━━━\u001B[0m\u001B[37m━━\u001B[0m \u001B[1m0s\u001B[0m 2ms/step - accuracy: 0.6465 - loss: 0.9670 \n",
      "Epoch 30: saving model to model/keypoint_classifier/keypoint_classifier.keras\n",
      "\u001B[1m30/30\u001B[0m \u001B[32m━━━━━━━━━━━━━━━━━━━━\u001B[0m\u001B[37m\u001B[0m \u001B[1m0s\u001B[0m 7ms/step - accuracy: 0.6449 - loss: 0.9677 - val_accuracy: 0.8368 - val_loss: 0.6240\n",
      "Epoch 31/1000\n",
      "\u001B[1m25/30\u001B[0m \u001B[32m━━━━━━━━━━━━━━━━\u001B[0m\u001B[37m━━━━\u001B[0m \u001B[1m0s\u001B[0m 2ms/step - accuracy: 0.6559 - loss: 0.9506 \n",
      "Epoch 31: saving model to model/keypoint_classifier/keypoint_classifier.keras\n",
      "\u001B[1m30/30\u001B[0m \u001B[32m━━━━━━━━━━━━━━━━━━━━\u001B[0m\u001B[37m\u001B[0m \u001B[1m0s\u001B[0m 7ms/step - accuracy: 0.6548 - loss: 0.9517 - val_accuracy: 0.8575 - val_loss: 0.6106\n",
      "Epoch 32/1000\n",
      "\u001B[1m27/30\u001B[0m \u001B[32m━━━━━━━━━━━━━━━━━━\u001B[0m\u001B[37m━━\u001B[0m \u001B[1m0s\u001B[0m 2ms/step - accuracy: 0.6397 - loss: 0.9362 \n",
      "Epoch 32: saving model to model/keypoint_classifier/keypoint_classifier.keras\n",
      "\u001B[1m30/30\u001B[0m \u001B[32m━━━━━━━━━━━━━━━━━━━━\u001B[0m\u001B[37m\u001B[0m \u001B[1m0s\u001B[0m 6ms/step - accuracy: 0.6402 - loss: 0.9370 - val_accuracy: 0.8543 - val_loss: 0.5950\n",
      "Epoch 33/1000\n",
      "\u001B[1m24/30\u001B[0m \u001B[32m━━━━━━━━━━━━━━━━\u001B[0m\u001B[37m━━━━\u001B[0m \u001B[1m0s\u001B[0m 2ms/step - accuracy: 0.6497 - loss: 0.9271 \n",
      "Epoch 33: saving model to model/keypoint_classifier/keypoint_classifier.keras\n",
      "\u001B[1m30/30\u001B[0m \u001B[32m━━━━━━━━━━━━━━━━━━━━\u001B[0m\u001B[37m\u001B[0m \u001B[1m0s\u001B[0m 7ms/step - accuracy: 0.6480 - loss: 0.9286 - val_accuracy: 0.8591 - val_loss: 0.5814\n",
      "Epoch 34/1000\n",
      "\u001B[1m28/30\u001B[0m \u001B[32m━━━━━━━━━━━━━━━━━━\u001B[0m\u001B[37m━━\u001B[0m \u001B[1m0s\u001B[0m 2ms/step - accuracy: 0.6398 - loss: 0.9412 \n",
      "Epoch 34: saving model to model/keypoint_classifier/keypoint_classifier.keras\n",
      "\u001B[1m30/30\u001B[0m \u001B[32m━━━━━━━━━━━━━━━━━━━━\u001B[0m\u001B[37m\u001B[0m \u001B[1m0s\u001B[0m 8ms/step - accuracy: 0.6411 - loss: 0.9386 - val_accuracy: 0.8607 - val_loss: 0.5716\n",
      "Epoch 35/1000\n",
      "\u001B[1m28/30\u001B[0m \u001B[32m━━━━━━━━━━━━━━━━━━\u001B[0m\u001B[37m━━\u001B[0m \u001B[1m0s\u001B[0m 2ms/step - accuracy: 0.6400 - loss: 0.9354 \n",
      "Epoch 35: saving model to model/keypoint_classifier/keypoint_classifier.keras\n",
      "\u001B[1m30/30\u001B[0m \u001B[32m━━━━━━━━━━━━━━━━━━━━\u001B[0m\u001B[37m\u001B[0m \u001B[1m0s\u001B[0m 6ms/step - accuracy: 0.6400 - loss: 0.9342 - val_accuracy: 0.8607 - val_loss: 0.5659\n",
      "Epoch 36/1000\n",
      "\u001B[1m26/30\u001B[0m \u001B[32m━━━━━━━━━━━━━━━━━\u001B[0m\u001B[37m━━━\u001B[0m \u001B[1m0s\u001B[0m 2ms/step - accuracy: 0.6590 - loss: 0.9329 \n",
      "Epoch 36: saving model to model/keypoint_classifier/keypoint_classifier.keras\n",
      "\u001B[1m30/30\u001B[0m \u001B[32m━━━━━━━━━━━━━━━━━━━━\u001B[0m\u001B[37m\u001B[0m \u001B[1m0s\u001B[0m 7ms/step - accuracy: 0.6588 - loss: 0.9312 - val_accuracy: 0.8726 - val_loss: 0.5493\n",
      "Epoch 37/1000\n",
      "\u001B[1m29/30\u001B[0m \u001B[32m━━━━━━━━━━━━━━━━━━━\u001B[0m\u001B[37m━\u001B[0m \u001B[1m0s\u001B[0m 2ms/step - accuracy: 0.6599 - loss: 0.9124 \n",
      "Epoch 37: saving model to model/keypoint_classifier/keypoint_classifier.keras\n",
      "\u001B[1m30/30\u001B[0m \u001B[32m━━━━━━━━━━━━━━━━━━━━\u001B[0m\u001B[37m\u001B[0m \u001B[1m0s\u001B[0m 9ms/step - accuracy: 0.6596 - loss: 0.9123 - val_accuracy: 0.8662 - val_loss: 0.5467\n",
      "Epoch 38/1000\n",
      "\u001B[1m27/30\u001B[0m \u001B[32m━━━━━━━━━━━━━━━━━━\u001B[0m\u001B[37m━━\u001B[0m \u001B[1m0s\u001B[0m 2ms/step - accuracy: 0.6632 - loss: 0.9105 \n",
      "Epoch 38: saving model to model/keypoint_classifier/keypoint_classifier.keras\n",
      "\u001B[1m30/30\u001B[0m \u001B[32m━━━━━━━━━━━━━━━━━━━━\u001B[0m\u001B[37m\u001B[0m \u001B[1m0s\u001B[0m 6ms/step - accuracy: 0.6633 - loss: 0.9100 - val_accuracy: 0.8662 - val_loss: 0.5450\n",
      "Epoch 39/1000\n",
      "\u001B[1m24/30\u001B[0m \u001B[32m━━━━━━━━━━━━━━━━\u001B[0m\u001B[37m━━━━\u001B[0m \u001B[1m0s\u001B[0m 2ms/step - accuracy: 0.6630 - loss: 0.8922 \n",
      "Epoch 39: saving model to model/keypoint_classifier/keypoint_classifier.keras\n",
      "\u001B[1m30/30\u001B[0m \u001B[32m━━━━━━━━━━━━━━━━━━━━\u001B[0m\u001B[37m\u001B[0m \u001B[1m0s\u001B[0m 7ms/step - accuracy: 0.6636 - loss: 0.8926 - val_accuracy: 0.8758 - val_loss: 0.5291\n",
      "Epoch 40/1000\n",
      "\u001B[1m20/30\u001B[0m \u001B[32m━━━━━━━━━━━━━\u001B[0m\u001B[37m━━━━━━━\u001B[0m \u001B[1m0s\u001B[0m 3ms/step - accuracy: 0.6607 - loss: 0.8832 \n",
      "Epoch 40: saving model to model/keypoint_classifier/keypoint_classifier.keras\n",
      "\u001B[1m30/30\u001B[0m \u001B[32m━━━━━━━━━━━━━━━━━━━━\u001B[0m\u001B[37m\u001B[0m \u001B[1m0s\u001B[0m 7ms/step - accuracy: 0.6637 - loss: 0.8852 - val_accuracy: 0.8798 - val_loss: 0.5236\n",
      "Epoch 41/1000\n",
      "\u001B[1m28/30\u001B[0m \u001B[32m━━━━━━━━━━━━━━━━━━\u001B[0m\u001B[37m━━\u001B[0m \u001B[1m0s\u001B[0m 2ms/step - accuracy: 0.6833 - loss: 0.8681 \n",
      "Epoch 41: saving model to model/keypoint_classifier/keypoint_classifier.keras\n",
      "\u001B[1m30/30\u001B[0m \u001B[32m━━━━━━━━━━━━━━━━━━━━\u001B[0m\u001B[37m\u001B[0m \u001B[1m0s\u001B[0m 6ms/step - accuracy: 0.6821 - loss: 0.8710 - val_accuracy: 0.8758 - val_loss: 0.5247\n",
      "Epoch 42/1000\n",
      "\u001B[1m29/30\u001B[0m \u001B[32m━━━━━━━━━━━━━━━━━━━\u001B[0m\u001B[37m━\u001B[0m \u001B[1m0s\u001B[0m 2ms/step - accuracy: 0.6760 - loss: 0.8731 \n",
      "Epoch 42: saving model to model/keypoint_classifier/keypoint_classifier.keras\n",
      "\u001B[1m30/30\u001B[0m \u001B[32m━━━━━━━━━━━━━━━━━━━━\u001B[0m\u001B[37m\u001B[0m \u001B[1m0s\u001B[0m 7ms/step - accuracy: 0.6762 - loss: 0.8730 - val_accuracy: 0.8933 - val_loss: 0.5153\n",
      "Epoch 43/1000\n",
      "\u001B[1m26/30\u001B[0m \u001B[32m━━━━━━━━━━━━━━━━━\u001B[0m\u001B[37m━━━\u001B[0m \u001B[1m0s\u001B[0m 2ms/step - accuracy: 0.6781 - loss: 0.8626 \n",
      "Epoch 43: saving model to model/keypoint_classifier/keypoint_classifier.keras\n",
      "\u001B[1m30/30\u001B[0m \u001B[32m━━━━━━━━━━━━━━━━━━━━\u001B[0m\u001B[37m\u001B[0m \u001B[1m0s\u001B[0m 7ms/step - accuracy: 0.6787 - loss: 0.8625 - val_accuracy: 0.8830 - val_loss: 0.5114\n",
      "Epoch 44/1000\n",
      "\u001B[1m23/30\u001B[0m \u001B[32m━━━━━━━━━━━━━━━\u001B[0m\u001B[37m━━━━━\u001B[0m \u001B[1m0s\u001B[0m 2ms/step - accuracy: 0.6778 - loss: 0.8448 \n",
      "Epoch 44: saving model to model/keypoint_classifier/keypoint_classifier.keras\n",
      "\u001B[1m30/30\u001B[0m \u001B[32m━━━━━━━━━━━━━━━━━━━━\u001B[0m\u001B[37m\u001B[0m \u001B[1m0s\u001B[0m 7ms/step - accuracy: 0.6795 - loss: 0.8464 - val_accuracy: 0.8838 - val_loss: 0.5006\n",
      "Epoch 45/1000\n",
      "\u001B[1m25/30\u001B[0m \u001B[32m━━━━━━━━━━━━━━━━\u001B[0m\u001B[37m━━━━\u001B[0m \u001B[1m0s\u001B[0m 2ms/step - accuracy: 0.6859 - loss: 0.8694 \n",
      "Epoch 45: saving model to model/keypoint_classifier/keypoint_classifier.keras\n",
      "\u001B[1m30/30\u001B[0m \u001B[32m━━━━━━━━━━━━━━━━━━━━\u001B[0m\u001B[37m\u001B[0m \u001B[1m0s\u001B[0m 8ms/step - accuracy: 0.6856 - loss: 0.8667 - val_accuracy: 0.8957 - val_loss: 0.4888\n",
      "Epoch 46/1000\n",
      "\u001B[1m25/30\u001B[0m \u001B[32m━━━━━━━━━━━━━━━━\u001B[0m\u001B[37m━━━━\u001B[0m \u001B[1m0s\u001B[0m 2ms/step - accuracy: 0.6741 - loss: 0.8608 \n",
      "Epoch 46: saving model to model/keypoint_classifier/keypoint_classifier.keras\n",
      "\u001B[1m30/30\u001B[0m \u001B[32m━━━━━━━━━━━━━━━━━━━━\u001B[0m\u001B[37m\u001B[0m \u001B[1m0s\u001B[0m 7ms/step - accuracy: 0.6750 - loss: 0.8624 - val_accuracy: 0.8989 - val_loss: 0.4869\n",
      "Epoch 47/1000\n",
      "\u001B[1m28/30\u001B[0m \u001B[32m━━━━━━━━━━━━━━━━━━\u001B[0m\u001B[37m━━\u001B[0m \u001B[1m0s\u001B[0m 2ms/step - accuracy: 0.6807 - loss: 0.8601 \n",
      "Epoch 47: saving model to model/keypoint_classifier/keypoint_classifier.keras\n",
      "\u001B[1m30/30\u001B[0m \u001B[32m━━━━━━━━━━━━━━━━━━━━\u001B[0m\u001B[37m\u001B[0m \u001B[1m0s\u001B[0m 6ms/step - accuracy: 0.6804 - loss: 0.8609 - val_accuracy: 0.8877 - val_loss: 0.4968\n",
      "Epoch 48/1000\n",
      "\u001B[1m24/30\u001B[0m \u001B[32m━━━━━━━━━━━━━━━━\u001B[0m\u001B[37m━━━━\u001B[0m \u001B[1m0s\u001B[0m 2ms/step - accuracy: 0.6737 - loss: 0.8565 \n",
      "Epoch 48: saving model to model/keypoint_classifier/keypoint_classifier.keras\n",
      "\u001B[1m30/30\u001B[0m \u001B[32m━━━━━━━━━━━━━━━━━━━━\u001B[0m\u001B[37m\u001B[0m \u001B[1m0s\u001B[0m 6ms/step - accuracy: 0.6755 - loss: 0.8541 - val_accuracy: 0.8909 - val_loss: 0.4889\n",
      "Epoch 49/1000\n",
      "\u001B[1m26/30\u001B[0m \u001B[32m━━━━━━━━━━━━━━━━━\u001B[0m\u001B[37m━━━\u001B[0m \u001B[1m0s\u001B[0m 2ms/step - accuracy: 0.6937 - loss: 0.8510 \n",
      "Epoch 49: saving model to model/keypoint_classifier/keypoint_classifier.keras\n",
      "\u001B[1m30/30\u001B[0m \u001B[32m━━━━━━━━━━━━━━━━━━━━\u001B[0m\u001B[37m\u001B[0m \u001B[1m0s\u001B[0m 7ms/step - accuracy: 0.6946 - loss: 0.8489 - val_accuracy: 0.9005 - val_loss: 0.4786\n",
      "Epoch 50/1000\n",
      "\u001B[1m24/30\u001B[0m \u001B[32m━━━━━━━━━━━━━━━━\u001B[0m\u001B[37m━━━━\u001B[0m \u001B[1m0s\u001B[0m 2ms/step - accuracy: 0.6784 - loss: 0.8627 \n",
      "Epoch 50: saving model to model/keypoint_classifier/keypoint_classifier.keras\n",
      "\u001B[1m30/30\u001B[0m \u001B[32m━━━━━━━━━━━━━━━━━━━━\u001B[0m\u001B[37m\u001B[0m \u001B[1m0s\u001B[0m 7ms/step - accuracy: 0.6800 - loss: 0.8593 - val_accuracy: 0.8869 - val_loss: 0.4816\n",
      "Epoch 51/1000\n",
      "\u001B[1m25/30\u001B[0m \u001B[32m━━━━━━━━━━━━━━━━\u001B[0m\u001B[37m━━━━\u001B[0m \u001B[1m0s\u001B[0m 2ms/step - accuracy: 0.6802 - loss: 0.8553 \n",
      "Epoch 51: saving model to model/keypoint_classifier/keypoint_classifier.keras\n",
      "\u001B[1m30/30\u001B[0m \u001B[32m━━━━━━━━━━━━━━━━━━━━\u001B[0m\u001B[37m\u001B[0m \u001B[1m0s\u001B[0m 6ms/step - accuracy: 0.6813 - loss: 0.8560 - val_accuracy: 0.8989 - val_loss: 0.4753\n",
      "Epoch 52/1000\n",
      "\u001B[1m28/30\u001B[0m \u001B[32m━━━━━━━━━━━━━━━━━━\u001B[0m\u001B[37m━━\u001B[0m \u001B[1m0s\u001B[0m 2ms/step - accuracy: 0.6945 - loss: 0.8375 \n",
      "Epoch 52: saving model to model/keypoint_classifier/keypoint_classifier.keras\n",
      "\u001B[1m30/30\u001B[0m \u001B[32m━━━━━━━━━━━━━━━━━━━━\u001B[0m\u001B[37m\u001B[0m \u001B[1m0s\u001B[0m 8ms/step - accuracy: 0.6939 - loss: 0.8384 - val_accuracy: 0.8957 - val_loss: 0.4702\n",
      "Epoch 53/1000\n",
      "\u001B[1m29/30\u001B[0m \u001B[32m━━━━━━━━━━━━━━━━━━━\u001B[0m\u001B[37m━\u001B[0m \u001B[1m0s\u001B[0m 2ms/step - accuracy: 0.6875 - loss: 0.8486 \n",
      "Epoch 53: saving model to model/keypoint_classifier/keypoint_classifier.keras\n",
      "\u001B[1m30/30\u001B[0m \u001B[32m━━━━━━━━━━━━━━━━━━━━\u001B[0m\u001B[37m\u001B[0m \u001B[1m0s\u001B[0m 6ms/step - accuracy: 0.6878 - loss: 0.8480 - val_accuracy: 0.8925 - val_loss: 0.4634\n",
      "Epoch 54/1000\n",
      "\u001B[1m28/30\u001B[0m \u001B[32m━━━━━━━━━━━━━━━━━━\u001B[0m\u001B[37m━━\u001B[0m \u001B[1m0s\u001B[0m 2ms/step - accuracy: 0.6890 - loss: 0.8478 \n",
      "Epoch 54: saving model to model/keypoint_classifier/keypoint_classifier.keras\n",
      "\u001B[1m30/30\u001B[0m \u001B[32m━━━━━━━━━━━━━━━━━━━━\u001B[0m\u001B[37m\u001B[0m \u001B[1m0s\u001B[0m 6ms/step - accuracy: 0.6884 - loss: 0.8480 - val_accuracy: 0.8925 - val_loss: 0.4648\n",
      "Epoch 55/1000\n",
      "\u001B[1m29/30\u001B[0m \u001B[32m━━━━━━━━━━━━━━━━━━━\u001B[0m\u001B[37m━\u001B[0m \u001B[1m0s\u001B[0m 2ms/step - accuracy: 0.6788 - loss: 0.8463 \n",
      "Epoch 55: saving model to model/keypoint_classifier/keypoint_classifier.keras\n",
      "\u001B[1m30/30\u001B[0m \u001B[32m━━━━━━━━━━━━━━━━━━━━\u001B[0m\u001B[37m\u001B[0m \u001B[1m0s\u001B[0m 7ms/step - accuracy: 0.6794 - loss: 0.8456 - val_accuracy: 0.8901 - val_loss: 0.4662\n",
      "Epoch 56/1000\n",
      "\u001B[1m25/30\u001B[0m \u001B[32m━━━━━━━━━━━━━━━━\u001B[0m\u001B[37m━━━━\u001B[0m \u001B[1m0s\u001B[0m 2ms/step - accuracy: 0.6885 - loss: 0.8253 \n",
      "Epoch 56: saving model to model/keypoint_classifier/keypoint_classifier.keras\n",
      "\u001B[1m30/30\u001B[0m \u001B[32m━━━━━━━━━━━━━━━━━━━━\u001B[0m\u001B[37m\u001B[0m \u001B[1m0s\u001B[0m 7ms/step - accuracy: 0.6894 - loss: 0.8246 - val_accuracy: 0.9013 - val_loss: 0.4501\n",
      "Epoch 57/1000\n",
      "\u001B[1m28/30\u001B[0m \u001B[32m━━━━━━━━━━━━━━━━━━\u001B[0m\u001B[37m━━\u001B[0m \u001B[1m0s\u001B[0m 2ms/step - accuracy: 0.6907 - loss: 0.8158 \n",
      "Epoch 57: saving model to model/keypoint_classifier/keypoint_classifier.keras\n",
      "\u001B[1m30/30\u001B[0m \u001B[32m━━━━━━━━━━━━━━━━━━━━\u001B[0m\u001B[37m\u001B[0m \u001B[1m0s\u001B[0m 6ms/step - accuracy: 0.6911 - loss: 0.8167 - val_accuracy: 0.8965 - val_loss: 0.4438\n",
      "Epoch 58/1000\n",
      "\u001B[1m28/30\u001B[0m \u001B[32m━━━━━━━━━━━━━━━━━━\u001B[0m\u001B[37m━━\u001B[0m \u001B[1m0s\u001B[0m 2ms/step - accuracy: 0.7099 - loss: 0.8037 \n",
      "Epoch 58: saving model to model/keypoint_classifier/keypoint_classifier.keras\n",
      "\u001B[1m30/30\u001B[0m \u001B[32m━━━━━━━━━━━━━━━━━━━━\u001B[0m\u001B[37m\u001B[0m \u001B[1m0s\u001B[0m 8ms/step - accuracy: 0.7091 - loss: 0.8066 - val_accuracy: 0.9045 - val_loss: 0.4463\n",
      "Epoch 59/1000\n",
      "\u001B[1m26/30\u001B[0m \u001B[32m━━━━━━━━━━━━━━━━━\u001B[0m\u001B[37m━━━\u001B[0m \u001B[1m0s\u001B[0m 2ms/step - accuracy: 0.6937 - loss: 0.8173 \n",
      "Epoch 59: saving model to model/keypoint_classifier/keypoint_classifier.keras\n",
      "\u001B[1m30/30\u001B[0m \u001B[32m━━━━━━━━━━━━━━━━━━━━\u001B[0m\u001B[37m\u001B[0m \u001B[1m0s\u001B[0m 7ms/step - accuracy: 0.6934 - loss: 0.8196 - val_accuracy: 0.8893 - val_loss: 0.4584\n",
      "Epoch 60/1000\n",
      "\u001B[1m27/30\u001B[0m \u001B[32m━━━━━━━━━━━━━━━━━━\u001B[0m\u001B[37m━━\u001B[0m \u001B[1m0s\u001B[0m 2ms/step - accuracy: 0.7021 - loss: 0.8372 \n",
      "Epoch 60: saving model to model/keypoint_classifier/keypoint_classifier.keras\n",
      "\u001B[1m30/30\u001B[0m \u001B[32m━━━━━━━━━━━━━━━━━━━━\u001B[0m\u001B[37m\u001B[0m \u001B[1m0s\u001B[0m 8ms/step - accuracy: 0.7031 - loss: 0.8340 - val_accuracy: 0.8981 - val_loss: 0.4475\n",
      "Epoch 61/1000\n",
      "\u001B[1m28/30\u001B[0m \u001B[32m━━━━━━━━━━━━━━━━━━\u001B[0m\u001B[37m━━\u001B[0m \u001B[1m0s\u001B[0m 2ms/step - accuracy: 0.6943 - loss: 0.8209 \n",
      "Epoch 61: saving model to model/keypoint_classifier/keypoint_classifier.keras\n",
      "\u001B[1m30/30\u001B[0m \u001B[32m━━━━━━━━━━━━━━━━━━━━\u001B[0m\u001B[37m\u001B[0m \u001B[1m0s\u001B[0m 6ms/step - accuracy: 0.6946 - loss: 0.8216 - val_accuracy: 0.9053 - val_loss: 0.4460\n",
      "Epoch 62/1000\n",
      "\u001B[1m26/30\u001B[0m \u001B[32m━━━━━━━━━━━━━━━━━\u001B[0m\u001B[37m━━━\u001B[0m \u001B[1m0s\u001B[0m 2ms/step - accuracy: 0.7074 - loss: 0.8034 \n",
      "Epoch 62: saving model to model/keypoint_classifier/keypoint_classifier.keras\n",
      "\u001B[1m30/30\u001B[0m \u001B[32m━━━━━━━━━━━━━━━━━━━━\u001B[0m\u001B[37m\u001B[0m \u001B[1m0s\u001B[0m 7ms/step - accuracy: 0.7059 - loss: 0.8055 - val_accuracy: 0.9084 - val_loss: 0.4408\n",
      "Epoch 63/1000\n",
      "\u001B[1m29/30\u001B[0m \u001B[32m━━━━━━━━━━━━━━━━━━━\u001B[0m\u001B[37m━\u001B[0m \u001B[1m0s\u001B[0m 2ms/step - accuracy: 0.7065 - loss: 0.8166 \n",
      "Epoch 63: saving model to model/keypoint_classifier/keypoint_classifier.keras\n",
      "\u001B[1m30/30\u001B[0m \u001B[32m━━━━━━━━━━━━━━━━━━━━\u001B[0m\u001B[37m\u001B[0m \u001B[1m0s\u001B[0m 7ms/step - accuracy: 0.7067 - loss: 0.8159 - val_accuracy: 0.8909 - val_loss: 0.4348\n",
      "Epoch 64/1000\n",
      "\u001B[1m25/30\u001B[0m \u001B[32m━━━━━━━━━━━━━━━━\u001B[0m\u001B[37m━━━━\u001B[0m \u001B[1m0s\u001B[0m 2ms/step - accuracy: 0.6804 - loss: 0.8457 \n",
      "Epoch 64: saving model to model/keypoint_classifier/keypoint_classifier.keras\n",
      "\u001B[1m30/30\u001B[0m \u001B[32m━━━━━━━━━━━━━━━━━━━━\u001B[0m\u001B[37m\u001B[0m \u001B[1m0s\u001B[0m 6ms/step - accuracy: 0.6838 - loss: 0.8415 - val_accuracy: 0.9013 - val_loss: 0.4356\n",
      "Epoch 65/1000\n",
      "\u001B[1m28/30\u001B[0m \u001B[32m━━━━━━━━━━━━━━━━━━\u001B[0m\u001B[37m━━\u001B[0m \u001B[1m0s\u001B[0m 2ms/step - accuracy: 0.7175 - loss: 0.8035 \n",
      "Epoch 65: saving model to model/keypoint_classifier/keypoint_classifier.keras\n",
      "\u001B[1m30/30\u001B[0m \u001B[32m━━━━━━━━━━━━━━━━━━━━\u001B[0m\u001B[37m\u001B[0m \u001B[1m0s\u001B[0m 6ms/step - accuracy: 0.7166 - loss: 0.8043 - val_accuracy: 0.9061 - val_loss: 0.4300\n",
      "Epoch 66/1000\n",
      "\u001B[1m28/30\u001B[0m \u001B[32m━━━━━━━━━━━━━━━━━━\u001B[0m\u001B[37m━━\u001B[0m \u001B[1m0s\u001B[0m 2ms/step - accuracy: 0.7152 - loss: 0.8048 \n",
      "Epoch 66: saving model to model/keypoint_classifier/keypoint_classifier.keras\n",
      "\u001B[1m30/30\u001B[0m \u001B[32m━━━━━━━━━━━━━━━━━━━━\u001B[0m\u001B[37m\u001B[0m \u001B[1m0s\u001B[0m 7ms/step - accuracy: 0.7138 - loss: 0.8059 - val_accuracy: 0.9148 - val_loss: 0.4304\n",
      "Epoch 67/1000\n",
      "\u001B[1m29/30\u001B[0m \u001B[32m━━━━━━━━━━━━━━━━━━━\u001B[0m\u001B[37m━\u001B[0m \u001B[1m0s\u001B[0m 2ms/step - accuracy: 0.7115 - loss: 0.8030 \n",
      "Epoch 67: saving model to model/keypoint_classifier/keypoint_classifier.keras\n",
      "\u001B[1m30/30\u001B[0m \u001B[32m━━━━━━━━━━━━━━━━━━━━\u001B[0m\u001B[37m\u001B[0m \u001B[1m0s\u001B[0m 6ms/step - accuracy: 0.7112 - loss: 0.8028 - val_accuracy: 0.9196 - val_loss: 0.4197\n",
      "Epoch 68/1000\n",
      "\u001B[1m27/30\u001B[0m \u001B[32m━━━━━━━━━━━━━━━━━━\u001B[0m\u001B[37m━━\u001B[0m \u001B[1m0s\u001B[0m 2ms/step - accuracy: 0.7201 - loss: 0.7781 \n",
      "Epoch 68: saving model to model/keypoint_classifier/keypoint_classifier.keras\n",
      "\u001B[1m30/30\u001B[0m \u001B[32m━━━━━━━━━━━━━━━━━━━━\u001B[0m\u001B[37m\u001B[0m \u001B[1m0s\u001B[0m 6ms/step - accuracy: 0.7196 - loss: 0.7788 - val_accuracy: 0.9188 - val_loss: 0.4123\n",
      "Epoch 69/1000\n",
      "\u001B[1m28/30\u001B[0m \u001B[32m━━━━━━━━━━━━━━━━━━\u001B[0m\u001B[37m━━\u001B[0m \u001B[1m0s\u001B[0m 2ms/step - accuracy: 0.6993 - loss: 0.8174 \n",
      "Epoch 69: saving model to model/keypoint_classifier/keypoint_classifier.keras\n",
      "\u001B[1m30/30\u001B[0m \u001B[32m━━━━━━━━━━━━━━━━━━━━\u001B[0m\u001B[37m\u001B[0m \u001B[1m0s\u001B[0m 6ms/step - accuracy: 0.6994 - loss: 0.8174 - val_accuracy: 0.8989 - val_loss: 0.4268\n",
      "Epoch 70/1000\n",
      "\u001B[1m26/30\u001B[0m \u001B[32m━━━━━━━━━━━━━━━━━\u001B[0m\u001B[37m━━━\u001B[0m \u001B[1m0s\u001B[0m 2ms/step - accuracy: 0.7082 - loss: 0.8174 \n",
      "Epoch 70: saving model to model/keypoint_classifier/keypoint_classifier.keras\n",
      "\u001B[1m30/30\u001B[0m \u001B[32m━━━━━━━━━━━━━━━━━━━━\u001B[0m\u001B[37m\u001B[0m \u001B[1m0s\u001B[0m 6ms/step - accuracy: 0.7080 - loss: 0.8167 - val_accuracy: 0.9108 - val_loss: 0.4171\n",
      "Epoch 71/1000\n",
      "\u001B[1m27/30\u001B[0m \u001B[32m━━━━━━━━━━━━━━━━━━\u001B[0m\u001B[37m━━\u001B[0m \u001B[1m0s\u001B[0m 2ms/step - accuracy: 0.7169 - loss: 0.7857 \n",
      "Epoch 71: saving model to model/keypoint_classifier/keypoint_classifier.keras\n",
      "\u001B[1m30/30\u001B[0m \u001B[32m━━━━━━━━━━━━━━━━━━━━\u001B[0m\u001B[37m\u001B[0m \u001B[1m0s\u001B[0m 7ms/step - accuracy: 0.7166 - loss: 0.7851 - val_accuracy: 0.9204 - val_loss: 0.4055\n",
      "Epoch 72/1000\n",
      "\u001B[1m28/30\u001B[0m \u001B[32m━━━━━━━━━━━━━━━━━━\u001B[0m\u001B[37m━━\u001B[0m \u001B[1m0s\u001B[0m 2ms/step - accuracy: 0.7177 - loss: 0.7973 \n",
      "Epoch 72: saving model to model/keypoint_classifier/keypoint_classifier.keras\n",
      "\u001B[1m30/30\u001B[0m \u001B[32m━━━━━━━━━━━━━━━━━━━━\u001B[0m\u001B[37m\u001B[0m \u001B[1m0s\u001B[0m 6ms/step - accuracy: 0.7184 - loss: 0.7952 - val_accuracy: 0.9156 - val_loss: 0.4091\n",
      "Epoch 73/1000\n",
      "\u001B[1m26/30\u001B[0m \u001B[32m━━━━━━━━━━━━━━━━━\u001B[0m\u001B[37m━━━\u001B[0m \u001B[1m0s\u001B[0m 2ms/step - accuracy: 0.7120 - loss: 0.7787 \n",
      "Epoch 73: saving model to model/keypoint_classifier/keypoint_classifier.keras\n",
      "\u001B[1m30/30\u001B[0m \u001B[32m━━━━━━━━━━━━━━━━━━━━\u001B[0m\u001B[37m\u001B[0m \u001B[1m0s\u001B[0m 6ms/step - accuracy: 0.7120 - loss: 0.7800 - val_accuracy: 0.9204 - val_loss: 0.4080\n",
      "Epoch 74/1000\n",
      "\u001B[1m28/30\u001B[0m \u001B[32m━━━━━━━━━━━━━━━━━━\u001B[0m\u001B[37m━━\u001B[0m \u001B[1m0s\u001B[0m 2ms/step - accuracy: 0.7388 - loss: 0.7512 \n",
      "Epoch 74: saving model to model/keypoint_classifier/keypoint_classifier.keras\n",
      "\u001B[1m30/30\u001B[0m \u001B[32m━━━━━━━━━━━━━━━━━━━━\u001B[0m\u001B[37m\u001B[0m \u001B[1m0s\u001B[0m 6ms/step - accuracy: 0.7371 - loss: 0.7542 - val_accuracy: 0.9212 - val_loss: 0.4008\n",
      "Epoch 75/1000\n",
      "\u001B[1m25/30\u001B[0m \u001B[32m━━━━━━━━━━━━━━━━\u001B[0m\u001B[37m━━━━\u001B[0m \u001B[1m0s\u001B[0m 2ms/step - accuracy: 0.7275 - loss: 0.7648 \n",
      "Epoch 75: saving model to model/keypoint_classifier/keypoint_classifier.keras\n",
      "\u001B[1m30/30\u001B[0m \u001B[32m━━━━━━━━━━━━━━━━━━━━\u001B[0m\u001B[37m\u001B[0m \u001B[1m0s\u001B[0m 6ms/step - accuracy: 0.7270 - loss: 0.7655 - val_accuracy: 0.9212 - val_loss: 0.4019\n",
      "Epoch 76/1000\n",
      "\u001B[1m28/30\u001B[0m \u001B[32m━━━━━━━━━━━━━━━━━━\u001B[0m\u001B[37m━━\u001B[0m \u001B[1m0s\u001B[0m 2ms/step - accuracy: 0.7079 - loss: 0.8135 \n",
      "Epoch 76: saving model to model/keypoint_classifier/keypoint_classifier.keras\n",
      "\u001B[1m30/30\u001B[0m \u001B[32m━━━━━━━━━━━━━━━━━━━━\u001B[0m\u001B[37m\u001B[0m \u001B[1m0s\u001B[0m 7ms/step - accuracy: 0.7086 - loss: 0.8130 - val_accuracy: 0.9156 - val_loss: 0.4080\n",
      "Epoch 77/1000\n",
      "\u001B[1m28/30\u001B[0m \u001B[32m━━━━━━━━━━━━━━━━━━\u001B[0m\u001B[37m━━\u001B[0m \u001B[1m0s\u001B[0m 2ms/step - accuracy: 0.7242 - loss: 0.7897 \n",
      "Epoch 77: saving model to model/keypoint_classifier/keypoint_classifier.keras\n",
      "\u001B[1m30/30\u001B[0m \u001B[32m━━━━━━━━━━━━━━━━━━━━\u001B[0m\u001B[37m\u001B[0m \u001B[1m0s\u001B[0m 6ms/step - accuracy: 0.7241 - loss: 0.7885 - val_accuracy: 0.9244 - val_loss: 0.4007\n",
      "Epoch 78/1000\n",
      "\u001B[1m28/30\u001B[0m \u001B[32m━━━━━━━━━━━━━━━━━━\u001B[0m\u001B[37m━━\u001B[0m \u001B[1m0s\u001B[0m 2ms/step - accuracy: 0.7239 - loss: 0.7709 \n",
      "Epoch 78: saving model to model/keypoint_classifier/keypoint_classifier.keras\n",
      "\u001B[1m30/30\u001B[0m \u001B[32m━━━━━━━━━━━━━━━━━━━━\u001B[0m\u001B[37m\u001B[0m \u001B[1m0s\u001B[0m 6ms/step - accuracy: 0.7231 - loss: 0.7734 - val_accuracy: 0.9252 - val_loss: 0.4015\n",
      "Epoch 79/1000\n",
      "\u001B[1m29/30\u001B[0m \u001B[32m━━━━━━━━━━━━━━━━━━━\u001B[0m\u001B[37m━\u001B[0m \u001B[1m0s\u001B[0m 2ms/step - accuracy: 0.7272 - loss: 0.7701 \n",
      "Epoch 79: saving model to model/keypoint_classifier/keypoint_classifier.keras\n",
      "\u001B[1m30/30\u001B[0m \u001B[32m━━━━━━━━━━━━━━━━━━━━\u001B[0m\u001B[37m\u001B[0m \u001B[1m0s\u001B[0m 6ms/step - accuracy: 0.7268 - loss: 0.7719 - val_accuracy: 0.9244 - val_loss: 0.4024\n",
      "Epoch 80/1000\n",
      "\u001B[1m27/30\u001B[0m \u001B[32m━━━━━━━━━━━━━━━━━━\u001B[0m\u001B[37m━━\u001B[0m \u001B[1m0s\u001B[0m 2ms/step - accuracy: 0.7307 - loss: 0.7708 \n",
      "Epoch 80: saving model to model/keypoint_classifier/keypoint_classifier.keras\n",
      "\u001B[1m30/30\u001B[0m \u001B[32m━━━━━━━━━━━━━━━━━━━━\u001B[0m\u001B[37m\u001B[0m \u001B[1m0s\u001B[0m 6ms/step - accuracy: 0.7294 - loss: 0.7726 - val_accuracy: 0.9228 - val_loss: 0.3894\n",
      "Epoch 81/1000\n",
      "\u001B[1m26/30\u001B[0m \u001B[32m━━━━━━━━━━━━━━━━━\u001B[0m\u001B[37m━━━\u001B[0m \u001B[1m0s\u001B[0m 2ms/step - accuracy: 0.7129 - loss: 0.7870 \n",
      "Epoch 81: saving model to model/keypoint_classifier/keypoint_classifier.keras\n",
      "\u001B[1m30/30\u001B[0m \u001B[32m━━━━━━━━━━━━━━━━━━━━\u001B[0m\u001B[37m\u001B[0m \u001B[1m0s\u001B[0m 8ms/step - accuracy: 0.7127 - loss: 0.7884 - val_accuracy: 0.9331 - val_loss: 0.3909\n",
      "Epoch 82/1000\n",
      "\u001B[1m27/30\u001B[0m \u001B[32m━━━━━━━━━━━━━━━━━━\u001B[0m\u001B[37m━━\u001B[0m \u001B[1m0s\u001B[0m 2ms/step - accuracy: 0.7226 - loss: 0.7847 \n",
      "Epoch 82: saving model to model/keypoint_classifier/keypoint_classifier.keras\n",
      "\u001B[1m30/30\u001B[0m \u001B[32m━━━━━━━━━━━━━━━━━━━━\u001B[0m\u001B[37m\u001B[0m \u001B[1m0s\u001B[0m 7ms/step - accuracy: 0.7236 - loss: 0.7845 - val_accuracy: 0.9244 - val_loss: 0.3870\n",
      "Epoch 83/1000\n",
      "\u001B[1m27/30\u001B[0m \u001B[32m━━━━━━━━━━━━━━━━━━\u001B[0m\u001B[37m━━\u001B[0m \u001B[1m0s\u001B[0m 2ms/step - accuracy: 0.7303 - loss: 0.7705 \n",
      "Epoch 83: saving model to model/keypoint_classifier/keypoint_classifier.keras\n",
      "\u001B[1m30/30\u001B[0m \u001B[32m━━━━━━━━━━━━━━━━━━━━\u001B[0m\u001B[37m\u001B[0m \u001B[1m0s\u001B[0m 6ms/step - accuracy: 0.7297 - loss: 0.7714 - val_accuracy: 0.9188 - val_loss: 0.3916\n",
      "Epoch 84/1000\n",
      "\u001B[1m28/30\u001B[0m \u001B[32m━━━━━━━━━━━━━━━━━━\u001B[0m\u001B[37m━━\u001B[0m \u001B[1m0s\u001B[0m 2ms/step - accuracy: 0.7260 - loss: 0.7753 \n",
      "Epoch 84: saving model to model/keypoint_classifier/keypoint_classifier.keras\n",
      "\u001B[1m30/30\u001B[0m \u001B[32m━━━━━━━━━━━━━━━━━━━━\u001B[0m\u001B[37m\u001B[0m \u001B[1m0s\u001B[0m 8ms/step - accuracy: 0.7258 - loss: 0.7750 - val_accuracy: 0.9283 - val_loss: 0.3949\n",
      "Epoch 85/1000\n",
      "\u001B[1m28/30\u001B[0m \u001B[32m━━━━━━━━━━━━━━━━━━\u001B[0m\u001B[37m━━\u001B[0m \u001B[1m0s\u001B[0m 2ms/step - accuracy: 0.7286 - loss: 0.7715 \n",
      "Epoch 85: saving model to model/keypoint_classifier/keypoint_classifier.keras\n",
      "\u001B[1m30/30\u001B[0m \u001B[32m━━━━━━━━━━━━━━━━━━━━\u001B[0m\u001B[37m\u001B[0m \u001B[1m0s\u001B[0m 7ms/step - accuracy: 0.7285 - loss: 0.7714 - val_accuracy: 0.9355 - val_loss: 0.3854\n",
      "Epoch 86/1000\n",
      "\u001B[1m23/30\u001B[0m \u001B[32m━━━━━━━━━━━━━━━\u001B[0m\u001B[37m━━━━━\u001B[0m \u001B[1m0s\u001B[0m 2ms/step - accuracy: 0.7259 - loss: 0.7724 \n",
      "Epoch 86: saving model to model/keypoint_classifier/keypoint_classifier.keras\n",
      "\u001B[1m30/30\u001B[0m \u001B[32m━━━━━━━━━━━━━━━━━━━━\u001B[0m\u001B[37m\u001B[0m \u001B[1m0s\u001B[0m 7ms/step - accuracy: 0.7270 - loss: 0.7661 - val_accuracy: 0.9252 - val_loss: 0.3827\n",
      "Epoch 87/1000\n",
      "\u001B[1m27/30\u001B[0m \u001B[32m━━━━━━━━━━━━━━━━━━\u001B[0m\u001B[37m━━\u001B[0m \u001B[1m0s\u001B[0m 2ms/step - accuracy: 0.7384 - loss: 0.7536 \n",
      "Epoch 87: saving model to model/keypoint_classifier/keypoint_classifier.keras\n",
      "\u001B[1m30/30\u001B[0m \u001B[32m━━━━━━━━━━━━━━━━━━━━\u001B[0m\u001B[37m\u001B[0m \u001B[1m0s\u001B[0m 7ms/step - accuracy: 0.7365 - loss: 0.7557 - val_accuracy: 0.9260 - val_loss: 0.3915\n",
      "Epoch 88/1000\n",
      "\u001B[1m28/30\u001B[0m \u001B[32m━━━━━━━━━━━━━━━━━━\u001B[0m\u001B[37m━━\u001B[0m \u001B[1m0s\u001B[0m 2ms/step - accuracy: 0.6970 - loss: 0.7877 \n",
      "Epoch 88: saving model to model/keypoint_classifier/keypoint_classifier.keras\n",
      "\u001B[1m30/30\u001B[0m \u001B[32m━━━━━━━━━━━━━━━━━━━━\u001B[0m\u001B[37m\u001B[0m \u001B[1m0s\u001B[0m 7ms/step - accuracy: 0.6990 - loss: 0.7854 - val_accuracy: 0.9307 - val_loss: 0.3727\n",
      "Epoch 89/1000\n",
      "\u001B[1m27/30\u001B[0m \u001B[32m━━━━━━━━━━━━━━━━━━\u001B[0m\u001B[37m━━\u001B[0m \u001B[1m0s\u001B[0m 2ms/step - accuracy: 0.7185 - loss: 0.7792 \n",
      "Epoch 89: saving model to model/keypoint_classifier/keypoint_classifier.keras\n",
      "\u001B[1m30/30\u001B[0m \u001B[32m━━━━━━━━━━━━━━━━━━━━\u001B[0m\u001B[37m\u001B[0m \u001B[1m0s\u001B[0m 7ms/step - accuracy: 0.7187 - loss: 0.7784 - val_accuracy: 0.9371 - val_loss: 0.3829\n",
      "Epoch 90/1000\n",
      "\u001B[1m28/30\u001B[0m \u001B[32m━━━━━━━━━━━━━━━━━━\u001B[0m\u001B[37m━━\u001B[0m \u001B[1m0s\u001B[0m 2ms/step - accuracy: 0.7343 - loss: 0.7532 \n",
      "Epoch 90: saving model to model/keypoint_classifier/keypoint_classifier.keras\n",
      "\u001B[1m30/30\u001B[0m \u001B[32m━━━━━━━━━━━━━━━━━━━━\u001B[0m\u001B[37m\u001B[0m \u001B[1m0s\u001B[0m 7ms/step - accuracy: 0.7340 - loss: 0.7542 - val_accuracy: 0.9268 - val_loss: 0.3755\n",
      "Epoch 91/1000\n",
      "\u001B[1m26/30\u001B[0m \u001B[32m━━━━━━━━━━━━━━━━━\u001B[0m\u001B[37m━━━\u001B[0m \u001B[1m0s\u001B[0m 2ms/step - accuracy: 0.7263 - loss: 0.7586 \n",
      "Epoch 91: saving model to model/keypoint_classifier/keypoint_classifier.keras\n",
      "\u001B[1m30/30\u001B[0m \u001B[32m━━━━━━━━━━━━━━━━━━━━\u001B[0m\u001B[37m\u001B[0m \u001B[1m0s\u001B[0m 7ms/step - accuracy: 0.7263 - loss: 0.7600 - val_accuracy: 0.9331 - val_loss: 0.3772\n",
      "Epoch 92/1000\n",
      "\u001B[1m27/30\u001B[0m \u001B[32m━━━━━━━━━━━━━━━━━━\u001B[0m\u001B[37m━━\u001B[0m \u001B[1m0s\u001B[0m 2ms/step - accuracy: 0.7397 - loss: 0.7290 \n",
      "Epoch 92: saving model to model/keypoint_classifier/keypoint_classifier.keras\n",
      "\u001B[1m30/30\u001B[0m \u001B[32m━━━━━━━━━━━━━━━━━━━━\u001B[0m\u001B[37m\u001B[0m \u001B[1m0s\u001B[0m 6ms/step - accuracy: 0.7401 - loss: 0.7297 - val_accuracy: 0.9323 - val_loss: 0.3738\n",
      "Epoch 93/1000\n",
      "\u001B[1m28/30\u001B[0m \u001B[32m━━━━━━━━━━━━━━━━━━\u001B[0m\u001B[37m━━\u001B[0m \u001B[1m0s\u001B[0m 2ms/step - accuracy: 0.7272 - loss: 0.7836 \n",
      "Epoch 93: saving model to model/keypoint_classifier/keypoint_classifier.keras\n",
      "\u001B[1m30/30\u001B[0m \u001B[32m━━━━━━━━━━━━━━━━━━━━\u001B[0m\u001B[37m\u001B[0m \u001B[1m0s\u001B[0m 6ms/step - accuracy: 0.7269 - loss: 0.7834 - val_accuracy: 0.9355 - val_loss: 0.3733\n",
      "Epoch 94/1000\n",
      "\u001B[1m28/30\u001B[0m \u001B[32m━━━━━━━━━━━━━━━━━━\u001B[0m\u001B[37m━━\u001B[0m \u001B[1m0s\u001B[0m 2ms/step - accuracy: 0.7304 - loss: 0.7637 \n",
      "Epoch 94: saving model to model/keypoint_classifier/keypoint_classifier.keras\n",
      "\u001B[1m30/30\u001B[0m \u001B[32m━━━━━━━━━━━━━━━━━━━━\u001B[0m\u001B[37m\u001B[0m \u001B[1m0s\u001B[0m 6ms/step - accuracy: 0.7305 - loss: 0.7631 - val_accuracy: 0.9315 - val_loss: 0.3695\n",
      "Epoch 95/1000\n",
      "\u001B[1m28/30\u001B[0m \u001B[32m━━━━━━━━━━━━━━━━━━\u001B[0m\u001B[37m━━\u001B[0m \u001B[1m0s\u001B[0m 2ms/step - accuracy: 0.7357 - loss: 0.7399 \n",
      "Epoch 95: saving model to model/keypoint_classifier/keypoint_classifier.keras\n",
      "\u001B[1m30/30\u001B[0m \u001B[32m━━━━━━━━━━━━━━━━━━━━\u001B[0m\u001B[37m\u001B[0m \u001B[1m0s\u001B[0m 7ms/step - accuracy: 0.7356 - loss: 0.7396 - val_accuracy: 0.9283 - val_loss: 0.3609\n",
      "Epoch 96/1000\n",
      "\u001B[1m 1/30\u001B[0m \u001B[37m━━━━━━━━━━━━━━━━━━━━\u001B[0m \u001B[1m1s\u001B[0m 47ms/step - accuracy: 0.7188 - loss: 0.8106\n",
      "Epoch 96: saving model to model/keypoint_classifier/keypoint_classifier.keras\n",
      "\u001B[1m30/30\u001B[0m \u001B[32m━━━━━━━━━━━━━━━━━━━━\u001B[0m\u001B[37m\u001B[0m \u001B[1m0s\u001B[0m 7ms/step - accuracy: 0.7278 - loss: 0.7550 - val_accuracy: 0.9355 - val_loss: 0.3717\n",
      "Epoch 97/1000\n",
      "\u001B[1m28/30\u001B[0m \u001B[32m━━━━━━━━━━━━━━━━━━\u001B[0m\u001B[37m━━\u001B[0m \u001B[1m0s\u001B[0m 2ms/step - accuracy: 0.7258 - loss: 0.7533 \n",
      "Epoch 97: saving model to model/keypoint_classifier/keypoint_classifier.keras\n",
      "\u001B[1m30/30\u001B[0m \u001B[32m━━━━━━━━━━━━━━━━━━━━\u001B[0m\u001B[37m\u001B[0m \u001B[1m0s\u001B[0m 6ms/step - accuracy: 0.7266 - loss: 0.7525 - val_accuracy: 0.9291 - val_loss: 0.3754\n",
      "Epoch 98/1000\n",
      "\u001B[1m28/30\u001B[0m \u001B[32m━━━━━━━━━━━━━━━━━━\u001B[0m\u001B[37m━━\u001B[0m \u001B[1m0s\u001B[0m 2ms/step - accuracy: 0.7276 - loss: 0.7443 \n",
      "Epoch 98: saving model to model/keypoint_classifier/keypoint_classifier.keras\n",
      "\u001B[1m30/30\u001B[0m \u001B[32m━━━━━━━━━━━━━━━━━━━━\u001B[0m\u001B[37m\u001B[0m \u001B[1m0s\u001B[0m 6ms/step - accuracy: 0.7280 - loss: 0.7442 - val_accuracy: 0.9315 - val_loss: 0.3712\n",
      "Epoch 99/1000\n",
      "\u001B[1m27/30\u001B[0m \u001B[32m━━━━━━━━━━━━━━━━━━\u001B[0m\u001B[37m━━\u001B[0m \u001B[1m0s\u001B[0m 2ms/step - accuracy: 0.7338 - loss: 0.7292 \n",
      "Epoch 99: saving model to model/keypoint_classifier/keypoint_classifier.keras\n",
      "\u001B[1m30/30\u001B[0m \u001B[32m━━━━━━━━━━━━━━━━━━━━\u001B[0m\u001B[37m\u001B[0m \u001B[1m0s\u001B[0m 7ms/step - accuracy: 0.7328 - loss: 0.7317 - val_accuracy: 0.9283 - val_loss: 0.3734\n",
      "Epoch 100/1000\n",
      "\u001B[1m27/30\u001B[0m \u001B[32m━━━━━━━━━━━━━━━━━━\u001B[0m\u001B[37m━━\u001B[0m \u001B[1m0s\u001B[0m 2ms/step - accuracy: 0.7421 - loss: 0.7074 \n",
      "Epoch 100: saving model to model/keypoint_classifier/keypoint_classifier.keras\n",
      "\u001B[1m30/30\u001B[0m \u001B[32m━━━━━━━━━━━━━━━━━━━━\u001B[0m\u001B[37m\u001B[0m \u001B[1m0s\u001B[0m 7ms/step - accuracy: 0.7401 - loss: 0.7119 - val_accuracy: 0.9363 - val_loss: 0.3632\n",
      "Epoch 101/1000\n",
      "\u001B[1m28/30\u001B[0m \u001B[32m━━━━━━━━━━━━━━━━━━\u001B[0m\u001B[37m━━\u001B[0m \u001B[1m0s\u001B[0m 2ms/step - accuracy: 0.7409 - loss: 0.7273 \n",
      "Epoch 101: saving model to model/keypoint_classifier/keypoint_classifier.keras\n",
      "\u001B[1m30/30\u001B[0m \u001B[32m━━━━━━━━━━━━━━━━━━━━\u001B[0m\u001B[37m\u001B[0m \u001B[1m0s\u001B[0m 6ms/step - accuracy: 0.7402 - loss: 0.7299 - val_accuracy: 0.9291 - val_loss: 0.3626\n",
      "Epoch 102/1000\n",
      "\u001B[1m26/30\u001B[0m \u001B[32m━━━━━━━━━━━━━━━━━\u001B[0m\u001B[37m━━━\u001B[0m \u001B[1m0s\u001B[0m 2ms/step - accuracy: 0.7343 - loss: 0.7493 \n",
      "Epoch 102: saving model to model/keypoint_classifier/keypoint_classifier.keras\n",
      "\u001B[1m30/30\u001B[0m \u001B[32m━━━━━━━━━━━━━━━━━━━━\u001B[0m\u001B[37m\u001B[0m \u001B[1m0s\u001B[0m 7ms/step - accuracy: 0.7351 - loss: 0.7477 - val_accuracy: 0.9379 - val_loss: 0.3649\n",
      "Epoch 103/1000\n",
      "\u001B[1m27/30\u001B[0m \u001B[32m━━━━━━━━━━━━━━━━━━\u001B[0m\u001B[37m━━\u001B[0m \u001B[1m0s\u001B[0m 2ms/step - accuracy: 0.7423 - loss: 0.7359 \n",
      "Epoch 103: saving model to model/keypoint_classifier/keypoint_classifier.keras\n",
      "\u001B[1m30/30\u001B[0m \u001B[32m━━━━━━━━━━━━━━━━━━━━\u001B[0m\u001B[37m\u001B[0m \u001B[1m0s\u001B[0m 6ms/step - accuracy: 0.7415 - loss: 0.7378 - val_accuracy: 0.9363 - val_loss: 0.3663\n",
      "Epoch 104/1000\n",
      "\u001B[1m27/30\u001B[0m \u001B[32m━━━━━━━━━━━━━━━━━━\u001B[0m\u001B[37m━━\u001B[0m \u001B[1m0s\u001B[0m 2ms/step - accuracy: 0.7460 - loss: 0.7246 \n",
      "Epoch 104: saving model to model/keypoint_classifier/keypoint_classifier.keras\n",
      "\u001B[1m30/30\u001B[0m \u001B[32m━━━━━━━━━━━━━━━━━━━━\u001B[0m\u001B[37m\u001B[0m \u001B[1m0s\u001B[0m 6ms/step - accuracy: 0.7458 - loss: 0.7266 - val_accuracy: 0.9291 - val_loss: 0.3685\n",
      "Epoch 105/1000\n",
      "\u001B[1m28/30\u001B[0m \u001B[32m━━━━━━━━━━━━━━━━━━\u001B[0m\u001B[37m━━\u001B[0m \u001B[1m0s\u001B[0m 2ms/step - accuracy: 0.7349 - loss: 0.7501 \n",
      "Epoch 105: saving model to model/keypoint_classifier/keypoint_classifier.keras\n",
      "\u001B[1m30/30\u001B[0m \u001B[32m━━━━━━━━━━━━━━━━━━━━\u001B[0m\u001B[37m\u001B[0m \u001B[1m0s\u001B[0m 6ms/step - accuracy: 0.7347 - loss: 0.7502 - val_accuracy: 0.9347 - val_loss: 0.3540\n",
      "Epoch 106/1000\n",
      "\u001B[1m27/30\u001B[0m \u001B[32m━━━━━━━━━━━━━━━━━━\u001B[0m\u001B[37m━━\u001B[0m \u001B[1m0s\u001B[0m 2ms/step - accuracy: 0.7553 - loss: 0.7256 \n",
      "Epoch 106: saving model to model/keypoint_classifier/keypoint_classifier.keras\n",
      "\u001B[1m30/30\u001B[0m \u001B[32m━━━━━━━━━━━━━━━━━━━━\u001B[0m\u001B[37m\u001B[0m \u001B[1m0s\u001B[0m 6ms/step - accuracy: 0.7541 - loss: 0.7267 - val_accuracy: 0.9283 - val_loss: 0.3635\n",
      "Epoch 107/1000\n",
      "\u001B[1m27/30\u001B[0m \u001B[32m━━━━━━━━━━━━━━━━━━\u001B[0m\u001B[37m━━\u001B[0m \u001B[1m0s\u001B[0m 2ms/step - accuracy: 0.7427 - loss: 0.7355 \n",
      "Epoch 107: saving model to model/keypoint_classifier/keypoint_classifier.keras\n",
      "\u001B[1m30/30\u001B[0m \u001B[32m━━━━━━━━━━━━━━━━━━━━\u001B[0m\u001B[37m\u001B[0m \u001B[1m0s\u001B[0m 6ms/step - accuracy: 0.7426 - loss: 0.7343 - val_accuracy: 0.9307 - val_loss: 0.3559\n",
      "Epoch 108/1000\n",
      "\u001B[1m28/30\u001B[0m \u001B[32m━━━━━━━━━━━━━━━━━━\u001B[0m\u001B[37m━━\u001B[0m \u001B[1m0s\u001B[0m 2ms/step - accuracy: 0.7357 - loss: 0.7410 \n",
      "Epoch 108: saving model to model/keypoint_classifier/keypoint_classifier.keras\n",
      "\u001B[1m30/30\u001B[0m \u001B[32m━━━━━━━━━━━━━━━━━━━━\u001B[0m\u001B[37m\u001B[0m \u001B[1m0s\u001B[0m 8ms/step - accuracy: 0.7365 - loss: 0.7396 - val_accuracy: 0.9395 - val_loss: 0.3499\n",
      "Epoch 109/1000\n",
      "\u001B[1m28/30\u001B[0m \u001B[32m━━━━━━━━━━━━━━━━━━\u001B[0m\u001B[37m━━\u001B[0m \u001B[1m0s\u001B[0m 2ms/step - accuracy: 0.7296 - loss: 0.7373 \n",
      "Epoch 109: saving model to model/keypoint_classifier/keypoint_classifier.keras\n",
      "\u001B[1m30/30\u001B[0m \u001B[32m━━━━━━━━━━━━━━━━━━━━\u001B[0m\u001B[37m\u001B[0m \u001B[1m0s\u001B[0m 7ms/step - accuracy: 0.7294 - loss: 0.7391 - val_accuracy: 0.9283 - val_loss: 0.3647\n",
      "Epoch 110/1000\n",
      "\u001B[1m28/30\u001B[0m \u001B[32m━━━━━━━━━━━━━━━━━━\u001B[0m\u001B[37m━━\u001B[0m \u001B[1m0s\u001B[0m 2ms/step - accuracy: 0.7277 - loss: 0.7498 \n",
      "Epoch 110: saving model to model/keypoint_classifier/keypoint_classifier.keras\n",
      "\u001B[1m30/30\u001B[0m \u001B[32m━━━━━━━━━━━━━━━━━━━━\u001B[0m\u001B[37m\u001B[0m \u001B[1m0s\u001B[0m 6ms/step - accuracy: 0.7278 - loss: 0.7498 - val_accuracy: 0.9363 - val_loss: 0.3677\n",
      "Epoch 111/1000\n",
      "\u001B[1m23/30\u001B[0m \u001B[32m━━━━━━━━━━━━━━━\u001B[0m\u001B[37m━━━━━\u001B[0m \u001B[1m0s\u001B[0m 2ms/step - accuracy: 0.7291 - loss: 0.7692 \n",
      "Epoch 111: saving model to model/keypoint_classifier/keypoint_classifier.keras\n",
      "\u001B[1m30/30\u001B[0m \u001B[32m━━━━━━━━━━━━━━━━━━━━\u001B[0m\u001B[37m\u001B[0m \u001B[1m0s\u001B[0m 7ms/step - accuracy: 0.7295 - loss: 0.7651 - val_accuracy: 0.9291 - val_loss: 0.3669\n",
      "Epoch 112/1000\n",
      "\u001B[1m26/30\u001B[0m \u001B[32m━━━━━━━━━━━━━━━━━\u001B[0m\u001B[37m━━━\u001B[0m \u001B[1m0s\u001B[0m 2ms/step - accuracy: 0.7507 - loss: 0.7202 \n",
      "Epoch 112: saving model to model/keypoint_classifier/keypoint_classifier.keras\n",
      "\u001B[1m30/30\u001B[0m \u001B[32m━━━━━━━━━━━━━━━━━━━━\u001B[0m\u001B[37m\u001B[0m \u001B[1m0s\u001B[0m 7ms/step - accuracy: 0.7499 - loss: 0.7204 - val_accuracy: 0.9379 - val_loss: 0.3534\n",
      "Epoch 113/1000\n",
      "\u001B[1m28/30\u001B[0m \u001B[32m━━━━━━━━━━━━━━━━━━\u001B[0m\u001B[37m━━\u001B[0m \u001B[1m0s\u001B[0m 2ms/step - accuracy: 0.7378 - loss: 0.7441 \n",
      "Epoch 113: saving model to model/keypoint_classifier/keypoint_classifier.keras\n",
      "\u001B[1m30/30\u001B[0m \u001B[32m━━━━━━━━━━━━━━━━━━━━\u001B[0m\u001B[37m\u001B[0m \u001B[1m0s\u001B[0m 7ms/step - accuracy: 0.7384 - loss: 0.7432 - val_accuracy: 0.9339 - val_loss: 0.3575\n",
      "Epoch 114/1000\n",
      "\u001B[1m27/30\u001B[0m \u001B[32m━━━━━━━━━━━━━━━━━━\u001B[0m\u001B[37m━━\u001B[0m \u001B[1m0s\u001B[0m 2ms/step - accuracy: 0.7442 - loss: 0.7468 \n",
      "Epoch 114: saving model to model/keypoint_classifier/keypoint_classifier.keras\n",
      "\u001B[1m30/30\u001B[0m \u001B[32m━━━━━━━━━━━━━━━━━━━━\u001B[0m\u001B[37m\u001B[0m \u001B[1m0s\u001B[0m 7ms/step - accuracy: 0.7430 - loss: 0.7459 - val_accuracy: 0.9339 - val_loss: 0.3529\n",
      "Epoch 115/1000\n",
      "\u001B[1m28/30\u001B[0m \u001B[32m━━━━━━━━━━━━━━━━━━\u001B[0m\u001B[37m━━\u001B[0m \u001B[1m0s\u001B[0m 2ms/step - accuracy: 0.7343 - loss: 0.7417 \n",
      "Epoch 115: saving model to model/keypoint_classifier/keypoint_classifier.keras\n",
      "\u001B[1m30/30\u001B[0m \u001B[32m━━━━━━━━━━━━━━━━━━━━\u001B[0m\u001B[37m\u001B[0m \u001B[1m0s\u001B[0m 6ms/step - accuracy: 0.7345 - loss: 0.7416 - val_accuracy: 0.9331 - val_loss: 0.3605\n",
      "Epoch 116/1000\n",
      "\u001B[1m27/30\u001B[0m \u001B[32m━━━━━━━━━━━━━━━━━━\u001B[0m\u001B[37m━━\u001B[0m \u001B[1m0s\u001B[0m 2ms/step - accuracy: 0.7401 - loss: 0.7203 \n",
      "Epoch 116: saving model to model/keypoint_classifier/keypoint_classifier.keras\n",
      "\u001B[1m30/30\u001B[0m \u001B[32m━━━━━━━━━━━━━━━━━━━━\u001B[0m\u001B[37m\u001B[0m \u001B[1m0s\u001B[0m 7ms/step - accuracy: 0.7394 - loss: 0.7219 - val_accuracy: 0.9299 - val_loss: 0.3554\n",
      "Epoch 117/1000\n",
      "\u001B[1m25/30\u001B[0m \u001B[32m━━━━━━━━━━━━━━━━\u001B[0m\u001B[37m━━━━\u001B[0m \u001B[1m0s\u001B[0m 2ms/step - accuracy: 0.7508 - loss: 0.7131 \n",
      "Epoch 117: saving model to model/keypoint_classifier/keypoint_classifier.keras\n",
      "\u001B[1m30/30\u001B[0m \u001B[32m━━━━━━━━━━━━━━━━━━━━\u001B[0m\u001B[37m\u001B[0m \u001B[1m0s\u001B[0m 8ms/step - accuracy: 0.7510 - loss: 0.7140 - val_accuracy: 0.9307 - val_loss: 0.3577\n",
      "Epoch 118/1000\n",
      "\u001B[1m28/30\u001B[0m \u001B[32m━━━━━━━━━━━━━━━━━━\u001B[0m\u001B[37m━━\u001B[0m \u001B[1m0s\u001B[0m 2ms/step - accuracy: 0.7514 - loss: 0.6933 \n",
      "Epoch 118: saving model to model/keypoint_classifier/keypoint_classifier.keras\n",
      "\u001B[1m30/30\u001B[0m \u001B[32m━━━━━━━━━━━━━━━━━━━━\u001B[0m\u001B[37m\u001B[0m \u001B[1m0s\u001B[0m 6ms/step - accuracy: 0.7513 - loss: 0.6949 - val_accuracy: 0.9275 - val_loss: 0.3557\n",
      "Epoch 119/1000\n",
      "\u001B[1m28/30\u001B[0m \u001B[32m━━━━━━━━━━━━━━━━━━\u001B[0m\u001B[37m━━\u001B[0m \u001B[1m0s\u001B[0m 2ms/step - accuracy: 0.7365 - loss: 0.7381 \n",
      "Epoch 119: saving model to model/keypoint_classifier/keypoint_classifier.keras\n",
      "\u001B[1m30/30\u001B[0m \u001B[32m━━━━━━━━━━━━━━━━━━━━\u001B[0m\u001B[37m\u001B[0m \u001B[1m0s\u001B[0m 6ms/step - accuracy: 0.7366 - loss: 0.7380 - val_accuracy: 0.9299 - val_loss: 0.3565\n",
      "Epoch 120/1000\n",
      "\u001B[1m27/30\u001B[0m \u001B[32m━━━━━━━━━━━━━━━━━━\u001B[0m\u001B[37m━━\u001B[0m \u001B[1m0s\u001B[0m 2ms/step - accuracy: 0.7494 - loss: 0.7196 \n",
      "Epoch 120: saving model to model/keypoint_classifier/keypoint_classifier.keras\n",
      "\u001B[1m30/30\u001B[0m \u001B[32m━━━━━━━━━━━━━━━━━━━━\u001B[0m\u001B[37m\u001B[0m \u001B[1m0s\u001B[0m 6ms/step - accuracy: 0.7481 - loss: 0.7209 - val_accuracy: 0.9379 - val_loss: 0.3642\n",
      "Epoch 121/1000\n",
      "\u001B[1m26/30\u001B[0m \u001B[32m━━━━━━━━━━━━━━━━━\u001B[0m\u001B[37m━━━\u001B[0m \u001B[1m0s\u001B[0m 2ms/step - accuracy: 0.7302 - loss: 0.7352 \n",
      "Epoch 121: saving model to model/keypoint_classifier/keypoint_classifier.keras\n",
      "\u001B[1m30/30\u001B[0m \u001B[32m━━━━━━━━━━━━━━━━━━━━\u001B[0m\u001B[37m\u001B[0m \u001B[1m0s\u001B[0m 6ms/step - accuracy: 0.7308 - loss: 0.7359 - val_accuracy: 0.9331 - val_loss: 0.3549\n",
      "Epoch 122/1000\n",
      "\u001B[1m26/30\u001B[0m \u001B[32m━━━━━━━━━━━━━━━━━\u001B[0m\u001B[37m━━━\u001B[0m \u001B[1m0s\u001B[0m 2ms/step - accuracy: 0.7416 - loss: 0.7473 \n",
      "Epoch 122: saving model to model/keypoint_classifier/keypoint_classifier.keras\n",
      "\u001B[1m30/30\u001B[0m \u001B[32m━━━━━━━━━━━━━━━━━━━━\u001B[0m\u001B[37m\u001B[0m \u001B[1m0s\u001B[0m 6ms/step - accuracy: 0.7416 - loss: 0.7434 - val_accuracy: 0.9283 - val_loss: 0.3598\n",
      "Epoch 123/1000\n",
      "\u001B[1m28/30\u001B[0m \u001B[32m━━━━━━━━━━━━━━━━━━\u001B[0m\u001B[37m━━\u001B[0m \u001B[1m0s\u001B[0m 2ms/step - accuracy: 0.7358 - loss: 0.7213 \n",
      "Epoch 123: saving model to model/keypoint_classifier/keypoint_classifier.keras\n",
      "\u001B[1m30/30\u001B[0m \u001B[32m━━━━━━━━━━━━━━━━━━━━\u001B[0m\u001B[37m\u001B[0m \u001B[1m0s\u001B[0m 7ms/step - accuracy: 0.7365 - loss: 0.7215 - val_accuracy: 0.9315 - val_loss: 0.3592\n",
      "Epoch 124/1000\n",
      "\u001B[1m27/30\u001B[0m \u001B[32m━━━━━━━━━━━━━━━━━━\u001B[0m\u001B[37m━━\u001B[0m \u001B[1m0s\u001B[0m 2ms/step - accuracy: 0.7413 - loss: 0.7369 \n",
      "Epoch 124: saving model to model/keypoint_classifier/keypoint_classifier.keras\n",
      "\u001B[1m30/30\u001B[0m \u001B[32m━━━━━━━━━━━━━━━━━━━━\u001B[0m\u001B[37m\u001B[0m \u001B[1m0s\u001B[0m 6ms/step - accuracy: 0.7415 - loss: 0.7357 - val_accuracy: 0.9339 - val_loss: 0.3526\n",
      "Epoch 125/1000\n",
      "\u001B[1m26/30\u001B[0m \u001B[32m━━━━━━━━━━━━━━━━━\u001B[0m\u001B[37m━━━\u001B[0m \u001B[1m0s\u001B[0m 2ms/step - accuracy: 0.7393 - loss: 0.7349 \n",
      "Epoch 125: saving model to model/keypoint_classifier/keypoint_classifier.keras\n",
      "\u001B[1m30/30\u001B[0m \u001B[32m━━━━━━━━━━━━━━━━━━━━\u001B[0m\u001B[37m\u001B[0m \u001B[1m0s\u001B[0m 7ms/step - accuracy: 0.7410 - loss: 0.7327 - val_accuracy: 0.9355 - val_loss: 0.3470\n",
      "Epoch 126/1000\n",
      "\u001B[1m26/30\u001B[0m \u001B[32m━━━━━━━━━━━━━━━━━\u001B[0m\u001B[37m━━━\u001B[0m \u001B[1m0s\u001B[0m 2ms/step - accuracy: 0.7510 - loss: 0.7207 \n",
      "Epoch 126: saving model to model/keypoint_classifier/keypoint_classifier.keras\n",
      "\u001B[1m30/30\u001B[0m \u001B[32m━━━━━━━━━━━━━━━━━━━━\u001B[0m\u001B[37m\u001B[0m \u001B[1m0s\u001B[0m 6ms/step - accuracy: 0.7496 - loss: 0.7205 - val_accuracy: 0.9363 - val_loss: 0.3518\n",
      "Epoch 127/1000\n",
      "\u001B[1m24/30\u001B[0m \u001B[32m━━━━━━━━━━━━━━━━\u001B[0m\u001B[37m━━━━\u001B[0m \u001B[1m0s\u001B[0m 2ms/step - accuracy: 0.7322 - loss: 0.7415 \n",
      "Epoch 127: saving model to model/keypoint_classifier/keypoint_classifier.keras\n",
      "\u001B[1m30/30\u001B[0m \u001B[32m━━━━━━━━━━━━━━━━━━━━\u001B[0m\u001B[37m\u001B[0m \u001B[1m0s\u001B[0m 6ms/step - accuracy: 0.7334 - loss: 0.7404 - val_accuracy: 0.9387 - val_loss: 0.3495\n",
      "Epoch 128/1000\n",
      "\u001B[1m28/30\u001B[0m \u001B[32m━━━━━━━━━━━━━━━━━━\u001B[0m\u001B[37m━━\u001B[0m \u001B[1m0s\u001B[0m 2ms/step - accuracy: 0.7461 - loss: 0.7010 \n",
      "Epoch 128: saving model to model/keypoint_classifier/keypoint_classifier.keras\n",
      "\u001B[1m30/30\u001B[0m \u001B[32m━━━━━━━━━━━━━━━━━━━━\u001B[0m\u001B[37m\u001B[0m \u001B[1m0s\u001B[0m 7ms/step - accuracy: 0.7454 - loss: 0.7020 - val_accuracy: 0.9387 - val_loss: 0.3393\n",
      "Epoch 129/1000\n",
      "\u001B[1m28/30\u001B[0m \u001B[32m━━━━━━━━━━━━━━━━━━\u001B[0m\u001B[37m━━\u001B[0m \u001B[1m0s\u001B[0m 2ms/step - accuracy: 0.7104 - loss: 0.7456 \n",
      "Epoch 129: saving model to model/keypoint_classifier/keypoint_classifier.keras\n",
      "\u001B[1m30/30\u001B[0m \u001B[32m━━━━━━━━━━━━━━━━━━━━\u001B[0m\u001B[37m\u001B[0m \u001B[1m0s\u001B[0m 6ms/step - accuracy: 0.7113 - loss: 0.7444 - val_accuracy: 0.9299 - val_loss: 0.3491\n",
      "Epoch 130/1000\n",
      "\u001B[1m29/30\u001B[0m \u001B[32m━━━━━━━━━━━━━━━━━━━\u001B[0m\u001B[37m━\u001B[0m \u001B[1m0s\u001B[0m 2ms/step - accuracy: 0.7509 - loss: 0.7152 \n",
      "Epoch 130: saving model to model/keypoint_classifier/keypoint_classifier.keras\n",
      "\u001B[1m30/30\u001B[0m \u001B[32m━━━━━━━━━━━━━━━━━━━━\u001B[0m\u001B[37m\u001B[0m \u001B[1m0s\u001B[0m 6ms/step - accuracy: 0.7504 - loss: 0.7164 - val_accuracy: 0.9403 - val_loss: 0.3497\n",
      "Epoch 131/1000\n",
      "\u001B[1m28/30\u001B[0m \u001B[32m━━━━━━━━━━━━━━━━━━\u001B[0m\u001B[37m━━\u001B[0m \u001B[1m0s\u001B[0m 2ms/step - accuracy: 0.7405 - loss: 0.7315 \n",
      "Epoch 131: saving model to model/keypoint_classifier/keypoint_classifier.keras\n",
      "\u001B[1m30/30\u001B[0m \u001B[32m━━━━━━━━━━━━━━━━━━━━\u001B[0m\u001B[37m\u001B[0m \u001B[1m0s\u001B[0m 7ms/step - accuracy: 0.7403 - loss: 0.7321 - val_accuracy: 0.9323 - val_loss: 0.3574\n",
      "Epoch 132/1000\n",
      "\u001B[1m27/30\u001B[0m \u001B[32m━━━━━━━━━━━━━━━━━━\u001B[0m\u001B[37m━━\u001B[0m \u001B[1m0s\u001B[0m 2ms/step - accuracy: 0.7315 - loss: 0.7502 \n",
      "Epoch 132: saving model to model/keypoint_classifier/keypoint_classifier.keras\n",
      "\u001B[1m30/30\u001B[0m \u001B[32m━━━━━━━━━━━━━━━━━━━━\u001B[0m\u001B[37m\u001B[0m \u001B[1m0s\u001B[0m 7ms/step - accuracy: 0.7325 - loss: 0.7485 - val_accuracy: 0.9347 - val_loss: 0.3536\n",
      "Epoch 133/1000\n",
      "\u001B[1m28/30\u001B[0m \u001B[32m━━━━━━━━━━━━━━━━━━\u001B[0m\u001B[37m━━\u001B[0m \u001B[1m0s\u001B[0m 2ms/step - accuracy: 0.7549 - loss: 0.7225 \n",
      "Epoch 133: saving model to model/keypoint_classifier/keypoint_classifier.keras\n",
      "\u001B[1m30/30\u001B[0m \u001B[32m━━━━━━━━━━━━━━━━━━━━\u001B[0m\u001B[37m\u001B[0m \u001B[1m0s\u001B[0m 6ms/step - accuracy: 0.7531 - loss: 0.7235 - val_accuracy: 0.9379 - val_loss: 0.3471\n",
      "Epoch 134/1000\n",
      "\u001B[1m25/30\u001B[0m \u001B[32m━━━━━━━━━━━━━━━━\u001B[0m\u001B[37m━━━━\u001B[0m \u001B[1m0s\u001B[0m 2ms/step - accuracy: 0.7473 - loss: 0.7238 \n",
      "Epoch 134: saving model to model/keypoint_classifier/keypoint_classifier.keras\n",
      "\u001B[1m30/30\u001B[0m \u001B[32m━━━━━━━━━━━━━━━━━━━━\u001B[0m\u001B[37m\u001B[0m \u001B[1m0s\u001B[0m 6ms/step - accuracy: 0.7461 - loss: 0.7265 - val_accuracy: 0.9339 - val_loss: 0.3439\n",
      "Epoch 135/1000\n",
      "\u001B[1m28/30\u001B[0m \u001B[32m━━━━━━━━━━━━━━━━━━\u001B[0m\u001B[37m━━\u001B[0m \u001B[1m0s\u001B[0m 2ms/step - accuracy: 0.7433 - loss: 0.7241 \n",
      "Epoch 135: saving model to model/keypoint_classifier/keypoint_classifier.keras\n",
      "\u001B[1m30/30\u001B[0m \u001B[32m━━━━━━━━━━━━━━━━━━━━\u001B[0m\u001B[37m\u001B[0m \u001B[1m0s\u001B[0m 6ms/step - accuracy: 0.7435 - loss: 0.7234 - val_accuracy: 0.9363 - val_loss: 0.3472\n",
      "Epoch 136/1000\n",
      "\u001B[1m26/30\u001B[0m \u001B[32m━━━━━━━━━━━━━━━━━\u001B[0m\u001B[37m━━━\u001B[0m \u001B[1m0s\u001B[0m 2ms/step - accuracy: 0.7546 - loss: 0.6860 \n",
      "Epoch 136: saving model to model/keypoint_classifier/keypoint_classifier.keras\n",
      "\u001B[1m30/30\u001B[0m \u001B[32m━━━━━━━━━━━━━━━━━━━━\u001B[0m\u001B[37m\u001B[0m \u001B[1m0s\u001B[0m 6ms/step - accuracy: 0.7524 - loss: 0.6915 - val_accuracy: 0.9315 - val_loss: 0.3503\n",
      "Epoch 137/1000\n",
      "\u001B[1m26/30\u001B[0m \u001B[32m━━━━━━━━━━━━━━━━━\u001B[0m\u001B[37m━━━\u001B[0m \u001B[1m0s\u001B[0m 2ms/step - accuracy: 0.7393 - loss: 0.7300 \n",
      "Epoch 137: saving model to model/keypoint_classifier/keypoint_classifier.keras\n",
      "\u001B[1m30/30\u001B[0m \u001B[32m━━━━━━━━━━━━━━━━━━━━\u001B[0m\u001B[37m\u001B[0m \u001B[1m0s\u001B[0m 7ms/step - accuracy: 0.7402 - loss: 0.7268 - val_accuracy: 0.9387 - val_loss: 0.3552\n",
      "Epoch 138/1000\n",
      "\u001B[1m27/30\u001B[0m \u001B[32m━━━━━━━━━━━━━━━━━━\u001B[0m\u001B[37m━━\u001B[0m \u001B[1m0s\u001B[0m 2ms/step - accuracy: 0.7308 - loss: 0.7632 \n",
      "Epoch 138: saving model to model/keypoint_classifier/keypoint_classifier.keras\n",
      "\u001B[1m30/30\u001B[0m \u001B[32m━━━━━━━━━━━━━━━━━━━━\u001B[0m\u001B[37m\u001B[0m \u001B[1m0s\u001B[0m 6ms/step - accuracy: 0.7315 - loss: 0.7584 - val_accuracy: 0.9371 - val_loss: 0.3531\n",
      "Epoch 139/1000\n",
      "\u001B[1m27/30\u001B[0m \u001B[32m━━━━━━━━━━━━━━━━━━\u001B[0m\u001B[37m━━\u001B[0m \u001B[1m0s\u001B[0m 2ms/step - accuracy: 0.7526 - loss: 0.6995 \n",
      "Epoch 139: saving model to model/keypoint_classifier/keypoint_classifier.keras\n",
      "\u001B[1m30/30\u001B[0m \u001B[32m━━━━━━━━━━━━━━━━━━━━\u001B[0m\u001B[37m\u001B[0m \u001B[1m0s\u001B[0m 6ms/step - accuracy: 0.7534 - loss: 0.6995 - val_accuracy: 0.9347 - val_loss: 0.3449\n",
      "Epoch 140/1000\n",
      "\u001B[1m25/30\u001B[0m \u001B[32m━━━━━━━━━━━━━━━━\u001B[0m\u001B[37m━━━━\u001B[0m \u001B[1m0s\u001B[0m 2ms/step - accuracy: 0.7474 - loss: 0.7003 \n",
      "Epoch 140: saving model to model/keypoint_classifier/keypoint_classifier.keras\n",
      "\u001B[1m30/30\u001B[0m \u001B[32m━━━━━━━━━━━━━━━━━━━━\u001B[0m\u001B[37m\u001B[0m \u001B[1m0s\u001B[0m 7ms/step - accuracy: 0.7465 - loss: 0.7040 - val_accuracy: 0.9379 - val_loss: 0.3457\n",
      "Epoch 141/1000\n",
      "\u001B[1m26/30\u001B[0m \u001B[32m━━━━━━━━━━━━━━━━━\u001B[0m\u001B[37m━━━\u001B[0m \u001B[1m0s\u001B[0m 2ms/step - accuracy: 0.7495 - loss: 0.7145 \n",
      "Epoch 141: saving model to model/keypoint_classifier/keypoint_classifier.keras\n",
      "\u001B[1m30/30\u001B[0m \u001B[32m━━━━━━━━━━━━━━━━━━━━\u001B[0m\u001B[37m\u001B[0m \u001B[1m0s\u001B[0m 6ms/step - accuracy: 0.7496 - loss: 0.7129 - val_accuracy: 0.9355 - val_loss: 0.3442\n",
      "Epoch 142/1000\n",
      "\u001B[1m28/30\u001B[0m \u001B[32m━━━━━━━━━━━━━━━━━━\u001B[0m\u001B[37m━━\u001B[0m \u001B[1m0s\u001B[0m 2ms/step - accuracy: 0.7454 - loss: 0.7315 \n",
      "Epoch 142: saving model to model/keypoint_classifier/keypoint_classifier.keras\n",
      "\u001B[1m30/30\u001B[0m \u001B[32m━━━━━━━━━━━━━━━━━━━━\u001B[0m\u001B[37m\u001B[0m \u001B[1m0s\u001B[0m 6ms/step - accuracy: 0.7454 - loss: 0.7305 - val_accuracy: 0.9419 - val_loss: 0.3414\n",
      "Epoch 143/1000\n",
      "\u001B[1m25/30\u001B[0m \u001B[32m━━━━━━━━━━━━━━━━\u001B[0m\u001B[37m━━━━\u001B[0m \u001B[1m0s\u001B[0m 2ms/step - accuracy: 0.7525 - loss: 0.7016 \n",
      "Epoch 143: saving model to model/keypoint_classifier/keypoint_classifier.keras\n",
      "\u001B[1m30/30\u001B[0m \u001B[32m━━━━━━━━━━━━━━━━━━━━\u001B[0m\u001B[37m\u001B[0m \u001B[1m0s\u001B[0m 7ms/step - accuracy: 0.7528 - loss: 0.7020 - val_accuracy: 0.9339 - val_loss: 0.3434\n",
      "Epoch 144/1000\n",
      "\u001B[1m29/30\u001B[0m \u001B[32m━━━━━━━━━━━━━━━━━━━\u001B[0m\u001B[37m━\u001B[0m \u001B[1m0s\u001B[0m 2ms/step - accuracy: 0.7450 - loss: 0.7108 \n",
      "Epoch 144: saving model to model/keypoint_classifier/keypoint_classifier.keras\n",
      "\u001B[1m30/30\u001B[0m \u001B[32m━━━━━━━━━━━━━━━━━━━━\u001B[0m\u001B[37m\u001B[0m \u001B[1m0s\u001B[0m 6ms/step - accuracy: 0.7452 - loss: 0.7102 - val_accuracy: 0.9299 - val_loss: 0.3473\n",
      "Epoch 145/1000\n",
      "\u001B[1m28/30\u001B[0m \u001B[32m━━━━━━━━━━━━━━━━━━\u001B[0m\u001B[37m━━\u001B[0m \u001B[1m0s\u001B[0m 2ms/step - accuracy: 0.7393 - loss: 0.7120 \n",
      "Epoch 145: saving model to model/keypoint_classifier/keypoint_classifier.keras\n",
      "\u001B[1m30/30\u001B[0m \u001B[32m━━━━━━━━━━━━━━━━━━━━\u001B[0m\u001B[37m\u001B[0m \u001B[1m0s\u001B[0m 6ms/step - accuracy: 0.7397 - loss: 0.7104 - val_accuracy: 0.9371 - val_loss: 0.3403\n",
      "Epoch 146/1000\n",
      "\u001B[1m27/30\u001B[0m \u001B[32m━━━━━━━━━━━━━━━━━━\u001B[0m\u001B[37m━━\u001B[0m \u001B[1m0s\u001B[0m 2ms/step - accuracy: 0.7378 - loss: 0.7180 \n",
      "Epoch 146: saving model to model/keypoint_classifier/keypoint_classifier.keras\n",
      "\u001B[1m30/30\u001B[0m \u001B[32m━━━━━━━━━━━━━━━━━━━━\u001B[0m\u001B[37m\u001B[0m \u001B[1m0s\u001B[0m 6ms/step - accuracy: 0.7382 - loss: 0.7177 - val_accuracy: 0.9371 - val_loss: 0.3439\n",
      "Epoch 147/1000\n",
      "\u001B[1m27/30\u001B[0m \u001B[32m━━━━━━━━━━━━━━━━━━\u001B[0m\u001B[37m━━\u001B[0m \u001B[1m0s\u001B[0m 2ms/step - accuracy: 0.7552 - loss: 0.7023 \n",
      "Epoch 147: saving model to model/keypoint_classifier/keypoint_classifier.keras\n",
      "\u001B[1m30/30\u001B[0m \u001B[32m━━━━━━━━━━━━━━━━━━━━\u001B[0m\u001B[37m\u001B[0m \u001B[1m0s\u001B[0m 6ms/step - accuracy: 0.7544 - loss: 0.7020 - val_accuracy: 0.9339 - val_loss: 0.3430\n",
      "Epoch 148/1000\n",
      "\u001B[1m28/30\u001B[0m \u001B[32m━━━━━━━━━━━━━━━━━━\u001B[0m\u001B[37m━━\u001B[0m \u001B[1m0s\u001B[0m 2ms/step - accuracy: 0.7501 - loss: 0.7166 \n",
      "Epoch 148: saving model to model/keypoint_classifier/keypoint_classifier.keras\n",
      "\u001B[1m30/30\u001B[0m \u001B[32m━━━━━━━━━━━━━━━━━━━━\u001B[0m\u001B[37m\u001B[0m \u001B[1m0s\u001B[0m 7ms/step - accuracy: 0.7504 - loss: 0.7145 - val_accuracy: 0.9339 - val_loss: 0.3408\n",
      "Epoch 148: early stopping\n"
     ]
    },
    {
     "data": {
      "text/plain": [
       "<keras.src.callbacks.history.History at 0x145374213d0>"
      ]
     },
     "execution_count": 11,
     "metadata": {},
     "output_type": "execute_result"
    }
   ],
   "execution_count": 11
  },
  {
   "cell_type": "code",
   "metadata": {
    "id": "pxvb2Y299hE3",
    "colab": {
     "base_uri": "https://localhost:8080/"
    },
    "outputId": "59eb3185-2e37-4b9e-bc9d-ab1b8ac29b7f",
    "ExecuteTime": {
     "end_time": "2025-04-28T19:50:29.362550Z",
     "start_time": "2025-04-28T19:50:29.232231Z"
    }
   },
   "source": [
    "# Model evaluation\n",
    "val_loss, val_acc = model.evaluate(X_test, y_test, batch_size=128)"
   ],
   "outputs": [
    {
     "name": "stdout",
     "output_type": "stream",
     "text": [
      "\u001B[1m10/10\u001B[0m \u001B[32m━━━━━━━━━━━━━━━━━━━━\u001B[0m\u001B[37m\u001B[0m \u001B[1m0s\u001B[0m 5ms/step - accuracy: 0.9359 - loss: 0.3353 \n"
     ]
    }
   ],
   "execution_count": 12
  },
  {
   "cell_type": "code",
   "metadata": {
    "id": "RBkmDeUW9hE4",
    "ExecuteTime": {
     "end_time": "2025-04-28T19:50:29.561294Z",
     "start_time": "2025-04-28T19:50:29.420228Z"
    }
   },
   "source": [
    "# Loading the saved model\n",
    "model = tf.keras.models.load_model(model_save_path)"
   ],
   "outputs": [],
   "execution_count": 13
  },
  {
   "cell_type": "code",
   "metadata": {
    "id": "tFz9Tb0I9hE4",
    "colab": {
     "base_uri": "https://localhost:8080/"
    },
    "outputId": "1c3b3528-54ae-4ee2-ab04-77429211cbef",
    "ExecuteTime": {
     "end_time": "2025-04-28T19:50:29.709002Z",
     "start_time": "2025-04-28T19:50:29.574328Z"
    }
   },
   "source": [
    "# Inference test\n",
    "predict_result = model.predict(np.array([X_test[0]]))\n",
    "print(np.squeeze(predict_result))\n",
    "print(np.argmax(np.squeeze(predict_result)))"
   ],
   "outputs": [
    {
     "name": "stdout",
     "output_type": "stream",
     "text": [
      "\u001B[1m1/1\u001B[0m \u001B[32m━━━━━━━━━━━━━━━━━━━━\u001B[0m\u001B[37m\u001B[0m \u001B[1m0s\u001B[0m 80ms/step\n",
      "[5.9615910e-01 2.0837054e-01 2.9109482e-04 1.5860517e-04 4.7825037e-05\n",
      " 1.9497293e-01]\n",
      "0\n"
     ]
    }
   ],
   "execution_count": 14
  },
  {
   "cell_type": "markdown",
   "metadata": {
    "id": "S3U4yNWx9hE4"
   },
   "source": [
    "# Confusion matrix"
   ]
  },
  {
   "cell_type": "code",
   "metadata": {
    "id": "AP1V6SCk9hE5",
    "colab": {
     "base_uri": "https://localhost:8080/",
     "height": 582
    },
    "outputId": "08e41a80-7a4a-4619-8125-ecc371368d19",
    "ExecuteTime": {
     "end_time": "2025-04-28T19:50:30.417118Z",
     "start_time": "2025-04-28T19:50:29.722035Z"
    }
   },
   "source": [
    "import pandas as pd\n",
    "import seaborn as sns\n",
    "import matplotlib.pyplot as plt\n",
    "from sklearn.metrics import confusion_matrix, classification_report\n",
    "\n",
    "def print_confusion_matrix(y_true, y_pred, report=True):\n",
    "    labels = sorted(list(set(y_true)))\n",
    "    cmx_data = confusion_matrix(y_true, y_pred, labels=labels)\n",
    "    \n",
    "    df_cmx = pd.DataFrame(cmx_data, index=labels, columns=labels)\n",
    " \n",
    "    fig, ax = plt.subplots(figsize=(7, 6))\n",
    "    sns.heatmap(df_cmx, annot=True, fmt='g' ,square=False)\n",
    "    ax.set_ylim(len(set(y_true)), 0)\n",
    "    plt.show()\n",
    "    \n",
    "    if report:\n",
    "        print('Classification Report')\n",
    "        print(classification_report(y_test, y_pred))\n",
    "\n",
    "Y_pred = model.predict(X_test)\n",
    "y_pred = np.argmax(Y_pred, axis=1)\n",
    "\n",
    "print_confusion_matrix(y_test, y_pred)"
   ],
   "outputs": [
    {
     "name": "stdout",
     "output_type": "stream",
     "text": [
      "\u001B[1m40/40\u001B[0m \u001B[32m━━━━━━━━━━━━━━━━━━━━\u001B[0m\u001B[37m\u001B[0m \u001B[1m0s\u001B[0m 3ms/step\n"
     ]
    },
    {
     "data": {
      "text/plain": [
       "<Figure size 700x600 with 2 Axes>"
      ],
      "image/png": "[encoded data removed]"
     },
     "metadata": {},
     "output_type": "display_data"
    },
    {
     "name": "stdout",
     "output_type": "stream",
     "text": [
      "Classification Report\n",
      "              precision    recall  f1-score   support\n",
      "\n",
      "           0       0.96      0.99      0.97       391\n",
      "           1       1.00      0.88      0.94       243\n",
      "           2       0.91      0.99      0.95       336\n",
      "           3       0.86      0.90      0.88        71\n",
      "           4       0.71      0.78      0.74        80\n",
      "           5       1.00      0.84      0.91       135\n",
      "\n",
      "    accuracy                           0.93      1256\n",
      "   macro avg       0.91      0.90      0.90      1256\n",
      "weighted avg       0.94      0.93      0.93      1256\n",
      "\n"
     ]
    }
   ],
   "execution_count": 15
  },
  {
   "cell_type": "markdown",
   "metadata": {
    "id": "FNP6aqzc9hE5"
   },
   "source": [
    "# Convert to model for Tensorflow-Lite"
   ]
  },
  {
   "cell_type": "code",
   "metadata": {
    "id": "ODjnYyld9hE6",
    "ExecuteTime": {
     "end_time": "2025-04-28T19:50:30.475232Z",
     "start_time": "2025-04-28T19:50:30.434570Z"
    }
   },
   "source": [
    "# Save as a model dedicated to inference\n",
    "model.save(model_save_path, include_optimizer=False)"
   ],
   "outputs": [],
   "execution_count": 16
  },
  {
   "cell_type": "code",
   "metadata": {
    "id": "zRfuK8Y59hE6",
    "colab": {
     "base_uri": "https://localhost:8080/"
    },
    "outputId": "a4ca585c-b5d5-4244-8291-8674063209bb",
    "ExecuteTime": {
     "end_time": "2025-04-28T19:50:31.137396Z",
     "start_time": "2025-04-28T19:50:30.490619Z"
    }
   },
   "source": [
    "# Transform model (quantization)\n",
    "\n",
    "converter = tf.lite.TFLiteConverter.from_keras_model(model)\n",
    "converter.optimizations = [tf.lite.Optimize.DEFAULT]\n",
    "tflite_quantized_model = converter.convert()\n",
    "\n",
    "open(tflite_save_path, 'wb').write(tflite_quantized_model)"
   ],
   "outputs": [
    {
     "name": "stdout",
     "output_type": "stream",
     "text": [
      "INFO:tensorflow:Assets written to: C:\\Users\\grimm\\AppData\\Local\\Temp\\tmpq_dabvje\\assets\n"
     ]
    },
    {
     "name": "stderr",
     "output_type": "stream",
     "text": [
      "INFO:tensorflow:Assets written to: C:\\Users\\grimm\\AppData\\Local\\Temp\\tmpq_dabvje\\assets\n"
     ]
    },
    {
     "name": "stdout",
     "output_type": "stream",
     "text": [
      "Saved artifact at 'C:\\Users\\grimm\\AppData\\Local\\Temp\\tmpq_dabvje'. The following endpoints are available:\n",
      "\n",
      "* Endpoint 'serve'\n",
      "  args_0 (POSITIONAL_ONLY): TensorSpec(shape=(None, 42), dtype=tf.float32, name='input_layer')\n",
      "Output Type:\n",
      "  TensorSpec(shape=(None, 6), dtype=tf.float32, name=None)\n",
      "Captures:\n",
      "  1396791410512: TensorSpec(shape=(), dtype=tf.resource, name=None)\n",
      "  1396791407824: TensorSpec(shape=(), dtype=tf.resource, name=None)\n",
      "  1396792428688: TensorSpec(shape=(), dtype=tf.resource, name=None)\n",
      "  1396792441936: TensorSpec(shape=(), dtype=tf.resource, name=None)\n",
      "  1396792430224: TensorSpec(shape=(), dtype=tf.resource, name=None)\n",
      "  1396792441552: TensorSpec(shape=(), dtype=tf.resource, name=None)\n"
     ]
    },
    {
     "data": {
      "text/plain": [
       "6644"
      ]
     },
     "execution_count": 17,
     "metadata": {},
     "output_type": "execute_result"
    }
   ],
   "execution_count": 17
  },
  {
   "cell_type": "markdown",
   "metadata": {
    "id": "CHBPBXdx9hE6"
   },
   "source": [
    "# Inference test"
   ]
  },
  {
   "cell_type": "code",
   "metadata": {
    "id": "mGAzLocO9hE7",
    "ExecuteTime": {
     "end_time": "2025-04-28T19:50:31.169892Z",
     "start_time": "2025-04-28T19:50:31.151830Z"
    }
   },
   "source": [
    "interpreter = tf.lite.Interpreter(model_path=tflite_save_path)\n",
    "interpreter.allocate_tensors()"
   ],
   "outputs": [
    {
     "name": "stderr",
     "output_type": "stream",
     "text": [
      "C:\\Users\\grimm\\AppData\\Local\\Programs\\Python\\Python312\\Lib\\site-packages\\tensorflow\\lite\\python\\interpreter.py:457: UserWarning:     Warning: tf.lite.Interpreter is deprecated and is scheduled for deletion in\n",
      "    TF 2.20. Please use the LiteRT interpreter from the ai_edge_litert package.\n",
      "    See the [migration guide](https://ai.google.dev/edge/litert/migration)\n",
      "    for details.\n",
      "    \n",
      "  warnings.warn(_INTERPRETER_DELETION_WARNING)\n"
     ]
    }
   ],
   "execution_count": 18
  },
  {
   "cell_type": "code",
   "metadata": {
    "id": "oQuDK8YS9hE7",
    "ExecuteTime": {
     "end_time": "2025-04-28T19:50:31.209094Z",
     "start_time": "2025-04-28T19:50:31.184542Z"
    }
   },
   "source": [
    "# Get I / O tensor\n",
    "input_details = interpreter.get_input_details()\n",
    "output_details = interpreter.get_output_details()"
   ],
   "outputs": [],
   "execution_count": 19
  },
  {
   "cell_type": "code",
   "metadata": {
    "id": "2_ixAf_l9hE7",
    "ExecuteTime": {
     "end_time": "2025-04-28T19:50:31.230425Z",
     "start_time": "2025-04-28T19:50:31.225759Z"
    }
   },
   "source": [
    "interpreter.set_tensor(input_details[0]['index'], np.array([X_test[0]]))"
   ],
   "outputs": [],
   "execution_count": 20
  },
  {
   "cell_type": "code",
   "metadata": {
    "scrolled": true,
    "id": "s4FoAnuc9hE7",
    "colab": {
     "base_uri": "https://localhost:8080/"
    },
    "outputId": "91f18257-8d8b-4ef3-c558-e9b5f94fabbf",
    "ExecuteTime": {
     "end_time": "2025-04-28T19:50:31.252582Z",
     "start_time": "2025-04-28T19:50:31.246155Z"
    }
   },
   "source": [
    "%%time\n",
    "# Inference implementation\n",
    "interpreter.invoke()\n",
    "tflite_results = interpreter.get_tensor(output_details[0]['index'])"
   ],
   "outputs": [
    {
     "name": "stdout",
     "output_type": "stream",
     "text": [
      "CPU times: total: 0 ns\n",
      "Wall time: 1.43 ms\n"
     ]
    }
   ],
   "execution_count": 21
  },
  {
   "cell_type": "code",
   "metadata": {
    "id": "vONjp19J9hE8",
    "colab": {
     "base_uri": "https://localhost:8080/"
    },
    "outputId": "77205e24-fd00-42c4-f7b6-e06e527c2cba",
    "ExecuteTime": {
     "end_time": "2025-04-28T19:50:31.288467Z",
     "start_time": "2025-04-28T19:50:31.283055Z"
    }
   },
   "source": [
    "print(np.squeeze(tflite_results))\n",
    "print(np.argmax(np.squeeze(tflite_results)))"
   ],
   "outputs": [
    {
     "name": "stdout",
     "output_type": "stream",
     "text": [
      "[5.9615916e-01 2.0837051e-01 2.9109485e-04 1.5860519e-04 4.7825084e-05\n",
      " 1.9497277e-01]\n",
      "0\n"
     ]
    }
   ],
   "execution_count": 22
  }
 ]
}
