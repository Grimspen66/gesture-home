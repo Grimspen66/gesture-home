{
 "cells": [
  {
   "cell_type": "code",
   "metadata": {
    "ExecuteTime": {
     "end_time": "2025-04-07T01:32:07.043144Z",
     "start_time": "2025-04-07T01:32:05.172985Z"
    }
   },
   "source": [
    "import csv\n",
    "\n",
    "import numpy as np\n",
    "import tensorflow as tf\n",
    "from sklearn.model_selection import train_test_split\n",
    "\n",
    "RANDOM_SEED = 42"
   ],
   "outputs": [],
   "execution_count": 1
  },
  {
   "cell_type": "markdown",
   "metadata": {},
   "source": [
    "# 各パス指定"
   ]
  },
  {
   "cell_type": "code",
   "metadata": {
    "ExecuteTime": {
     "end_time": "2025-04-07T01:32:07.121511Z",
     "start_time": "2025-04-07T01:32:07.047147Z"
    }
   },
   "source": [
    "dataset = 'model/keypoint_classifier/keypoint.csv'\n",
    "\n",
    "# Define the path where the model checkpoint will be saved (with proper path format)\n",
    "model_save_path = r'grimm\\PycharmProjects\\hand-gesture-recognition-mediapipe\\model\\keypoint_classifier\\keypoint_classifier.keras'\n",
    "\n",
    "# モデルチェックポイントのコールバック\n",
    "cp_callback = tf.keras.callbacks.ModelCheckpoint(\n",
    "    model_save_path, verbose=1, save_weights_only=False)\n",
    "\n",
    "# 早期打ち切り用コールバック\n",
    "es_callback = tf.keras.callbacks.EarlyStopping(patience=20, verbose=1)\n",
    "\n",
    "# You can now use these callbacks during model training:\n",
    "# model.fit(X_train, y_train, epochs=100, callbacks=[cp_callback, es_callback])\n"
   ],
   "outputs": [],
   "execution_count": 2
  },
  {
   "cell_type": "markdown",
   "metadata": {},
   "source": [
    "# 分類数設定"
   ]
  },
  {
   "cell_type": "code",
   "metadata": {
    "ExecuteTime": {
     "end_time": "2025-04-07T01:32:07.436206Z",
     "start_time": "2025-04-07T01:32:07.421206Z"
    }
   },
   "source": "NUM_CLASSES = 6",
   "outputs": [],
   "execution_count": 3
  },
  {
   "cell_type": "markdown",
   "metadata": {},
   "source": [
    "# 学習データ読み込み"
   ]
  },
  {
   "cell_type": "code",
   "metadata": {
    "ExecuteTime": {
     "end_time": "2025-04-07T01:32:07.498522Z",
     "start_time": "2025-04-07T01:32:07.454210Z"
    }
   },
   "source": [
    "X_dataset = np.loadtxt(dataset, delimiter=',', dtype='float32', usecols=list(range(1, (21 * 2) + 1)))"
   ],
   "outputs": [],
   "execution_count": 4
  },
  {
   "cell_type": "code",
   "metadata": {
    "ExecuteTime": {
     "end_time": "2025-04-07T01:32:07.530529Z",
     "start_time": "2025-04-07T01:32:07.515530Z"
    }
   },
   "source": "y_dataset = np.loadtxt(dataset, delimiter=',', dtype='int32', usecols=(0))",
   "outputs": [],
   "execution_count": 5
  },
  {
   "cell_type": "code",
   "metadata": {
    "ExecuteTime": {
     "end_time": "2025-04-07T01:32:07.562532Z",
     "start_time": "2025-04-07T01:32:07.547533Z"
    }
   },
   "source": [
    "X_train, X_test, y_train, y_test = train_test_split(X_dataset, y_dataset, train_size=0.75, random_state=RANDOM_SEED)"
   ],
   "outputs": [],
   "execution_count": 6
  },
  {
   "cell_type": "markdown",
   "metadata": {},
   "source": [
    "# モデル構築"
   ]
  },
  {
   "cell_type": "code",
   "metadata": {
    "ExecuteTime": {
     "end_time": "2025-04-07T01:32:07.625657Z",
     "start_time": "2025-04-07T01:32:07.579540Z"
    }
   },
   "source": [
    "model = tf.keras.models.Sequential([\n",
    "    tf.keras.layers.Input((21 * 2, )),\n",
    "    tf.keras.layers.Dropout(0.2),\n",
    "    tf.keras.layers.Dense(20, activation='relu'),\n",
    "    tf.keras.layers.Dropout(0.4),\n",
    "    tf.keras.layers.Dense(10, activation='relu'),\n",
    "    tf.keras.layers.Dense(NUM_CLASSES, activation='softmax')\n",
    "])"
   ],
   "outputs": [],
   "execution_count": 7
  },
  {
   "cell_type": "code",
   "metadata": {
    "ExecuteTime": {
     "end_time": "2025-04-07T01:32:07.735177Z",
     "start_time": "2025-04-07T01:32:07.642660Z"
    }
   },
   "source": [
    "model.summary()  # tf.keras.utils.plot_model(model, show_shapes=True)"
   ],
   "outputs": [
    {
     "data": {
      "text/plain": [
       "\u001B[1mModel: \"sequential\"\u001B[0m\n"
      ],
      "text/html": [
       "<pre style=\"white-space:pre;overflow-x:auto;line-height:normal;font-family:Menlo,'DejaVu Sans Mono',consolas,'Courier New',monospace\"><span style=\"font-weight: bold\">Model: \"sequential\"</span>\n",
       "</pre>\n"
      ]
     },
     "metadata": {},
     "output_type": "display_data"
    },
    {
     "data": {
      "text/plain": [
       "┏━━━━━━━━━━━━━━━━━━━━━━━━━━━━━━━━━┳━━━━━━━━━━━━━━━━━━━━━━━━┳━━━━━━━━━━━━━━━┓\n",
       "┃\u001B[1m \u001B[0m\u001B[1mLayer (type)                   \u001B[0m\u001B[1m \u001B[0m┃\u001B[1m \u001B[0m\u001B[1mOutput Shape          \u001B[0m\u001B[1m \u001B[0m┃\u001B[1m \u001B[0m\u001B[1m      Param #\u001B[0m\u001B[1m \u001B[0m┃\n",
       "┡━━━━━━━━━━━━━━━━━━━━━━━━━━━━━━━━━╇━━━━━━━━━━━━━━━━━━━━━━━━╇━━━━━━━━━━━━━━━┩\n",
       "│ dropout (\u001B[38;5;33mDropout\u001B[0m)               │ (\u001B[38;5;45mNone\u001B[0m, \u001B[38;5;34m42\u001B[0m)             │             \u001B[38;5;34m0\u001B[0m │\n",
       "├─────────────────────────────────┼────────────────────────┼───────────────┤\n",
       "│ dense (\u001B[38;5;33mDense\u001B[0m)                   │ (\u001B[38;5;45mNone\u001B[0m, \u001B[38;5;34m20\u001B[0m)             │           \u001B[38;5;34m860\u001B[0m │\n",
       "├─────────────────────────────────┼────────────────────────┼───────────────┤\n",
       "│ dropout_1 (\u001B[38;5;33mDropout\u001B[0m)             │ (\u001B[38;5;45mNone\u001B[0m, \u001B[38;5;34m20\u001B[0m)             │             \u001B[38;5;34m0\u001B[0m │\n",
       "├─────────────────────────────────┼────────────────────────┼───────────────┤\n",
       "│ dense_1 (\u001B[38;5;33mDense\u001B[0m)                 │ (\u001B[38;5;45mNone\u001B[0m, \u001B[38;5;34m10\u001B[0m)             │           \u001B[38;5;34m210\u001B[0m │\n",
       "├─────────────────────────────────┼────────────────────────┼───────────────┤\n",
       "│ dense_2 (\u001B[38;5;33mDense\u001B[0m)                 │ (\u001B[38;5;45mNone\u001B[0m, \u001B[38;5;34m6\u001B[0m)              │            \u001B[38;5;34m66\u001B[0m │\n",
       "└─────────────────────────────────┴────────────────────────┴───────────────┘\n"
      ],
      "text/html": [
       "<pre style=\"white-space:pre;overflow-x:auto;line-height:normal;font-family:Menlo,'DejaVu Sans Mono',consolas,'Courier New',monospace\">┏━━━━━━━━━━━━━━━━━━━━━━━━━━━━━━━━━┳━━━━━━━━━━━━━━━━━━━━━━━━┳━━━━━━━━━━━━━━━┓\n",
       "┃<span style=\"font-weight: bold\"> Layer (type)                    </span>┃<span style=\"font-weight: bold\"> Output Shape           </span>┃<span style=\"font-weight: bold\">       Param # </span>┃\n",
       "┡━━━━━━━━━━━━━━━━━━━━━━━━━━━━━━━━━╇━━━━━━━━━━━━━━━━━━━━━━━━╇━━━━━━━━━━━━━━━┩\n",
       "│ dropout (<span style=\"color: #0087ff; text-decoration-color: #0087ff\">Dropout</span>)               │ (<span style=\"color: #00d7ff; text-decoration-color: #00d7ff\">None</span>, <span style=\"color: #00af00; text-decoration-color: #00af00\">42</span>)             │             <span style=\"color: #00af00; text-decoration-color: #00af00\">0</span> │\n",
       "├─────────────────────────────────┼────────────────────────┼───────────────┤\n",
       "│ dense (<span style=\"color: #0087ff; text-decoration-color: #0087ff\">Dense</span>)                   │ (<span style=\"color: #00d7ff; text-decoration-color: #00d7ff\">None</span>, <span style=\"color: #00af00; text-decoration-color: #00af00\">20</span>)             │           <span style=\"color: #00af00; text-decoration-color: #00af00\">860</span> │\n",
       "├─────────────────────────────────┼────────────────────────┼───────────────┤\n",
       "│ dropout_1 (<span style=\"color: #0087ff; text-decoration-color: #0087ff\">Dropout</span>)             │ (<span style=\"color: #00d7ff; text-decoration-color: #00d7ff\">None</span>, <span style=\"color: #00af00; text-decoration-color: #00af00\">20</span>)             │             <span style=\"color: #00af00; text-decoration-color: #00af00\">0</span> │\n",
       "├─────────────────────────────────┼────────────────────────┼───────────────┤\n",
       "│ dense_1 (<span style=\"color: #0087ff; text-decoration-color: #0087ff\">Dense</span>)                 │ (<span style=\"color: #00d7ff; text-decoration-color: #00d7ff\">None</span>, <span style=\"color: #00af00; text-decoration-color: #00af00\">10</span>)             │           <span style=\"color: #00af00; text-decoration-color: #00af00\">210</span> │\n",
       "├─────────────────────────────────┼────────────────────────┼───────────────┤\n",
       "│ dense_2 (<span style=\"color: #0087ff; text-decoration-color: #0087ff\">Dense</span>)                 │ (<span style=\"color: #00d7ff; text-decoration-color: #00d7ff\">None</span>, <span style=\"color: #00af00; text-decoration-color: #00af00\">6</span>)              │            <span style=\"color: #00af00; text-decoration-color: #00af00\">66</span> │\n",
       "└─────────────────────────────────┴────────────────────────┴───────────────┘\n",
       "</pre>\n"
      ]
     },
     "metadata": {},
     "output_type": "display_data"
    },
    {
     "data": {
      "text/plain": [
       "\u001B[1m Total params: \u001B[0m\u001B[38;5;34m1,136\u001B[0m (4.44 KB)\n"
      ],
      "text/html": [
       "<pre style=\"white-space:pre;overflow-x:auto;line-height:normal;font-family:Menlo,'DejaVu Sans Mono',consolas,'Courier New',monospace\"><span style=\"font-weight: bold\"> Total params: </span><span style=\"color: #00af00; text-decoration-color: #00af00\">1,136</span> (4.44 KB)\n",
       "</pre>\n"
      ]
     },
     "metadata": {},
     "output_type": "display_data"
    },
    {
     "data": {
      "text/plain": [
       "\u001B[1m Trainable params: \u001B[0m\u001B[38;5;34m1,136\u001B[0m (4.44 KB)\n"
      ],
      "text/html": [
       "<pre style=\"white-space:pre;overflow-x:auto;line-height:normal;font-family:Menlo,'DejaVu Sans Mono',consolas,'Courier New',monospace\"><span style=\"font-weight: bold\"> Trainable params: </span><span style=\"color: #00af00; text-decoration-color: #00af00\">1,136</span> (4.44 KB)\n",
       "</pre>\n"
      ]
     },
     "metadata": {},
     "output_type": "display_data"
    },
    {
     "data": {
      "text/plain": [
       "\u001B[1m Non-trainable params: \u001B[0m\u001B[38;5;34m0\u001B[0m (0.00 B)\n"
      ],
      "text/html": [
       "<pre style=\"white-space:pre;overflow-x:auto;line-height:normal;font-family:Menlo,'DejaVu Sans Mono',consolas,'Courier New',monospace\"><span style=\"font-weight: bold\"> Non-trainable params: </span><span style=\"color: #00af00; text-decoration-color: #00af00\">0</span> (0.00 B)\n",
       "</pre>\n"
      ]
     },
     "metadata": {},
     "output_type": "display_data"
    }
   ],
   "execution_count": 8
  },
  {
   "cell_type": "code",
   "metadata": {
    "ExecuteTime": {
     "end_time": "2025-04-07T01:32:07.766179Z",
     "start_time": "2025-04-07T01:32:07.752178Z"
    }
   },
   "source": [
    "# モデルチェックポイントのコールバック\n",
    "cp_callback = tf.keras.callbacks.ModelCheckpoint(\n",
    "    model_save_path, verbose=1, save_weights_only=False)\n",
    "# 早期打ち切り用コールバック\n",
    "es_callback = tf.keras.callbacks.EarlyStopping(patience=20, verbose=1)"
   ],
   "outputs": [],
   "execution_count": 9
  },
  {
   "cell_type": "code",
   "metadata": {
    "ExecuteTime": {
     "end_time": "2025-04-07T01:32:07.797220Z",
     "start_time": "2025-04-07T01:32:07.782184Z"
    }
   },
   "source": [
    "# モデルコンパイル\n",
    "model.compile(\n",
    "    optimizer='adam',\n",
    "    loss='sparse_categorical_crossentropy',\n",
    "    metrics=['accuracy']\n",
    ")"
   ],
   "outputs": [],
   "execution_count": 10
  },
  {
   "cell_type": "markdown",
   "metadata": {},
   "source": [
    "# モデル訓練"
   ]
  },
  {
   "cell_type": "code",
   "metadata": {
    "scrolled": true,
    "ExecuteTime": {
     "end_time": "2025-04-07T01:32:22.951110Z",
     "start_time": "2025-04-07T01:32:07.813608Z"
    }
   },
   "source": [
    "model.fit(\n",
    "    X_train,\n",
    "    y_train,\n",
    "    epochs=1000,\n",
    "    batch_size=128,\n",
    "    validation_data=(X_test, y_test),\n",
    "    callbacks=[cp_callback, es_callback]\n",
    ")"
   ],
   "outputs": [
    {
     "name": "stdout",
     "output_type": "stream",
     "text": [
      "Epoch 1/1000\n",
      "\u001B[1m 1/28\u001B[0m \u001B[37m━━━━━━━━━━━━━━━━━━━━\u001B[0m \u001B[1m10s\u001B[0m 391ms/step - accuracy: 0.2031 - loss: 1.8582\n",
      "Epoch 1: saving model to grimm\\PycharmProjects\\hand-gesture-recognition-mediapipe\\model\\keypoint_classifier\\keypoint_classifier.keras\n",
      "\u001B[1m28/28\u001B[0m \u001B[32m━━━━━━━━━━━━━━━━━━━━\u001B[0m\u001B[37m\u001B[0m \u001B[1m1s\u001B[0m 6ms/step - accuracy: 0.2346 - loss: 1.7867 - val_accuracy: 0.3752 - val_loss: 1.6365\n",
      "Epoch 2/1000\n",
      "\u001B[1m 1/28\u001B[0m \u001B[37m━━━━━━━━━━━━━━━━━━━━\u001B[0m \u001B[1m0s\u001B[0m 18ms/step - accuracy: 0.3281 - loss: 1.6746\n",
      "Epoch 2: saving model to grimm\\PycharmProjects\\hand-gesture-recognition-mediapipe\\model\\keypoint_classifier\\keypoint_classifier.keras\n",
      "\u001B[1m28/28\u001B[0m \u001B[32m━━━━━━━━━━━━━━━━━━━━\u001B[0m\u001B[37m\u001B[0m \u001B[1m0s\u001B[0m 3ms/step - accuracy: 0.3264 - loss: 1.6345 - val_accuracy: 0.4312 - val_loss: 1.5136\n",
      "Epoch 3/1000\n",
      "\u001B[1m 1/28\u001B[0m \u001B[37m━━━━━━━━━━━━━━━━━━━━\u001B[0m \u001B[1m0s\u001B[0m 18ms/step - accuracy: 0.3047 - loss: 1.5937\n",
      "Epoch 3: saving model to grimm\\PycharmProjects\\hand-gesture-recognition-mediapipe\\model\\keypoint_classifier\\keypoint_classifier.keras\n",
      "\u001B[1m28/28\u001B[0m \u001B[32m━━━━━━━━━━━━━━━━━━━━\u001B[0m\u001B[37m\u001B[0m \u001B[1m0s\u001B[0m 3ms/step - accuracy: 0.3706 - loss: 1.5399 - val_accuracy: 0.5129 - val_loss: 1.3903\n",
      "Epoch 4/1000\n",
      "\u001B[1m 1/28\u001B[0m \u001B[37m━━━━━━━━━━━━━━━━━━━━\u001B[0m \u001B[1m0s\u001B[0m 18ms/step - accuracy: 0.4297 - loss: 1.4812\n",
      "Epoch 4: saving model to grimm\\PycharmProjects\\hand-gesture-recognition-mediapipe\\model\\keypoint_classifier\\keypoint_classifier.keras\n",
      "\u001B[1m28/28\u001B[0m \u001B[32m━━━━━━━━━━━━━━━━━━━━\u001B[0m\u001B[37m\u001B[0m \u001B[1m0s\u001B[0m 3ms/step - accuracy: 0.4189 - loss: 1.4393 - val_accuracy: 0.5680 - val_loss: 1.2911\n",
      "Epoch 5/1000\n",
      "\u001B[1m 1/28\u001B[0m \u001B[37m━━━━━━━━━━━━━━━━━━━━\u001B[0m \u001B[1m0s\u001B[0m 18ms/step - accuracy: 0.4609 - loss: 1.3419\n",
      "Epoch 5: saving model to grimm\\PycharmProjects\\hand-gesture-recognition-mediapipe\\model\\keypoint_classifier\\keypoint_classifier.keras\n",
      "\u001B[1m28/28\u001B[0m \u001B[32m━━━━━━━━━━━━━━━━━━━━\u001B[0m\u001B[37m\u001B[0m \u001B[1m0s\u001B[0m 3ms/step - accuracy: 0.4306 - loss: 1.3669 - val_accuracy: 0.5783 - val_loss: 1.2160\n",
      "Epoch 6/1000\n",
      "\u001B[1m 1/28\u001B[0m \u001B[37m━━━━━━━━━━━━━━━━━━━━\u001B[0m \u001B[1m0s\u001B[0m 18ms/step - accuracy: 0.5391 - loss: 1.2843\n",
      "Epoch 6: saving model to grimm\\PycharmProjects\\hand-gesture-recognition-mediapipe\\model\\keypoint_classifier\\keypoint_classifier.keras\n",
      "\u001B[1m28/28\u001B[0m \u001B[32m━━━━━━━━━━━━━━━━━━━━\u001B[0m\u001B[37m\u001B[0m \u001B[1m0s\u001B[0m 3ms/step - accuracy: 0.4702 - loss: 1.3001 - val_accuracy: 0.5878 - val_loss: 1.1506\n",
      "Epoch 7/1000\n",
      "\u001B[1m 1/28\u001B[0m \u001B[37m━━━━━━━━━━━━━━━━━━━━\u001B[0m \u001B[1m0s\u001B[0m 17ms/step - accuracy: 0.5000 - loss: 1.2149\n",
      "Epoch 7: saving model to grimm\\PycharmProjects\\hand-gesture-recognition-mediapipe\\model\\keypoint_classifier\\keypoint_classifier.keras\n",
      "\u001B[1m28/28\u001B[0m \u001B[32m━━━━━━━━━━━━━━━━━━━━\u001B[0m\u001B[37m\u001B[0m \u001B[1m0s\u001B[0m 3ms/step - accuracy: 0.4694 - loss: 1.2643 - val_accuracy: 0.6179 - val_loss: 1.0986\n",
      "Epoch 8/1000\n",
      "\u001B[1m 1/28\u001B[0m \u001B[37m━━━━━━━━━━━━━━━━━━━━\u001B[0m \u001B[1m0s\u001B[0m 18ms/step - accuracy: 0.5156 - loss: 1.1944\n",
      "Epoch 8: saving model to grimm\\PycharmProjects\\hand-gesture-recognition-mediapipe\\model\\keypoint_classifier\\keypoint_classifier.keras\n",
      "\u001B[1m28/28\u001B[0m \u001B[32m━━━━━━━━━━━━━━━━━━━━\u001B[0m\u001B[37m\u001B[0m \u001B[1m0s\u001B[0m 3ms/step - accuracy: 0.5048 - loss: 1.2167 - val_accuracy: 0.6489 - val_loss: 1.0489\n",
      "Epoch 9/1000\n",
      "\u001B[1m 1/28\u001B[0m \u001B[37m━━━━━━━━━━━━━━━━━━━━\u001B[0m \u001B[1m0s\u001B[0m 17ms/step - accuracy: 0.4922 - loss: 1.3093\n",
      "Epoch 9: saving model to grimm\\PycharmProjects\\hand-gesture-recognition-mediapipe\\model\\keypoint_classifier\\keypoint_classifier.keras\n",
      "\u001B[1m28/28\u001B[0m \u001B[32m━━━━━━━━━━━━━━━━━━━━\u001B[0m\u001B[37m\u001B[0m \u001B[1m0s\u001B[0m 3ms/step - accuracy: 0.5100 - loss: 1.1991 - val_accuracy: 0.6523 - val_loss: 1.0065\n",
      "Epoch 10/1000\n",
      "\u001B[1m 1/28\u001B[0m \u001B[37m━━━━━━━━━━━━━━━━━━━━\u001B[0m \u001B[1m0s\u001B[0m 18ms/step - accuracy: 0.5234 - loss: 1.1329\n",
      "Epoch 10: saving model to grimm\\PycharmProjects\\hand-gesture-recognition-mediapipe\\model\\keypoint_classifier\\keypoint_classifier.keras\n",
      "\u001B[1m28/28\u001B[0m \u001B[32m━━━━━━━━━━━━━━━━━━━━\u001B[0m\u001B[37m\u001B[0m \u001B[1m0s\u001B[0m 3ms/step - accuracy: 0.5074 - loss: 1.1542 - val_accuracy: 0.6532 - val_loss: 0.9697\n",
      "Epoch 11/1000\n",
      "\u001B[1m 1/28\u001B[0m \u001B[37m━━━━━━━━━━━━━━━━━━━━\u001B[0m \u001B[1m0s\u001B[0m 18ms/step - accuracy: 0.5625 - loss: 1.0692\n",
      "Epoch 11: saving model to grimm\\PycharmProjects\\hand-gesture-recognition-mediapipe\\model\\keypoint_classifier\\keypoint_classifier.keras\n",
      "\u001B[1m28/28\u001B[0m \u001B[32m━━━━━━━━━━━━━━━━━━━━\u001B[0m\u001B[37m\u001B[0m \u001B[1m0s\u001B[0m 3ms/step - accuracy: 0.5286 - loss: 1.1447 - val_accuracy: 0.6566 - val_loss: 0.9418\n",
      "Epoch 12/1000\n",
      "\u001B[1m 1/28\u001B[0m \u001B[37m━━━━━━━━━━━━━━━━━━━━\u001B[0m \u001B[1m0s\u001B[0m 17ms/step - accuracy: 0.4766 - loss: 1.1607\n",
      "Epoch 12: saving model to grimm\\PycharmProjects\\hand-gesture-recognition-mediapipe\\model\\keypoint_classifier\\keypoint_classifier.keras\n",
      "\u001B[1m28/28\u001B[0m \u001B[32m━━━━━━━━━━━━━━━━━━━━\u001B[0m\u001B[37m\u001B[0m \u001B[1m0s\u001B[0m 3ms/step - accuracy: 0.5491 - loss: 1.1235 - val_accuracy: 0.7212 - val_loss: 0.9057\n",
      "Epoch 13/1000\n",
      "\u001B[1m 1/28\u001B[0m \u001B[37m━━━━━━━━━━━━━━━━━━━━\u001B[0m \u001B[1m0s\u001B[0m 17ms/step - accuracy: 0.5469 - loss: 1.0851\n",
      "Epoch 13: saving model to grimm\\PycharmProjects\\hand-gesture-recognition-mediapipe\\model\\keypoint_classifier\\keypoint_classifier.keras\n",
      "\u001B[1m28/28\u001B[0m \u001B[32m━━━━━━━━━━━━━━━━━━━━\u001B[0m\u001B[37m\u001B[0m \u001B[1m0s\u001B[0m 3ms/step - accuracy: 0.5515 - loss: 1.0980 - val_accuracy: 0.7315 - val_loss: 0.8763\n",
      "Epoch 14/1000\n",
      "\u001B[1m 1/28\u001B[0m \u001B[37m━━━━━━━━━━━━━━━━━━━━\u001B[0m \u001B[1m0s\u001B[0m 18ms/step - accuracy: 0.5703 - loss: 1.0917\n",
      "Epoch 14: saving model to grimm\\PycharmProjects\\hand-gesture-recognition-mediapipe\\model\\keypoint_classifier\\keypoint_classifier.keras\n",
      "\u001B[1m28/28\u001B[0m \u001B[32m━━━━━━━━━━━━━━━━━━━━\u001B[0m\u001B[37m\u001B[0m \u001B[1m0s\u001B[0m 3ms/step - accuracy: 0.5622 - loss: 1.0640 - val_accuracy: 0.7349 - val_loss: 0.8491\n",
      "Epoch 15/1000\n",
      "\u001B[1m 1/28\u001B[0m \u001B[37m━━━━━━━━━━━━━━━━━━━━\u001B[0m \u001B[1m0s\u001B[0m 17ms/step - accuracy: 0.6016 - loss: 0.9433\n",
      "Epoch 15: saving model to grimm\\PycharmProjects\\hand-gesture-recognition-mediapipe\\model\\keypoint_classifier\\keypoint_classifier.keras\n",
      "\u001B[1m28/28\u001B[0m \u001B[32m━━━━━━━━━━━━━━━━━━━━\u001B[0m\u001B[37m\u001B[0m \u001B[1m0s\u001B[0m 3ms/step - accuracy: 0.5726 - loss: 1.0341 - val_accuracy: 0.7410 - val_loss: 0.8234\n",
      "Epoch 16/1000\n",
      "\u001B[1m 1/28\u001B[0m \u001B[37m━━━━━━━━━━━━━━━━━━━━\u001B[0m \u001B[1m0s\u001B[0m 18ms/step - accuracy: 0.5781 - loss: 1.0564\n",
      "Epoch 16: saving model to grimm\\PycharmProjects\\hand-gesture-recognition-mediapipe\\model\\keypoint_classifier\\keypoint_classifier.keras\n",
      "\u001B[1m28/28\u001B[0m \u001B[32m━━━━━━━━━━━━━━━━━━━━\u001B[0m\u001B[37m\u001B[0m \u001B[1m0s\u001B[0m 3ms/step - accuracy: 0.5815 - loss: 1.0361 - val_accuracy: 0.7410 - val_loss: 0.7998\n",
      "Epoch 17/1000\n",
      "\u001B[1m 1/28\u001B[0m \u001B[37m━━━━━━━━━━━━━━━━━━━━\u001B[0m \u001B[1m0s\u001B[0m 18ms/step - accuracy: 0.5625 - loss: 1.1101\n",
      "Epoch 17: saving model to grimm\\PycharmProjects\\hand-gesture-recognition-mediapipe\\model\\keypoint_classifier\\keypoint_classifier.keras\n",
      "\u001B[1m28/28\u001B[0m \u001B[32m━━━━━━━━━━━━━━━━━━━━\u001B[0m\u001B[37m\u001B[0m \u001B[1m0s\u001B[0m 3ms/step - accuracy: 0.5799 - loss: 1.0349 - val_accuracy: 0.7410 - val_loss: 0.7795\n",
      "Epoch 18/1000\n",
      "\u001B[1m 1/28\u001B[0m \u001B[37m━━━━━━━━━━━━━━━━━━━━\u001B[0m \u001B[1m0s\u001B[0m 18ms/step - accuracy: 0.5938 - loss: 0.9689\n",
      "Epoch 18: saving model to grimm\\PycharmProjects\\hand-gesture-recognition-mediapipe\\model\\keypoint_classifier\\keypoint_classifier.keras\n",
      "\u001B[1m28/28\u001B[0m \u001B[32m━━━━━━━━━━━━━━━━━━━━\u001B[0m\u001B[37m\u001B[0m \u001B[1m0s\u001B[0m 3ms/step - accuracy: 0.6052 - loss: 0.9979 - val_accuracy: 0.7556 - val_loss: 0.7609\n",
      "Epoch 19/1000\n",
      "\u001B[1m 1/28\u001B[0m \u001B[37m━━━━━━━━━━━━━━━━━━━━\u001B[0m \u001B[1m0s\u001B[0m 17ms/step - accuracy: 0.6797 - loss: 0.9491\n",
      "Epoch 19: saving model to grimm\\PycharmProjects\\hand-gesture-recognition-mediapipe\\model\\keypoint_classifier\\keypoint_classifier.keras\n",
      "\u001B[1m28/28\u001B[0m \u001B[32m━━━━━━━━━━━━━━━━━━━━\u001B[0m\u001B[37m\u001B[0m \u001B[1m0s\u001B[0m 3ms/step - accuracy: 0.6192 - loss: 0.9721 - val_accuracy: 0.7556 - val_loss: 0.7409\n",
      "Epoch 20/1000\n",
      "\u001B[1m 1/28\u001B[0m \u001B[37m━━━━━━━━━━━━━━━━━━━━\u001B[0m \u001B[1m0s\u001B[0m 17ms/step - accuracy: 0.5781 - loss: 0.9907\n",
      "Epoch 20: saving model to grimm\\PycharmProjects\\hand-gesture-recognition-mediapipe\\model\\keypoint_classifier\\keypoint_classifier.keras\n",
      "\u001B[1m28/28\u001B[0m \u001B[32m━━━━━━━━━━━━━━━━━━━━\u001B[0m\u001B[37m\u001B[0m \u001B[1m0s\u001B[0m 3ms/step - accuracy: 0.6130 - loss: 0.9839 - val_accuracy: 0.7539 - val_loss: 0.7239\n",
      "Epoch 21/1000\n",
      "\u001B[1m 1/28\u001B[0m \u001B[37m━━━━━━━━━━━━━━━━━━━━\u001B[0m \u001B[1m0s\u001B[0m 17ms/step - accuracy: 0.6016 - loss: 1.0174\n",
      "Epoch 21: saving model to grimm\\PycharmProjects\\hand-gesture-recognition-mediapipe\\model\\keypoint_classifier\\keypoint_classifier.keras\n",
      "\u001B[1m28/28\u001B[0m \u001B[32m━━━━━━━━━━━━━━━━━━━━\u001B[0m\u001B[37m\u001B[0m \u001B[1m0s\u001B[0m 3ms/step - accuracy: 0.6171 - loss: 0.9808 - val_accuracy: 0.7754 - val_loss: 0.7056\n",
      "Epoch 22/1000\n",
      "\u001B[1m 1/28\u001B[0m \u001B[37m━━━━━━━━━━━━━━━━━━━━\u001B[0m \u001B[1m0s\u001B[0m 17ms/step - accuracy: 0.5781 - loss: 1.0118\n",
      "Epoch 22: saving model to grimm\\PycharmProjects\\hand-gesture-recognition-mediapipe\\model\\keypoint_classifier\\keypoint_classifier.keras\n",
      "\u001B[1m28/28\u001B[0m \u001B[32m━━━━━━━━━━━━━━━━━━━━\u001B[0m\u001B[37m\u001B[0m \u001B[1m0s\u001B[0m 3ms/step - accuracy: 0.6163 - loss: 0.9518 - val_accuracy: 0.7806 - val_loss: 0.6868\n",
      "Epoch 23/1000\n",
      "\u001B[1m 1/28\u001B[0m \u001B[37m━━━━━━━━━━━━━━━━━━━━\u001B[0m \u001B[1m0s\u001B[0m 17ms/step - accuracy: 0.6094 - loss: 0.9426\n",
      "Epoch 23: saving model to grimm\\PycharmProjects\\hand-gesture-recognition-mediapipe\\model\\keypoint_classifier\\keypoint_classifier.keras\n",
      "\u001B[1m28/28\u001B[0m \u001B[32m━━━━━━━━━━━━━━━━━━━━\u001B[0m\u001B[37m\u001B[0m \u001B[1m0s\u001B[0m 3ms/step - accuracy: 0.6464 - loss: 0.9330 - val_accuracy: 0.7978 - val_loss: 0.6692\n",
      "Epoch 24/1000\n",
      "\u001B[1m 1/28\u001B[0m \u001B[37m━━━━━━━━━━━━━━━━━━━━\u001B[0m \u001B[1m0s\u001B[0m 17ms/step - accuracy: 0.5625 - loss: 1.0196\n",
      "Epoch 24: saving model to grimm\\PycharmProjects\\hand-gesture-recognition-mediapipe\\model\\keypoint_classifier\\keypoint_classifier.keras\n",
      "\u001B[1m28/28\u001B[0m \u001B[32m━━━━━━━━━━━━━━━━━━━━\u001B[0m\u001B[37m\u001B[0m \u001B[1m0s\u001B[0m 3ms/step - accuracy: 0.6322 - loss: 0.9297 - val_accuracy: 0.7995 - val_loss: 0.6616\n",
      "Epoch 25/1000\n",
      "\u001B[1m 1/28\u001B[0m \u001B[37m━━━━━━━━━━━━━━━━━━━━\u001B[0m \u001B[1m0s\u001B[0m 17ms/step - accuracy: 0.6641 - loss: 0.8983\n",
      "Epoch 25: saving model to grimm\\PycharmProjects\\hand-gesture-recognition-mediapipe\\model\\keypoint_classifier\\keypoint_classifier.keras\n",
      "\u001B[1m28/28\u001B[0m \u001B[32m━━━━━━━━━━━━━━━━━━━━\u001B[0m\u001B[37m\u001B[0m \u001B[1m0s\u001B[0m 3ms/step - accuracy: 0.6306 - loss: 0.9202 - val_accuracy: 0.7935 - val_loss: 0.6470\n",
      "Epoch 26/1000\n",
      "\u001B[1m 1/28\u001B[0m \u001B[37m━━━━━━━━━━━━━━━━━━━━\u001B[0m \u001B[1m0s\u001B[0m 17ms/step - accuracy: 0.6484 - loss: 0.8380\n",
      "Epoch 26: saving model to grimm\\PycharmProjects\\hand-gesture-recognition-mediapipe\\model\\keypoint_classifier\\keypoint_classifier.keras\n",
      "\u001B[1m28/28\u001B[0m \u001B[32m━━━━━━━━━━━━━━━━━━━━\u001B[0m\u001B[37m\u001B[0m \u001B[1m0s\u001B[0m 3ms/step - accuracy: 0.6354 - loss: 0.9170 - val_accuracy: 0.7995 - val_loss: 0.6350\n",
      "Epoch 27/1000\n",
      "\u001B[1m 1/28\u001B[0m \u001B[37m━━━━━━━━━━━━━━━━━━━━\u001B[0m \u001B[1m0s\u001B[0m 17ms/step - accuracy: 0.7422 - loss: 0.7610\n",
      "Epoch 27: saving model to grimm\\PycharmProjects\\hand-gesture-recognition-mediapipe\\model\\keypoint_classifier\\keypoint_classifier.keras\n",
      "\u001B[1m28/28\u001B[0m \u001B[32m━━━━━━━━━━━━━━━━━━━━\u001B[0m\u001B[37m\u001B[0m \u001B[1m0s\u001B[0m 3ms/step - accuracy: 0.6436 - loss: 0.8954 - val_accuracy: 0.8150 - val_loss: 0.6187\n",
      "Epoch 28/1000\n",
      "\u001B[1m 1/28\u001B[0m \u001B[37m━━━━━━━━━━━━━━━━━━━━\u001B[0m \u001B[1m0s\u001B[0m 17ms/step - accuracy: 0.6016 - loss: 0.9117\n",
      "Epoch 28: saving model to grimm\\PycharmProjects\\hand-gesture-recognition-mediapipe\\model\\keypoint_classifier\\keypoint_classifier.keras\n",
      "\u001B[1m28/28\u001B[0m \u001B[32m━━━━━━━━━━━━━━━━━━━━\u001B[0m\u001B[37m\u001B[0m \u001B[1m0s\u001B[0m 3ms/step - accuracy: 0.6634 - loss: 0.8719 - val_accuracy: 0.8158 - val_loss: 0.6031\n",
      "Epoch 29/1000\n",
      "\u001B[1m 1/28\u001B[0m \u001B[37m━━━━━━━━━━━━━━━━━━━━\u001B[0m \u001B[1m0s\u001B[0m 18ms/step - accuracy: 0.6094 - loss: 0.9059\n",
      "Epoch 29: saving model to grimm\\PycharmProjects\\hand-gesture-recognition-mediapipe\\model\\keypoint_classifier\\keypoint_classifier.keras\n",
      "\u001B[1m28/28\u001B[0m \u001B[32m━━━━━━━━━━━━━━━━━━━━\u001B[0m\u001B[37m\u001B[0m \u001B[1m0s\u001B[0m 3ms/step - accuracy: 0.6440 - loss: 0.8866 - val_accuracy: 0.8244 - val_loss: 0.5950\n",
      "Epoch 30/1000\n",
      "\u001B[1m 1/28\u001B[0m \u001B[37m━━━━━━━━━━━━━━━━━━━━\u001B[0m \u001B[1m0s\u001B[0m 16ms/step - accuracy: 0.5938 - loss: 0.9291\n",
      "Epoch 30: saving model to grimm\\PycharmProjects\\hand-gesture-recognition-mediapipe\\model\\keypoint_classifier\\keypoint_classifier.keras\n",
      "\u001B[1m28/28\u001B[0m \u001B[32m━━━━━━━━━━━━━━━━━━━━\u001B[0m\u001B[37m\u001B[0m \u001B[1m0s\u001B[0m 3ms/step - accuracy: 0.6517 - loss: 0.8803 - val_accuracy: 0.8305 - val_loss: 0.5826\n",
      "Epoch 31/1000\n",
      "\u001B[1m 1/28\u001B[0m \u001B[37m━━━━━━━━━━━━━━━━━━━━\u001B[0m \u001B[1m0s\u001B[0m 18ms/step - accuracy: 0.6016 - loss: 0.8839\n",
      "Epoch 31: saving model to grimm\\PycharmProjects\\hand-gesture-recognition-mediapipe\\model\\keypoint_classifier\\keypoint_classifier.keras\n",
      "\u001B[1m28/28\u001B[0m \u001B[32m━━━━━━━━━━━━━━━━━━━━\u001B[0m\u001B[37m\u001B[0m \u001B[1m0s\u001B[0m 3ms/step - accuracy: 0.6588 - loss: 0.8540 - val_accuracy: 0.8348 - val_loss: 0.5723\n",
      "Epoch 32/1000\n",
      "\u001B[1m 1/28\u001B[0m \u001B[37m━━━━━━━━━━━━━━━━━━━━\u001B[0m \u001B[1m0s\u001B[0m 17ms/step - accuracy: 0.6641 - loss: 0.8743\n",
      "Epoch 32: saving model to grimm\\PycharmProjects\\hand-gesture-recognition-mediapipe\\model\\keypoint_classifier\\keypoint_classifier.keras\n",
      "\u001B[1m28/28\u001B[0m \u001B[32m━━━━━━━━━━━━━━━━━━━━\u001B[0m\u001B[37m\u001B[0m \u001B[1m0s\u001B[0m 3ms/step - accuracy: 0.6526 - loss: 0.8670 - val_accuracy: 0.8305 - val_loss: 0.5630\n",
      "Epoch 33/1000\n",
      "\u001B[1m 1/28\u001B[0m \u001B[37m━━━━━━━━━━━━━━━━━━━━\u001B[0m \u001B[1m0s\u001B[0m 17ms/step - accuracy: 0.6094 - loss: 0.9990\n",
      "Epoch 33: saving model to grimm\\PycharmProjects\\hand-gesture-recognition-mediapipe\\model\\keypoint_classifier\\keypoint_classifier.keras\n",
      "\u001B[1m28/28\u001B[0m \u001B[32m━━━━━━━━━━━━━━━━━━━━\u001B[0m\u001B[37m\u001B[0m \u001B[1m0s\u001B[0m 3ms/step - accuracy: 0.6605 - loss: 0.8517 - val_accuracy: 0.8408 - val_loss: 0.5448\n",
      "Epoch 34/1000\n",
      "\u001B[1m 1/28\u001B[0m \u001B[37m━━━━━━━━━━━━━━━━━━━━\u001B[0m \u001B[1m0s\u001B[0m 17ms/step - accuracy: 0.7109 - loss: 0.8068\n",
      "Epoch 34: saving model to grimm\\PycharmProjects\\hand-gesture-recognition-mediapipe\\model\\keypoint_classifier\\keypoint_classifier.keras\n",
      "\u001B[1m28/28\u001B[0m \u001B[32m━━━━━━━━━━━━━━━━━━━━\u001B[0m\u001B[37m\u001B[0m \u001B[1m0s\u001B[0m 3ms/step - accuracy: 0.6727 - loss: 0.8343 - val_accuracy: 0.8434 - val_loss: 0.5375\n",
      "Epoch 35/1000\n",
      "\u001B[1m 1/28\u001B[0m \u001B[37m━━━━━━━━━━━━━━━━━━━━\u001B[0m \u001B[1m0s\u001B[0m 17ms/step - accuracy: 0.6953 - loss: 0.8557\n",
      "Epoch 35: saving model to grimm\\PycharmProjects\\hand-gesture-recognition-mediapipe\\model\\keypoint_classifier\\keypoint_classifier.keras\n",
      "\u001B[1m28/28\u001B[0m \u001B[32m━━━━━━━━━━━━━━━━━━━━\u001B[0m\u001B[37m\u001B[0m \u001B[1m0s\u001B[0m 3ms/step - accuracy: 0.6901 - loss: 0.8066 - val_accuracy: 0.8494 - val_loss: 0.5259\n",
      "Epoch 36/1000\n",
      "\u001B[1m 1/28\u001B[0m \u001B[37m━━━━━━━━━━━━━━━━━━━━\u001B[0m \u001B[1m0s\u001B[0m 17ms/step - accuracy: 0.6719 - loss: 0.8049\n",
      "Epoch 36: saving model to grimm\\PycharmProjects\\hand-gesture-recognition-mediapipe\\model\\keypoint_classifier\\keypoint_classifier.keras\n",
      "\u001B[1m28/28\u001B[0m \u001B[32m━━━━━━━━━━━━━━━━━━━━\u001B[0m\u001B[37m\u001B[0m \u001B[1m0s\u001B[0m 3ms/step - accuracy: 0.6569 - loss: 0.8250 - val_accuracy: 0.8468 - val_loss: 0.5155\n",
      "Epoch 37/1000\n",
      "\u001B[1m 1/28\u001B[0m \u001B[37m━━━━━━━━━━━━━━━━━━━━\u001B[0m \u001B[1m0s\u001B[0m 17ms/step - accuracy: 0.6953 - loss: 0.8077\n",
      "Epoch 37: saving model to grimm\\PycharmProjects\\hand-gesture-recognition-mediapipe\\model\\keypoint_classifier\\keypoint_classifier.keras\n",
      "\u001B[1m28/28\u001B[0m \u001B[32m━━━━━━━━━━━━━━━━━━━━\u001B[0m\u001B[37m\u001B[0m \u001B[1m0s\u001B[0m 3ms/step - accuracy: 0.6761 - loss: 0.8154 - val_accuracy: 0.8537 - val_loss: 0.5109\n",
      "Epoch 38/1000\n",
      "\u001B[1m 1/28\u001B[0m \u001B[37m━━━━━━━━━━━━━━━━━━━━\u001B[0m \u001B[1m0s\u001B[0m 17ms/step - accuracy: 0.7188 - loss: 0.7073\n",
      "Epoch 38: saving model to grimm\\PycharmProjects\\hand-gesture-recognition-mediapipe\\model\\keypoint_classifier\\keypoint_classifier.keras\n",
      "\u001B[1m28/28\u001B[0m \u001B[32m━━━━━━━━━━━━━━━━━━━━\u001B[0m\u001B[37m\u001B[0m \u001B[1m0s\u001B[0m 3ms/step - accuracy: 0.6825 - loss: 0.7886 - val_accuracy: 0.8589 - val_loss: 0.5002\n",
      "Epoch 39/1000\n",
      "\u001B[1m 1/28\u001B[0m \u001B[37m━━━━━━━━━━━━━━━━━━━━\u001B[0m \u001B[1m0s\u001B[0m 17ms/step - accuracy: 0.7422 - loss: 0.7702\n",
      "Epoch 39: saving model to grimm\\PycharmProjects\\hand-gesture-recognition-mediapipe\\model\\keypoint_classifier\\keypoint_classifier.keras\n",
      "\u001B[1m28/28\u001B[0m \u001B[32m━━━━━━━━━━━━━━━━━━━━\u001B[0m\u001B[37m\u001B[0m \u001B[1m0s\u001B[0m 3ms/step - accuracy: 0.6793 - loss: 0.8211 - val_accuracy: 0.8503 - val_loss: 0.4984\n",
      "Epoch 40/1000\n",
      "\u001B[1m 1/28\u001B[0m \u001B[37m━━━━━━━━━━━━━━━━━━━━\u001B[0m \u001B[1m0s\u001B[0m 18ms/step - accuracy: 0.7109 - loss: 0.8079\n",
      "Epoch 40: saving model to grimm\\PycharmProjects\\hand-gesture-recognition-mediapipe\\model\\keypoint_classifier\\keypoint_classifier.keras\n",
      "\u001B[1m28/28\u001B[0m \u001B[32m━━━━━━━━━━━━━━━━━━━━\u001B[0m\u001B[37m\u001B[0m \u001B[1m0s\u001B[0m 3ms/step - accuracy: 0.6851 - loss: 0.7898 - val_accuracy: 0.8503 - val_loss: 0.4901\n",
      "Epoch 41/1000\n",
      "\u001B[1m 1/28\u001B[0m \u001B[37m━━━━━━━━━━━━━━━━━━━━\u001B[0m \u001B[1m0s\u001B[0m 18ms/step - accuracy: 0.6953 - loss: 0.7663\n",
      "Epoch 41: saving model to grimm\\PycharmProjects\\hand-gesture-recognition-mediapipe\\model\\keypoint_classifier\\keypoint_classifier.keras\n",
      "\u001B[1m28/28\u001B[0m \u001B[32m━━━━━━━━━━━━━━━━━━━━\u001B[0m\u001B[37m\u001B[0m \u001B[1m0s\u001B[0m 3ms/step - accuracy: 0.6789 - loss: 0.8184 - val_accuracy: 0.8589 - val_loss: 0.4887\n",
      "Epoch 42/1000\n",
      "\u001B[1m 1/28\u001B[0m \u001B[37m━━━━━━━━━━━━━━━━━━━━\u001B[0m \u001B[1m0s\u001B[0m 17ms/step - accuracy: 0.7031 - loss: 0.7185\n",
      "Epoch 42: saving model to grimm\\PycharmProjects\\hand-gesture-recognition-mediapipe\\model\\keypoint_classifier\\keypoint_classifier.keras\n",
      "\u001B[1m28/28\u001B[0m \u001B[32m━━━━━━━━━━━━━━━━━━━━\u001B[0m\u001B[37m\u001B[0m \u001B[1m0s\u001B[0m 3ms/step - accuracy: 0.7046 - loss: 0.7474 - val_accuracy: 0.8632 - val_loss: 0.4769\n",
      "Epoch 43/1000\n",
      "\u001B[1m 1/28\u001B[0m \u001B[37m━━━━━━━━━━━━━━━━━━━━\u001B[0m \u001B[1m0s\u001B[0m 17ms/step - accuracy: 0.7109 - loss: 0.7371\n",
      "Epoch 43: saving model to grimm\\PycharmProjects\\hand-gesture-recognition-mediapipe\\model\\keypoint_classifier\\keypoint_classifier.keras\n",
      "\u001B[1m28/28\u001B[0m \u001B[32m━━━━━━━━━━━━━━━━━━━━\u001B[0m\u001B[37m\u001B[0m \u001B[1m0s\u001B[0m 3ms/step - accuracy: 0.6986 - loss: 0.7808 - val_accuracy: 0.8735 - val_loss: 0.4713\n",
      "Epoch 44/1000\n",
      "\u001B[1m 1/28\u001B[0m \u001B[37m━━━━━━━━━━━━━━━━━━━━\u001B[0m \u001B[1m0s\u001B[0m 16ms/step - accuracy: 0.6953 - loss: 0.8347\n",
      "Epoch 44: saving model to grimm\\PycharmProjects\\hand-gesture-recognition-mediapipe\\model\\keypoint_classifier\\keypoint_classifier.keras\n",
      "\u001B[1m28/28\u001B[0m \u001B[32m━━━━━━━━━━━━━━━━━━━━\u001B[0m\u001B[37m\u001B[0m \u001B[1m0s\u001B[0m 3ms/step - accuracy: 0.6944 - loss: 0.7750 - val_accuracy: 0.8657 - val_loss: 0.4664\n",
      "Epoch 45/1000\n",
      "\u001B[1m 1/28\u001B[0m \u001B[37m━━━━━━━━━━━━━━━━━━━━\u001B[0m \u001B[1m0s\u001B[0m 16ms/step - accuracy: 0.7109 - loss: 0.7636\n",
      "Epoch 45: saving model to grimm\\PycharmProjects\\hand-gesture-recognition-mediapipe\\model\\keypoint_classifier\\keypoint_classifier.keras\n",
      "\u001B[1m28/28\u001B[0m \u001B[32m━━━━━━━━━━━━━━━━━━━━\u001B[0m\u001B[37m\u001B[0m \u001B[1m0s\u001B[0m 3ms/step - accuracy: 0.7002 - loss: 0.7671 - val_accuracy: 0.8709 - val_loss: 0.4525\n",
      "Epoch 46/1000\n",
      "\u001B[1m 1/28\u001B[0m \u001B[37m━━━━━━━━━━━━━━━━━━━━\u001B[0m \u001B[1m0s\u001B[0m 16ms/step - accuracy: 0.6953 - loss: 0.8086\n",
      "Epoch 46: saving model to grimm\\PycharmProjects\\hand-gesture-recognition-mediapipe\\model\\keypoint_classifier\\keypoint_classifier.keras\n",
      "\u001B[1m28/28\u001B[0m \u001B[32m━━━━━━━━━━━━━━━━━━━━\u001B[0m\u001B[37m\u001B[0m \u001B[1m0s\u001B[0m 3ms/step - accuracy: 0.7115 - loss: 0.7537 - val_accuracy: 0.8735 - val_loss: 0.4425\n",
      "Epoch 47/1000\n",
      "\u001B[1m 1/28\u001B[0m \u001B[37m━━━━━━━━━━━━━━━━━━━━\u001B[0m \u001B[1m0s\u001B[0m 16ms/step - accuracy: 0.7188 - loss: 0.7727\n",
      "Epoch 47: saving model to grimm\\PycharmProjects\\hand-gesture-recognition-mediapipe\\model\\keypoint_classifier\\keypoint_classifier.keras\n",
      "\u001B[1m28/28\u001B[0m \u001B[32m━━━━━━━━━━━━━━━━━━━━\u001B[0m\u001B[37m\u001B[0m \u001B[1m0s\u001B[0m 3ms/step - accuracy: 0.7123 - loss: 0.7438 - val_accuracy: 0.8709 - val_loss: 0.4342\n",
      "Epoch 48/1000\n",
      "\u001B[1m 1/28\u001B[0m \u001B[37m━━━━━━━━━━━━━━━━━━━━\u001B[0m \u001B[1m0s\u001B[0m 17ms/step - accuracy: 0.7656 - loss: 0.5850\n",
      "Epoch 48: saving model to grimm\\PycharmProjects\\hand-gesture-recognition-mediapipe\\model\\keypoint_classifier\\keypoint_classifier.keras\n",
      "\u001B[1m28/28\u001B[0m \u001B[32m━━━━━━━━━━━━━━━━━━━━\u001B[0m\u001B[37m\u001B[0m \u001B[1m0s\u001B[0m 3ms/step - accuracy: 0.7007 - loss: 0.7578 - val_accuracy: 0.8890 - val_loss: 0.4388\n",
      "Epoch 49/1000\n",
      "\u001B[1m 1/28\u001B[0m \u001B[37m━━━━━━━━━━━━━━━━━━━━\u001B[0m \u001B[1m0s\u001B[0m 16ms/step - accuracy: 0.7188 - loss: 0.8205\n",
      "Epoch 49: saving model to grimm\\PycharmProjects\\hand-gesture-recognition-mediapipe\\model\\keypoint_classifier\\keypoint_classifier.keras\n",
      "\u001B[1m28/28\u001B[0m \u001B[32m━━━━━━━━━━━━━━━━━━━━\u001B[0m\u001B[37m\u001B[0m \u001B[1m0s\u001B[0m 3ms/step - accuracy: 0.7089 - loss: 0.7593 - val_accuracy: 0.8821 - val_loss: 0.4268\n",
      "Epoch 50/1000\n",
      "\u001B[1m 1/28\u001B[0m \u001B[37m━━━━━━━━━━━━━━━━━━━━\u001B[0m \u001B[1m0s\u001B[0m 17ms/step - accuracy: 0.6484 - loss: 0.8416\n",
      "Epoch 50: saving model to grimm\\PycharmProjects\\hand-gesture-recognition-mediapipe\\model\\keypoint_classifier\\keypoint_classifier.keras\n",
      "\u001B[1m28/28\u001B[0m \u001B[32m━━━━━━━━━━━━━━━━━━━━\u001B[0m\u001B[37m\u001B[0m \u001B[1m0s\u001B[0m 3ms/step - accuracy: 0.6965 - loss: 0.7558 - val_accuracy: 0.8787 - val_loss: 0.4253\n",
      "Epoch 51/1000\n",
      "\u001B[1m 1/28\u001B[0m \u001B[37m━━━━━━━━━━━━━━━━━━━━\u001B[0m \u001B[1m0s\u001B[0m 17ms/step - accuracy: 0.7578 - loss: 0.6631\n",
      "Epoch 51: saving model to grimm\\PycharmProjects\\hand-gesture-recognition-mediapipe\\model\\keypoint_classifier\\keypoint_classifier.keras\n",
      "\u001B[1m28/28\u001B[0m \u001B[32m━━━━━━━━━━━━━━━━━━━━\u001B[0m\u001B[37m\u001B[0m \u001B[1m0s\u001B[0m 3ms/step - accuracy: 0.7139 - loss: 0.7293 - val_accuracy: 0.8881 - val_loss: 0.4171\n",
      "Epoch 52/1000\n",
      "\u001B[1m 1/28\u001B[0m \u001B[37m━━━━━━━━━━━━━━━━━━━━\u001B[0m \u001B[1m0s\u001B[0m 17ms/step - accuracy: 0.7422 - loss: 0.7197\n",
      "Epoch 52: saving model to grimm\\PycharmProjects\\hand-gesture-recognition-mediapipe\\model\\keypoint_classifier\\keypoint_classifier.keras\n",
      "\u001B[1m28/28\u001B[0m \u001B[32m━━━━━━━━━━━━━━━━━━━━\u001B[0m\u001B[37m\u001B[0m \u001B[1m0s\u001B[0m 3ms/step - accuracy: 0.7032 - loss: 0.7491 - val_accuracy: 0.8976 - val_loss: 0.4164\n",
      "Epoch 53/1000\n",
      "\u001B[1m 1/28\u001B[0m \u001B[37m━━━━━━━━━━━━━━━━━━━━\u001B[0m \u001B[1m0s\u001B[0m 16ms/step - accuracy: 0.6719 - loss: 0.7503\n",
      "Epoch 53: saving model to grimm\\PycharmProjects\\hand-gesture-recognition-mediapipe\\model\\keypoint_classifier\\keypoint_classifier.keras\n",
      "\u001B[1m28/28\u001B[0m \u001B[32m━━━━━━━━━━━━━━━━━━━━\u001B[0m\u001B[37m\u001B[0m \u001B[1m0s\u001B[0m 3ms/step - accuracy: 0.7227 - loss: 0.7238 - val_accuracy: 0.8950 - val_loss: 0.4040\n",
      "Epoch 54/1000\n",
      "\u001B[1m 1/28\u001B[0m \u001B[37m━━━━━━━━━━━━━━━━━━━━\u001B[0m \u001B[1m0s\u001B[0m 34ms/step - accuracy: 0.7734 - loss: 0.6965\n",
      "Epoch 54: saving model to grimm\\PycharmProjects\\hand-gesture-recognition-mediapipe\\model\\keypoint_classifier\\keypoint_classifier.keras\n",
      "\u001B[1m28/28\u001B[0m \u001B[32m━━━━━━━━━━━━━━━━━━━━\u001B[0m\u001B[37m\u001B[0m \u001B[1m0s\u001B[0m 3ms/step - accuracy: 0.7255 - loss: 0.7256 - val_accuracy: 0.9002 - val_loss: 0.4023\n",
      "Epoch 55/1000\n",
      "\u001B[1m 1/28\u001B[0m \u001B[37m━━━━━━━━━━━━━━━━━━━━\u001B[0m \u001B[1m0s\u001B[0m 19ms/step - accuracy: 0.6328 - loss: 0.8631\n",
      "Epoch 55: saving model to grimm\\PycharmProjects\\hand-gesture-recognition-mediapipe\\model\\keypoint_classifier\\keypoint_classifier.keras\n",
      "\u001B[1m28/28\u001B[0m \u001B[32m━━━━━━━━━━━━━━━━━━━━\u001B[0m\u001B[37m\u001B[0m \u001B[1m0s\u001B[0m 3ms/step - accuracy: 0.7152 - loss: 0.7355 - val_accuracy: 0.8976 - val_loss: 0.3992\n",
      "Epoch 56/1000\n",
      "\u001B[1m 1/28\u001B[0m \u001B[37m━━━━━━━━━━━━━━━━━━━━\u001B[0m \u001B[1m0s\u001B[0m 17ms/step - accuracy: 0.7422 - loss: 0.6186\n",
      "Epoch 56: saving model to grimm\\PycharmProjects\\hand-gesture-recognition-mediapipe\\model\\keypoint_classifier\\keypoint_classifier.keras\n",
      "\u001B[1m28/28\u001B[0m \u001B[32m━━━━━━━━━━━━━━━━━━━━\u001B[0m\u001B[37m\u001B[0m \u001B[1m0s\u001B[0m 3ms/step - accuracy: 0.7322 - loss: 0.6887 - val_accuracy: 0.9114 - val_loss: 0.3900\n",
      "Epoch 57/1000\n",
      "\u001B[1m 1/28\u001B[0m \u001B[37m━━━━━━━━━━━━━━━━━━━━\u001B[0m \u001B[1m0s\u001B[0m 17ms/step - accuracy: 0.7109 - loss: 0.8086\n",
      "Epoch 57: saving model to grimm\\PycharmProjects\\hand-gesture-recognition-mediapipe\\model\\keypoint_classifier\\keypoint_classifier.keras\n",
      "\u001B[1m28/28\u001B[0m \u001B[32m━━━━━━━━━━━━━━━━━━━━\u001B[0m\u001B[37m\u001B[0m \u001B[1m0s\u001B[0m 3ms/step - accuracy: 0.7209 - loss: 0.7228 - val_accuracy: 0.9122 - val_loss: 0.3883\n",
      "Epoch 58/1000\n",
      "\u001B[1m 1/28\u001B[0m \u001B[37m━━━━━━━━━━━━━━━━━━━━\u001B[0m \u001B[1m0s\u001B[0m 17ms/step - accuracy: 0.7578 - loss: 0.5965\n",
      "Epoch 58: saving model to grimm\\PycharmProjects\\hand-gesture-recognition-mediapipe\\model\\keypoint_classifier\\keypoint_classifier.keras\n",
      "\u001B[1m28/28\u001B[0m \u001B[32m━━━━━━━━━━━━━━━━━━━━\u001B[0m\u001B[37m\u001B[0m \u001B[1m0s\u001B[0m 3ms/step - accuracy: 0.7405 - loss: 0.6989 - val_accuracy: 0.9053 - val_loss: 0.3824\n",
      "Epoch 59/1000\n",
      "\u001B[1m 1/28\u001B[0m \u001B[37m━━━━━━━━━━━━━━━━━━━━\u001B[0m \u001B[1m0s\u001B[0m 17ms/step - accuracy: 0.7266 - loss: 0.7023\n",
      "Epoch 59: saving model to grimm\\PycharmProjects\\hand-gesture-recognition-mediapipe\\model\\keypoint_classifier\\keypoint_classifier.keras\n",
      "\u001B[1m28/28\u001B[0m \u001B[32m━━━━━━━━━━━━━━━━━━━━\u001B[0m\u001B[37m\u001B[0m \u001B[1m0s\u001B[0m 3ms/step - accuracy: 0.7173 - loss: 0.7465 - val_accuracy: 0.9148 - val_loss: 0.3846\n",
      "Epoch 60/1000\n",
      "\u001B[1m 1/28\u001B[0m \u001B[37m━━━━━━━━━━━━━━━━━━━━\u001B[0m \u001B[1m0s\u001B[0m 16ms/step - accuracy: 0.7344 - loss: 0.6516\n",
      "Epoch 60: saving model to grimm\\PycharmProjects\\hand-gesture-recognition-mediapipe\\model\\keypoint_classifier\\keypoint_classifier.keras\n",
      "\u001B[1m28/28\u001B[0m \u001B[32m━━━━━━━━━━━━━━━━━━━━\u001B[0m\u001B[37m\u001B[0m \u001B[1m0s\u001B[0m 3ms/step - accuracy: 0.7283 - loss: 0.7035 - val_accuracy: 0.9071 - val_loss: 0.3754\n",
      "Epoch 61/1000\n",
      "\u001B[1m 1/28\u001B[0m \u001B[37m━━━━━━━━━━━━━━━━━━━━\u001B[0m \u001B[1m0s\u001B[0m 18ms/step - accuracy: 0.6875 - loss: 0.6921\n",
      "Epoch 61: saving model to grimm\\PycharmProjects\\hand-gesture-recognition-mediapipe\\model\\keypoint_classifier\\keypoint_classifier.keras\n",
      "\u001B[1m28/28\u001B[0m \u001B[32m━━━━━━━━━━━━━━━━━━━━\u001B[0m\u001B[37m\u001B[0m \u001B[1m0s\u001B[0m 3ms/step - accuracy: 0.7357 - loss: 0.6865 - val_accuracy: 0.9174 - val_loss: 0.3667\n",
      "Epoch 62/1000\n",
      "\u001B[1m 1/28\u001B[0m \u001B[37m━━━━━━━━━━━━━━━━━━━━\u001B[0m \u001B[1m0s\u001B[0m 17ms/step - accuracy: 0.7812 - loss: 0.6512\n",
      "Epoch 62: saving model to grimm\\PycharmProjects\\hand-gesture-recognition-mediapipe\\model\\keypoint_classifier\\keypoint_classifier.keras\n",
      "\u001B[1m28/28\u001B[0m \u001B[32m━━━━━━━━━━━━━━━━━━━━\u001B[0m\u001B[37m\u001B[0m \u001B[1m0s\u001B[0m 3ms/step - accuracy: 0.7288 - loss: 0.7069 - val_accuracy: 0.9260 - val_loss: 0.3686\n",
      "Epoch 63/1000\n",
      "\u001B[1m 1/28\u001B[0m \u001B[37m━━━━━━━━━━━━━━━━━━━━\u001B[0m \u001B[1m0s\u001B[0m 17ms/step - accuracy: 0.7500 - loss: 0.6649\n",
      "Epoch 63: saving model to grimm\\PycharmProjects\\hand-gesture-recognition-mediapipe\\model\\keypoint_classifier\\keypoint_classifier.keras\n",
      "\u001B[1m28/28\u001B[0m \u001B[32m━━━━━━━━━━━━━━━━━━━━\u001B[0m\u001B[37m\u001B[0m \u001B[1m0s\u001B[0m 3ms/step - accuracy: 0.7419 - loss: 0.6831 - val_accuracy: 0.9165 - val_loss: 0.3661\n",
      "Epoch 64/1000\n",
      "\u001B[1m 1/28\u001B[0m \u001B[37m━━━━━━━━━━━━━━━━━━━━\u001B[0m \u001B[1m0s\u001B[0m 17ms/step - accuracy: 0.7188 - loss: 0.7692\n",
      "Epoch 64: saving model to grimm\\PycharmProjects\\hand-gesture-recognition-mediapipe\\model\\keypoint_classifier\\keypoint_classifier.keras\n",
      "\u001B[1m28/28\u001B[0m \u001B[32m━━━━━━━━━━━━━━━━━━━━\u001B[0m\u001B[37m\u001B[0m \u001B[1m0s\u001B[0m 3ms/step - accuracy: 0.7325 - loss: 0.7048 - val_accuracy: 0.9122 - val_loss: 0.3651\n",
      "Epoch 65/1000\n",
      "\u001B[1m 1/28\u001B[0m \u001B[37m━━━━━━━━━━━━━━━━━━━━\u001B[0m \u001B[1m0s\u001B[0m 16ms/step - accuracy: 0.7266 - loss: 0.7385\n",
      "Epoch 65: saving model to grimm\\PycharmProjects\\hand-gesture-recognition-mediapipe\\model\\keypoint_classifier\\keypoint_classifier.keras\n",
      "\u001B[1m28/28\u001B[0m \u001B[32m━━━━━━━━━━━━━━━━━━━━\u001B[0m\u001B[37m\u001B[0m \u001B[1m0s\u001B[0m 3ms/step - accuracy: 0.7279 - loss: 0.7036 - val_accuracy: 0.9200 - val_loss: 0.3632\n",
      "Epoch 66/1000\n",
      "\u001B[1m 1/28\u001B[0m \u001B[37m━━━━━━━━━━━━━━━━━━━━\u001B[0m \u001B[1m0s\u001B[0m 17ms/step - accuracy: 0.7656 - loss: 0.5607\n",
      "Epoch 66: saving model to grimm\\PycharmProjects\\hand-gesture-recognition-mediapipe\\model\\keypoint_classifier\\keypoint_classifier.keras\n",
      "\u001B[1m28/28\u001B[0m \u001B[32m━━━━━━━━━━━━━━━━━━━━\u001B[0m\u001B[37m\u001B[0m \u001B[1m0s\u001B[0m 3ms/step - accuracy: 0.7346 - loss: 0.6827 - val_accuracy: 0.9139 - val_loss: 0.3599\n",
      "Epoch 67/1000\n",
      "\u001B[1m 1/28\u001B[0m \u001B[37m━━━━━━━━━━━━━━━━━━━━\u001B[0m \u001B[1m0s\u001B[0m 17ms/step - accuracy: 0.7891 - loss: 0.6296\n",
      "Epoch 67: saving model to grimm\\PycharmProjects\\hand-gesture-recognition-mediapipe\\model\\keypoint_classifier\\keypoint_classifier.keras\n",
      "\u001B[1m28/28\u001B[0m \u001B[32m━━━━━━━━━━━━━━━━━━━━\u001B[0m\u001B[37m\u001B[0m \u001B[1m0s\u001B[0m 3ms/step - accuracy: 0.7379 - loss: 0.6967 - val_accuracy: 0.9200 - val_loss: 0.3534\n",
      "Epoch 68/1000\n",
      "\u001B[1m 1/28\u001B[0m \u001B[37m━━━━━━━━━━━━━━━━━━━━\u001B[0m \u001B[1m0s\u001B[0m 18ms/step - accuracy: 0.7500 - loss: 0.7527\n",
      "Epoch 68: saving model to grimm\\PycharmProjects\\hand-gesture-recognition-mediapipe\\model\\keypoint_classifier\\keypoint_classifier.keras\n",
      "\u001B[1m28/28\u001B[0m \u001B[32m━━━━━━━━━━━━━━━━━━━━\u001B[0m\u001B[37m\u001B[0m \u001B[1m0s\u001B[0m 3ms/step - accuracy: 0.7229 - loss: 0.7117 - val_accuracy: 0.9200 - val_loss: 0.3477\n",
      "Epoch 69/1000\n",
      "\u001B[1m 1/28\u001B[0m \u001B[37m━━━━━━━━━━━━━━━━━━━━\u001B[0m \u001B[1m0s\u001B[0m 17ms/step - accuracy: 0.7891 - loss: 0.7847\n",
      "Epoch 69: saving model to grimm\\PycharmProjects\\hand-gesture-recognition-mediapipe\\model\\keypoint_classifier\\keypoint_classifier.keras\n",
      "\u001B[1m28/28\u001B[0m \u001B[32m━━━━━━━━━━━━━━━━━━━━\u001B[0m\u001B[37m\u001B[0m \u001B[1m0s\u001B[0m 3ms/step - accuracy: 0.7465 - loss: 0.6864 - val_accuracy: 0.9243 - val_loss: 0.3472\n",
      "Epoch 70/1000\n",
      "\u001B[1m 1/28\u001B[0m \u001B[37m━━━━━━━━━━━━━━━━━━━━\u001B[0m \u001B[1m0s\u001B[0m 17ms/step - accuracy: 0.7656 - loss: 0.7225\n",
      "Epoch 70: saving model to grimm\\PycharmProjects\\hand-gesture-recognition-mediapipe\\model\\keypoint_classifier\\keypoint_classifier.keras\n",
      "\u001B[1m28/28\u001B[0m \u001B[32m━━━━━━━━━━━━━━━━━━━━\u001B[0m\u001B[37m\u001B[0m \u001B[1m0s\u001B[0m 3ms/step - accuracy: 0.7452 - loss: 0.6903 - val_accuracy: 0.9251 - val_loss: 0.3453\n",
      "Epoch 71/1000\n",
      "\u001B[1m 1/28\u001B[0m \u001B[37m━━━━━━━━━━━━━━━━━━━━\u001B[0m \u001B[1m0s\u001B[0m 17ms/step - accuracy: 0.7500 - loss: 0.6907\n",
      "Epoch 71: saving model to grimm\\PycharmProjects\\hand-gesture-recognition-mediapipe\\model\\keypoint_classifier\\keypoint_classifier.keras\n",
      "\u001B[1m28/28\u001B[0m \u001B[32m━━━━━━━━━━━━━━━━━━━━\u001B[0m\u001B[37m\u001B[0m \u001B[1m0s\u001B[0m 3ms/step - accuracy: 0.7332 - loss: 0.6949 - val_accuracy: 0.9303 - val_loss: 0.3446\n",
      "Epoch 72/1000\n",
      "\u001B[1m 1/28\u001B[0m \u001B[37m━━━━━━━━━━━━━━━━━━━━\u001B[0m \u001B[1m0s\u001B[0m 16ms/step - accuracy: 0.7031 - loss: 0.7499\n",
      "Epoch 72: saving model to grimm\\PycharmProjects\\hand-gesture-recognition-mediapipe\\model\\keypoint_classifier\\keypoint_classifier.keras\n",
      "\u001B[1m28/28\u001B[0m \u001B[32m━━━━━━━━━━━━━━━━━━━━\u001B[0m\u001B[37m\u001B[0m \u001B[1m0s\u001B[0m 3ms/step - accuracy: 0.7478 - loss: 0.6780 - val_accuracy: 0.9286 - val_loss: 0.3437\n",
      "Epoch 73/1000\n",
      "\u001B[1m 1/28\u001B[0m \u001B[37m━━━━━━━━━━━━━━━━━━━━\u001B[0m \u001B[1m0s\u001B[0m 17ms/step - accuracy: 0.7656 - loss: 0.6485\n",
      "Epoch 73: saving model to grimm\\PycharmProjects\\hand-gesture-recognition-mediapipe\\model\\keypoint_classifier\\keypoint_classifier.keras\n",
      "\u001B[1m28/28\u001B[0m \u001B[32m━━━━━━━━━━━━━━━━━━━━\u001B[0m\u001B[37m\u001B[0m \u001B[1m0s\u001B[0m 3ms/step - accuracy: 0.7472 - loss: 0.6539 - val_accuracy: 0.9329 - val_loss: 0.3288\n",
      "Epoch 74/1000\n",
      "\u001B[1m 1/28\u001B[0m \u001B[37m━━━━━━━━━━━━━━━━━━━━\u001B[0m \u001B[1m0s\u001B[0m 16ms/step - accuracy: 0.7500 - loss: 0.6294\n",
      "Epoch 74: saving model to grimm\\PycharmProjects\\hand-gesture-recognition-mediapipe\\model\\keypoint_classifier\\keypoint_classifier.keras\n",
      "\u001B[1m28/28\u001B[0m \u001B[32m━━━━━━━━━━━━━━━━━━━━\u001B[0m\u001B[37m\u001B[0m \u001B[1m0s\u001B[0m 3ms/step - accuracy: 0.7493 - loss: 0.6633 - val_accuracy: 0.9449 - val_loss: 0.3229\n",
      "Epoch 75/1000\n",
      "\u001B[1m 1/28\u001B[0m \u001B[37m━━━━━━━━━━━━━━━━━━━━\u001B[0m \u001B[1m0s\u001B[0m 16ms/step - accuracy: 0.7344 - loss: 0.6618\n",
      "Epoch 75: saving model to grimm\\PycharmProjects\\hand-gesture-recognition-mediapipe\\model\\keypoint_classifier\\keypoint_classifier.keras\n",
      "\u001B[1m28/28\u001B[0m \u001B[32m━━━━━━━━━━━━━━━━━━━━\u001B[0m\u001B[37m\u001B[0m \u001B[1m0s\u001B[0m 3ms/step - accuracy: 0.7498 - loss: 0.6739 - val_accuracy: 0.9441 - val_loss: 0.3313\n",
      "Epoch 76/1000\n",
      "\u001B[1m 1/28\u001B[0m \u001B[37m━━━━━━━━━━━━━━━━━━━━\u001B[0m \u001B[1m0s\u001B[0m 16ms/step - accuracy: 0.7812 - loss: 0.5738\n",
      "Epoch 76: saving model to grimm\\PycharmProjects\\hand-gesture-recognition-mediapipe\\model\\keypoint_classifier\\keypoint_classifier.keras\n",
      "\u001B[1m28/28\u001B[0m \u001B[32m━━━━━━━━━━━━━━━━━━━━\u001B[0m\u001B[37m\u001B[0m \u001B[1m0s\u001B[0m 3ms/step - accuracy: 0.7566 - loss: 0.6539 - val_accuracy: 0.9389 - val_loss: 0.3255\n",
      "Epoch 77/1000\n",
      "\u001B[1m 1/28\u001B[0m \u001B[37m━━━━━━━━━━━━━━━━━━━━\u001B[0m \u001B[1m0s\u001B[0m 17ms/step - accuracy: 0.7422 - loss: 0.7673\n",
      "Epoch 77: saving model to grimm\\PycharmProjects\\hand-gesture-recognition-mediapipe\\model\\keypoint_classifier\\keypoint_classifier.keras\n",
      "\u001B[1m28/28\u001B[0m \u001B[32m━━━━━━━━━━━━━━━━━━━━\u001B[0m\u001B[37m\u001B[0m \u001B[1m0s\u001B[0m 3ms/step - accuracy: 0.7556 - loss: 0.6532 - val_accuracy: 0.9475 - val_loss: 0.3217\n",
      "Epoch 78/1000\n",
      "\u001B[1m 1/28\u001B[0m \u001B[37m━━━━━━━━━━━━━━━━━━━━\u001B[0m \u001B[1m0s\u001B[0m 16ms/step - accuracy: 0.7344 - loss: 0.6526\n",
      "Epoch 78: saving model to grimm\\PycharmProjects\\hand-gesture-recognition-mediapipe\\model\\keypoint_classifier\\keypoint_classifier.keras\n",
      "\u001B[1m28/28\u001B[0m \u001B[32m━━━━━━━━━━━━━━━━━━━━\u001B[0m\u001B[37m\u001B[0m \u001B[1m0s\u001B[0m 3ms/step - accuracy: 0.7499 - loss: 0.6605 - val_accuracy: 0.9432 - val_loss: 0.3215\n",
      "Epoch 79/1000\n",
      "\u001B[1m 1/28\u001B[0m \u001B[37m━━━━━━━━━━━━━━━━━━━━\u001B[0m \u001B[1m0s\u001B[0m 17ms/step - accuracy: 0.7578 - loss: 0.6546\n",
      "Epoch 79: saving model to grimm\\PycharmProjects\\hand-gesture-recognition-mediapipe\\model\\keypoint_classifier\\keypoint_classifier.keras\n",
      "\u001B[1m28/28\u001B[0m \u001B[32m━━━━━━━━━━━━━━━━━━━━\u001B[0m\u001B[37m\u001B[0m \u001B[1m0s\u001B[0m 3ms/step - accuracy: 0.7505 - loss: 0.6706 - val_accuracy: 0.9398 - val_loss: 0.3178\n",
      "Epoch 80/1000\n",
      "\u001B[1m 1/28\u001B[0m \u001B[37m━━━━━━━━━━━━━━━━━━━━\u001B[0m \u001B[1m0s\u001B[0m 17ms/step - accuracy: 0.7656 - loss: 0.5725\n",
      "Epoch 80: saving model to grimm\\PycharmProjects\\hand-gesture-recognition-mediapipe\\model\\keypoint_classifier\\keypoint_classifier.keras\n",
      "\u001B[1m28/28\u001B[0m \u001B[32m━━━━━━━━━━━━━━━━━━━━\u001B[0m\u001B[37m\u001B[0m \u001B[1m0s\u001B[0m 3ms/step - accuracy: 0.7589 - loss: 0.6338 - val_accuracy: 0.9406 - val_loss: 0.3098\n",
      "Epoch 81/1000\n",
      "\u001B[1m 1/28\u001B[0m \u001B[37m━━━━━━━━━━━━━━━━━━━━\u001B[0m \u001B[1m0s\u001B[0m 17ms/step - accuracy: 0.7969 - loss: 0.5650\n",
      "Epoch 81: saving model to grimm\\PycharmProjects\\hand-gesture-recognition-mediapipe\\model\\keypoint_classifier\\keypoint_classifier.keras\n",
      "\u001B[1m28/28\u001B[0m \u001B[32m━━━━━━━━━━━━━━━━━━━━\u001B[0m\u001B[37m\u001B[0m \u001B[1m0s\u001B[0m 3ms/step - accuracy: 0.7575 - loss: 0.6452 - val_accuracy: 0.9441 - val_loss: 0.3083\n",
      "Epoch 82/1000\n",
      "\u001B[1m 1/28\u001B[0m \u001B[37m━━━━━━━━━━━━━━━━━━━━\u001B[0m \u001B[1m0s\u001B[0m 17ms/step - accuracy: 0.7578 - loss: 0.6175\n",
      "Epoch 82: saving model to grimm\\PycharmProjects\\hand-gesture-recognition-mediapipe\\model\\keypoint_classifier\\keypoint_classifier.keras\n",
      "\u001B[1m28/28\u001B[0m \u001B[32m━━━━━━━━━━━━━━━━━━━━\u001B[0m\u001B[37m\u001B[0m \u001B[1m0s\u001B[0m 3ms/step - accuracy: 0.7636 - loss: 0.6282 - val_accuracy: 0.9501 - val_loss: 0.3053\n",
      "Epoch 83/1000\n",
      "\u001B[1m 1/28\u001B[0m \u001B[37m━━━━━━━━━━━━━━━━━━━━\u001B[0m \u001B[1m0s\u001B[0m 17ms/step - accuracy: 0.7344 - loss: 0.7500\n",
      "Epoch 83: saving model to grimm\\PycharmProjects\\hand-gesture-recognition-mediapipe\\model\\keypoint_classifier\\keypoint_classifier.keras\n",
      "\u001B[1m28/28\u001B[0m \u001B[32m━━━━━━━━━━━━━━━━━━━━\u001B[0m\u001B[37m\u001B[0m \u001B[1m0s\u001B[0m 3ms/step - accuracy: 0.7653 - loss: 0.6613 - val_accuracy: 0.9492 - val_loss: 0.2988\n",
      "Epoch 84/1000\n",
      "\u001B[1m 1/28\u001B[0m \u001B[37m━━━━━━━━━━━━━━━━━━━━\u001B[0m \u001B[1m0s\u001B[0m 18ms/step - accuracy: 0.7891 - loss: 0.5794\n",
      "Epoch 84: saving model to grimm\\PycharmProjects\\hand-gesture-recognition-mediapipe\\model\\keypoint_classifier\\keypoint_classifier.keras\n",
      "\u001B[1m28/28\u001B[0m \u001B[32m━━━━━━━━━━━━━━━━━━━━\u001B[0m\u001B[37m\u001B[0m \u001B[1m0s\u001B[0m 3ms/step - accuracy: 0.7537 - loss: 0.6509 - val_accuracy: 0.9596 - val_loss: 0.2937\n",
      "Epoch 85/1000\n",
      "\u001B[1m 1/28\u001B[0m \u001B[37m━━━━━━━━━━━━━━━━━━━━\u001B[0m \u001B[1m0s\u001B[0m 16ms/step - accuracy: 0.7188 - loss: 0.6468\n",
      "Epoch 85: saving model to grimm\\PycharmProjects\\hand-gesture-recognition-mediapipe\\model\\keypoint_classifier\\keypoint_classifier.keras\n",
      "\u001B[1m28/28\u001B[0m \u001B[32m━━━━━━━━━━━━━━━━━━━━\u001B[0m\u001B[37m\u001B[0m \u001B[1m0s\u001B[0m 3ms/step - accuracy: 0.7535 - loss: 0.6399 - val_accuracy: 0.9561 - val_loss: 0.3011\n",
      "Epoch 86/1000\n",
      "\u001B[1m 1/28\u001B[0m \u001B[37m━━━━━━━━━━━━━━━━━━━━\u001B[0m \u001B[1m0s\u001B[0m 17ms/step - accuracy: 0.7656 - loss: 0.5994\n",
      "Epoch 86: saving model to grimm\\PycharmProjects\\hand-gesture-recognition-mediapipe\\model\\keypoint_classifier\\keypoint_classifier.keras\n",
      "\u001B[1m28/28\u001B[0m \u001B[32m━━━━━━━━━━━━━━━━━━━━\u001B[0m\u001B[37m\u001B[0m \u001B[1m0s\u001B[0m 3ms/step - accuracy: 0.7553 - loss: 0.6433 - val_accuracy: 0.9570 - val_loss: 0.2936\n",
      "Epoch 87/1000\n",
      "\u001B[1m 1/28\u001B[0m \u001B[37m━━━━━━━━━━━━━━━━━━━━\u001B[0m \u001B[1m0s\u001B[0m 17ms/step - accuracy: 0.7109 - loss: 0.7525\n",
      "Epoch 87: saving model to grimm\\PycharmProjects\\hand-gesture-recognition-mediapipe\\model\\keypoint_classifier\\keypoint_classifier.keras\n",
      "\u001B[1m28/28\u001B[0m \u001B[32m━━━━━━━━━━━━━━━━━━━━\u001B[0m\u001B[37m\u001B[0m \u001B[1m0s\u001B[0m 3ms/step - accuracy: 0.7589 - loss: 0.6469 - val_accuracy: 0.9570 - val_loss: 0.2972\n",
      "Epoch 88/1000\n",
      "\u001B[1m 1/28\u001B[0m \u001B[37m━━━━━━━━━━━━━━━━━━━━\u001B[0m \u001B[1m0s\u001B[0m 17ms/step - accuracy: 0.7578 - loss: 0.6422\n",
      "Epoch 88: saving model to grimm\\PycharmProjects\\hand-gesture-recognition-mediapipe\\model\\keypoint_classifier\\keypoint_classifier.keras\n",
      "\u001B[1m28/28\u001B[0m \u001B[32m━━━━━━━━━━━━━━━━━━━━\u001B[0m\u001B[37m\u001B[0m \u001B[1m0s\u001B[0m 3ms/step - accuracy: 0.7740 - loss: 0.6129 - val_accuracy: 0.9527 - val_loss: 0.2888\n",
      "Epoch 89/1000\n",
      "\u001B[1m 1/28\u001B[0m \u001B[37m━━━━━━━━━━━━━━━━━━━━\u001B[0m \u001B[1m0s\u001B[0m 17ms/step - accuracy: 0.7891 - loss: 0.5555\n",
      "Epoch 89: saving model to grimm\\PycharmProjects\\hand-gesture-recognition-mediapipe\\model\\keypoint_classifier\\keypoint_classifier.keras\n",
      "\u001B[1m28/28\u001B[0m \u001B[32m━━━━━━━━━━━━━━━━━━━━\u001B[0m\u001B[37m\u001B[0m \u001B[1m0s\u001B[0m 3ms/step - accuracy: 0.7594 - loss: 0.6345 - val_accuracy: 0.9544 - val_loss: 0.2935\n",
      "Epoch 90/1000\n",
      "\u001B[1m 1/28\u001B[0m \u001B[37m━━━━━━━━━━━━━━━━━━━━\u001B[0m \u001B[1m0s\u001B[0m 17ms/step - accuracy: 0.7344 - loss: 0.6284\n",
      "Epoch 90: saving model to grimm\\PycharmProjects\\hand-gesture-recognition-mediapipe\\model\\keypoint_classifier\\keypoint_classifier.keras\n",
      "\u001B[1m28/28\u001B[0m \u001B[32m━━━━━━━━━━━━━━━━━━━━\u001B[0m\u001B[37m\u001B[0m \u001B[1m0s\u001B[0m 3ms/step - accuracy: 0.7506 - loss: 0.6513 - val_accuracy: 0.9501 - val_loss: 0.2933\n",
      "Epoch 91/1000\n",
      "\u001B[1m 1/28\u001B[0m \u001B[37m━━━━━━━━━━━━━━━━━━━━\u001B[0m \u001B[1m0s\u001B[0m 17ms/step - accuracy: 0.6719 - loss: 0.7132\n",
      "Epoch 91: saving model to grimm\\PycharmProjects\\hand-gesture-recognition-mediapipe\\model\\keypoint_classifier\\keypoint_classifier.keras\n",
      "\u001B[1m28/28\u001B[0m \u001B[32m━━━━━━━━━━━━━━━━━━━━\u001B[0m\u001B[37m\u001B[0m \u001B[1m0s\u001B[0m 3ms/step - accuracy: 0.7531 - loss: 0.6450 - val_accuracy: 0.9484 - val_loss: 0.3018\n",
      "Epoch 92/1000\n",
      "\u001B[1m 1/28\u001B[0m \u001B[37m━━━━━━━━━━━━━━━━━━━━\u001B[0m \u001B[1m0s\u001B[0m 17ms/step - accuracy: 0.7734 - loss: 0.6180\n",
      "Epoch 92: saving model to grimm\\PycharmProjects\\hand-gesture-recognition-mediapipe\\model\\keypoint_classifier\\keypoint_classifier.keras\n",
      "\u001B[1m28/28\u001B[0m \u001B[32m━━━━━━━━━━━━━━━━━━━━\u001B[0m\u001B[37m\u001B[0m \u001B[1m0s\u001B[0m 3ms/step - accuracy: 0.7723 - loss: 0.6284 - val_accuracy: 0.9501 - val_loss: 0.2897\n",
      "Epoch 93/1000\n",
      "\u001B[1m 1/28\u001B[0m \u001B[37m━━━━━━━━━━━━━━━━━━━━\u001B[0m \u001B[1m0s\u001B[0m 18ms/step - accuracy: 0.7344 - loss: 0.6934\n",
      "Epoch 93: saving model to grimm\\PycharmProjects\\hand-gesture-recognition-mediapipe\\model\\keypoint_classifier\\keypoint_classifier.keras\n",
      "\u001B[1m28/28\u001B[0m \u001B[32m━━━━━━━━━━━━━━━━━━━━\u001B[0m\u001B[37m\u001B[0m \u001B[1m0s\u001B[0m 3ms/step - accuracy: 0.7581 - loss: 0.6604 - val_accuracy: 0.9518 - val_loss: 0.2963\n",
      "Epoch 94/1000\n",
      "\u001B[1m 1/28\u001B[0m \u001B[37m━━━━━━━━━━━━━━━━━━━━\u001B[0m \u001B[1m0s\u001B[0m 17ms/step - accuracy: 0.7188 - loss: 0.7213\n",
      "Epoch 94: saving model to grimm\\PycharmProjects\\hand-gesture-recognition-mediapipe\\model\\keypoint_classifier\\keypoint_classifier.keras\n",
      "\u001B[1m28/28\u001B[0m \u001B[32m━━━━━━━━━━━━━━━━━━━━\u001B[0m\u001B[37m\u001B[0m \u001B[1m0s\u001B[0m 3ms/step - accuracy: 0.7507 - loss: 0.6594 - val_accuracy: 0.9596 - val_loss: 0.2916\n",
      "Epoch 95/1000\n",
      "\u001B[1m 1/28\u001B[0m \u001B[37m━━━━━━━━━━━━━━━━━━━━\u001B[0m \u001B[1m0s\u001B[0m 17ms/step - accuracy: 0.8047 - loss: 0.5452\n",
      "Epoch 95: saving model to grimm\\PycharmProjects\\hand-gesture-recognition-mediapipe\\model\\keypoint_classifier\\keypoint_classifier.keras\n",
      "\u001B[1m28/28\u001B[0m \u001B[32m━━━━━━━━━━━━━━━━━━━━\u001B[0m\u001B[37m\u001B[0m \u001B[1m0s\u001B[0m 3ms/step - accuracy: 0.7578 - loss: 0.6310 - val_accuracy: 0.9535 - val_loss: 0.2898\n",
      "Epoch 96/1000\n",
      "\u001B[1m 1/28\u001B[0m \u001B[37m━━━━━━━━━━━━━━━━━━━━\u001B[0m \u001B[1m0s\u001B[0m 16ms/step - accuracy: 0.7578 - loss: 0.6491\n",
      "Epoch 96: saving model to grimm\\PycharmProjects\\hand-gesture-recognition-mediapipe\\model\\keypoint_classifier\\keypoint_classifier.keras\n",
      "\u001B[1m28/28\u001B[0m \u001B[32m━━━━━━━━━━━━━━━━━━━━\u001B[0m\u001B[37m\u001B[0m \u001B[1m0s\u001B[0m 3ms/step - accuracy: 0.7680 - loss: 0.6237 - val_accuracy: 0.9587 - val_loss: 0.2816\n",
      "Epoch 97/1000\n",
      "\u001B[1m 1/28\u001B[0m \u001B[37m━━━━━━━━━━━━━━━━━━━━\u001B[0m \u001B[1m0s\u001B[0m 17ms/step - accuracy: 0.6797 - loss: 0.7056\n",
      "Epoch 97: saving model to grimm\\PycharmProjects\\hand-gesture-recognition-mediapipe\\model\\keypoint_classifier\\keypoint_classifier.keras\n",
      "\u001B[1m28/28\u001B[0m \u001B[32m━━━━━━━━━━━━━━━━━━━━\u001B[0m\u001B[37m\u001B[0m \u001B[1m0s\u001B[0m 3ms/step - accuracy: 0.7578 - loss: 0.6371 - val_accuracy: 0.9587 - val_loss: 0.2815\n",
      "Epoch 98/1000\n",
      "\u001B[1m 1/28\u001B[0m \u001B[37m━━━━━━━━━━━━━━━━━━━━\u001B[0m \u001B[1m0s\u001B[0m 16ms/step - accuracy: 0.7344 - loss: 0.6382\n",
      "Epoch 98: saving model to grimm\\PycharmProjects\\hand-gesture-recognition-mediapipe\\model\\keypoint_classifier\\keypoint_classifier.keras\n",
      "\u001B[1m28/28\u001B[0m \u001B[32m━━━━━━━━━━━━━━━━━━━━\u001B[0m\u001B[37m\u001B[0m \u001B[1m0s\u001B[0m 3ms/step - accuracy: 0.7555 - loss: 0.6450 - val_accuracy: 0.9604 - val_loss: 0.2881\n",
      "Epoch 99/1000\n",
      "\u001B[1m 1/28\u001B[0m \u001B[37m━━━━━━━━━━━━━━━━━━━━\u001B[0m \u001B[1m0s\u001B[0m 17ms/step - accuracy: 0.8359 - loss: 0.5643\n",
      "Epoch 99: saving model to grimm\\PycharmProjects\\hand-gesture-recognition-mediapipe\\model\\keypoint_classifier\\keypoint_classifier.keras\n",
      "\u001B[1m28/28\u001B[0m \u001B[32m━━━━━━━━━━━━━━━━━━━━\u001B[0m\u001B[37m\u001B[0m \u001B[1m0s\u001B[0m 3ms/step - accuracy: 0.7698 - loss: 0.6209 - val_accuracy: 0.9613 - val_loss: 0.2829\n",
      "Epoch 100/1000\n",
      "\u001B[1m 1/28\u001B[0m \u001B[37m━━━━━━━━━━━━━━━━━━━━\u001B[0m \u001B[1m0s\u001B[0m 17ms/step - accuracy: 0.7734 - loss: 0.5383\n",
      "Epoch 100: saving model to grimm\\PycharmProjects\\hand-gesture-recognition-mediapipe\\model\\keypoint_classifier\\keypoint_classifier.keras\n",
      "\u001B[1m28/28\u001B[0m \u001B[32m━━━━━━━━━━━━━━━━━━━━\u001B[0m\u001B[37m\u001B[0m \u001B[1m0s\u001B[0m 3ms/step - accuracy: 0.7617 - loss: 0.6301 - val_accuracy: 0.9630 - val_loss: 0.2784\n",
      "Epoch 101/1000\n",
      "\u001B[1m 1/28\u001B[0m \u001B[37m━━━━━━━━━━━━━━━━━━━━\u001B[0m \u001B[1m0s\u001B[0m 16ms/step - accuracy: 0.7656 - loss: 0.6154\n",
      "Epoch 101: saving model to grimm\\PycharmProjects\\hand-gesture-recognition-mediapipe\\model\\keypoint_classifier\\keypoint_classifier.keras\n",
      "\u001B[1m28/28\u001B[0m \u001B[32m━━━━━━━━━━━━━━━━━━━━\u001B[0m\u001B[37m\u001B[0m \u001B[1m0s\u001B[0m 3ms/step - accuracy: 0.7700 - loss: 0.6402 - val_accuracy: 0.9561 - val_loss: 0.2816\n",
      "Epoch 102/1000\n",
      "\u001B[1m 1/28\u001B[0m \u001B[37m━━━━━━━━━━━━━━━━━━━━\u001B[0m \u001B[1m0s\u001B[0m 17ms/step - accuracy: 0.7969 - loss: 0.7120\n",
      "Epoch 102: saving model to grimm\\PycharmProjects\\hand-gesture-recognition-mediapipe\\model\\keypoint_classifier\\keypoint_classifier.keras\n",
      "\u001B[1m28/28\u001B[0m \u001B[32m━━━━━━━━━━━━━━━━━━━━\u001B[0m\u001B[37m\u001B[0m \u001B[1m0s\u001B[0m 3ms/step - accuracy: 0.7725 - loss: 0.6373 - val_accuracy: 0.9621 - val_loss: 0.2783\n",
      "Epoch 103/1000\n",
      "\u001B[1m 1/28\u001B[0m \u001B[37m━━━━━━━━━━━━━━━━━━━━\u001B[0m \u001B[1m0s\u001B[0m 17ms/step - accuracy: 0.7812 - loss: 0.6977\n",
      "Epoch 103: saving model to grimm\\PycharmProjects\\hand-gesture-recognition-mediapipe\\model\\keypoint_classifier\\keypoint_classifier.keras\n",
      "\u001B[1m28/28\u001B[0m \u001B[32m━━━━━━━━━━━━━━━━━━━━\u001B[0m\u001B[37m\u001B[0m \u001B[1m0s\u001B[0m 3ms/step - accuracy: 0.7693 - loss: 0.6250 - val_accuracy: 0.9647 - val_loss: 0.2794\n",
      "Epoch 104/1000\n",
      "\u001B[1m 1/28\u001B[0m \u001B[37m━━━━━━━━━━━━━━━━━━━━\u001B[0m \u001B[1m0s\u001B[0m 17ms/step - accuracy: 0.8047 - loss: 0.5512\n",
      "Epoch 104: saving model to grimm\\PycharmProjects\\hand-gesture-recognition-mediapipe\\model\\keypoint_classifier\\keypoint_classifier.keras\n",
      "\u001B[1m28/28\u001B[0m \u001B[32m━━━━━━━━━━━━━━━━━━━━\u001B[0m\u001B[37m\u001B[0m \u001B[1m0s\u001B[0m 3ms/step - accuracy: 0.7755 - loss: 0.5980 - val_accuracy: 0.9621 - val_loss: 0.2752\n",
      "Epoch 105/1000\n",
      "\u001B[1m 1/28\u001B[0m \u001B[37m━━━━━━━━━━━━━━━━━━━━\u001B[0m \u001B[1m0s\u001B[0m 17ms/step - accuracy: 0.7344 - loss: 0.6955\n",
      "Epoch 105: saving model to grimm\\PycharmProjects\\hand-gesture-recognition-mediapipe\\model\\keypoint_classifier\\keypoint_classifier.keras\n",
      "\u001B[1m28/28\u001B[0m \u001B[32m━━━━━━━━━━━━━━━━━━━━\u001B[0m\u001B[37m\u001B[0m \u001B[1m0s\u001B[0m 3ms/step - accuracy: 0.7746 - loss: 0.6184 - val_accuracy: 0.9621 - val_loss: 0.2698\n",
      "Epoch 106/1000\n",
      "\u001B[1m 1/28\u001B[0m \u001B[37m━━━━━━━━━━━━━━━━━━━━\u001B[0m \u001B[1m0s\u001B[0m 17ms/step - accuracy: 0.7500 - loss: 0.6158\n",
      "Epoch 106: saving model to grimm\\PycharmProjects\\hand-gesture-recognition-mediapipe\\model\\keypoint_classifier\\keypoint_classifier.keras\n",
      "\u001B[1m28/28\u001B[0m \u001B[32m━━━━━━━━━━━━━━━━━━━━\u001B[0m\u001B[37m\u001B[0m \u001B[1m0s\u001B[0m 3ms/step - accuracy: 0.7622 - loss: 0.6341 - val_accuracy: 0.9613 - val_loss: 0.2673\n",
      "Epoch 107/1000\n",
      "\u001B[1m 1/28\u001B[0m \u001B[37m━━━━━━━━━━━━━━━━━━━━\u001B[0m \u001B[1m0s\u001B[0m 16ms/step - accuracy: 0.7578 - loss: 0.6896\n",
      "Epoch 107: saving model to grimm\\PycharmProjects\\hand-gesture-recognition-mediapipe\\model\\keypoint_classifier\\keypoint_classifier.keras\n",
      "\u001B[1m28/28\u001B[0m \u001B[32m━━━━━━━━━━━━━━━━━━━━\u001B[0m\u001B[37m\u001B[0m \u001B[1m0s\u001B[0m 3ms/step - accuracy: 0.7612 - loss: 0.6328 - val_accuracy: 0.9647 - val_loss: 0.2683\n",
      "Epoch 108/1000\n",
      "\u001B[1m 1/28\u001B[0m \u001B[37m━━━━━━━━━━━━━━━━━━━━\u001B[0m \u001B[1m0s\u001B[0m 16ms/step - accuracy: 0.7344 - loss: 0.6880\n",
      "Epoch 108: saving model to grimm\\PycharmProjects\\hand-gesture-recognition-mediapipe\\model\\keypoint_classifier\\keypoint_classifier.keras\n",
      "\u001B[1m28/28\u001B[0m \u001B[32m━━━━━━━━━━━━━━━━━━━━\u001B[0m\u001B[37m\u001B[0m \u001B[1m0s\u001B[0m 3ms/step - accuracy: 0.7664 - loss: 0.6137 - val_accuracy: 0.9578 - val_loss: 0.2737\n",
      "Epoch 109/1000\n",
      "\u001B[1m 1/28\u001B[0m \u001B[37m━━━━━━━━━━━━━━━━━━━━\u001B[0m \u001B[1m0s\u001B[0m 16ms/step - accuracy: 0.8047 - loss: 0.5546\n",
      "Epoch 109: saving model to grimm\\PycharmProjects\\hand-gesture-recognition-mediapipe\\model\\keypoint_classifier\\keypoint_classifier.keras\n",
      "\u001B[1m28/28\u001B[0m \u001B[32m━━━━━━━━━━━━━━━━━━━━\u001B[0m\u001B[37m\u001B[0m \u001B[1m0s\u001B[0m 3ms/step - accuracy: 0.7800 - loss: 0.6060 - val_accuracy: 0.9639 - val_loss: 0.2695\n",
      "Epoch 110/1000\n",
      "\u001B[1m 1/28\u001B[0m \u001B[37m━━━━━━━━━━━━━━━━━━━━\u001B[0m \u001B[1m0s\u001B[0m 17ms/step - accuracy: 0.7578 - loss: 0.6572\n",
      "Epoch 110: saving model to grimm\\PycharmProjects\\hand-gesture-recognition-mediapipe\\model\\keypoint_classifier\\keypoint_classifier.keras\n",
      "\u001B[1m28/28\u001B[0m \u001B[32m━━━━━━━━━━━━━━━━━━━━\u001B[0m\u001B[37m\u001B[0m \u001B[1m0s\u001B[0m 3ms/step - accuracy: 0.7739 - loss: 0.6084 - val_accuracy: 0.9621 - val_loss: 0.2712\n",
      "Epoch 111/1000\n",
      "\u001B[1m 1/28\u001B[0m \u001B[37m━━━━━━━━━━━━━━━━━━━━\u001B[0m \u001B[1m0s\u001B[0m 17ms/step - accuracy: 0.7422 - loss: 0.6870\n",
      "Epoch 111: saving model to grimm\\PycharmProjects\\hand-gesture-recognition-mediapipe\\model\\keypoint_classifier\\keypoint_classifier.keras\n",
      "\u001B[1m28/28\u001B[0m \u001B[32m━━━━━━━━━━━━━━━━━━━━\u001B[0m\u001B[37m\u001B[0m \u001B[1m0s\u001B[0m 3ms/step - accuracy: 0.7708 - loss: 0.6112 - val_accuracy: 0.9630 - val_loss: 0.2675\n",
      "Epoch 112/1000\n",
      "\u001B[1m 1/28\u001B[0m \u001B[37m━━━━━━━━━━━━━━━━━━━━\u001B[0m \u001B[1m0s\u001B[0m 16ms/step - accuracy: 0.7891 - loss: 0.5765\n",
      "Epoch 112: saving model to grimm\\PycharmProjects\\hand-gesture-recognition-mediapipe\\model\\keypoint_classifier\\keypoint_classifier.keras\n",
      "\u001B[1m28/28\u001B[0m \u001B[32m━━━━━━━━━━━━━━━━━━━━\u001B[0m\u001B[37m\u001B[0m \u001B[1m0s\u001B[0m 3ms/step - accuracy: 0.7796 - loss: 0.6045 - val_accuracy: 0.9682 - val_loss: 0.2662\n",
      "Epoch 113/1000\n",
      "\u001B[1m 1/28\u001B[0m \u001B[37m━━━━━━━━━━━━━━━━━━━━\u001B[0m \u001B[1m0s\u001B[0m 16ms/step - accuracy: 0.7266 - loss: 0.7352\n",
      "Epoch 113: saving model to grimm\\PycharmProjects\\hand-gesture-recognition-mediapipe\\model\\keypoint_classifier\\keypoint_classifier.keras\n",
      "\u001B[1m28/28\u001B[0m \u001B[32m━━━━━━━━━━━━━━━━━━━━\u001B[0m\u001B[37m\u001B[0m \u001B[1m0s\u001B[0m 3ms/step - accuracy: 0.7669 - loss: 0.6301 - val_accuracy: 0.9647 - val_loss: 0.2699\n",
      "Epoch 114/1000\n",
      "\u001B[1m 1/28\u001B[0m \u001B[37m━━━━━━━━━━━━━━━━━━━━\u001B[0m \u001B[1m0s\u001B[0m 17ms/step - accuracy: 0.7578 - loss: 0.6066\n",
      "Epoch 114: saving model to grimm\\PycharmProjects\\hand-gesture-recognition-mediapipe\\model\\keypoint_classifier\\keypoint_classifier.keras\n",
      "\u001B[1m28/28\u001B[0m \u001B[32m━━━━━━━━━━━━━━━━━━━━\u001B[0m\u001B[37m\u001B[0m \u001B[1m0s\u001B[0m 3ms/step - accuracy: 0.7742 - loss: 0.5984 - val_accuracy: 0.9742 - val_loss: 0.2706\n",
      "Epoch 115/1000\n",
      "\u001B[1m 1/28\u001B[0m \u001B[37m━━━━━━━━━━━━━━━━━━━━\u001B[0m \u001B[1m0s\u001B[0m 16ms/step - accuracy: 0.8203 - loss: 0.5582\n",
      "Epoch 115: saving model to grimm\\PycharmProjects\\hand-gesture-recognition-mediapipe\\model\\keypoint_classifier\\keypoint_classifier.keras\n",
      "\u001B[1m28/28\u001B[0m \u001B[32m━━━━━━━━━━━━━━━━━━━━\u001B[0m\u001B[37m\u001B[0m \u001B[1m0s\u001B[0m 3ms/step - accuracy: 0.7935 - loss: 0.5709 - val_accuracy: 0.9664 - val_loss: 0.2617\n",
      "Epoch 116/1000\n",
      "\u001B[1m 1/28\u001B[0m \u001B[37m━━━━━━━━━━━━━━━━━━━━\u001B[0m \u001B[1m0s\u001B[0m 17ms/step - accuracy: 0.7812 - loss: 0.5494\n",
      "Epoch 116: saving model to grimm\\PycharmProjects\\hand-gesture-recognition-mediapipe\\model\\keypoint_classifier\\keypoint_classifier.keras\n",
      "\u001B[1m28/28\u001B[0m \u001B[32m━━━━━━━━━━━━━━━━━━━━\u001B[0m\u001B[37m\u001B[0m \u001B[1m0s\u001B[0m 3ms/step - accuracy: 0.7780 - loss: 0.6019 - val_accuracy: 0.9690 - val_loss: 0.2586\n",
      "Epoch 117/1000\n",
      "\u001B[1m 1/28\u001B[0m \u001B[37m━━━━━━━━━━━━━━━━━━━━\u001B[0m \u001B[1m0s\u001B[0m 18ms/step - accuracy: 0.7578 - loss: 0.6459\n",
      "Epoch 117: saving model to grimm\\PycharmProjects\\hand-gesture-recognition-mediapipe\\model\\keypoint_classifier\\keypoint_classifier.keras\n",
      "\u001B[1m28/28\u001B[0m \u001B[32m━━━━━━━━━━━━━━━━━━━━\u001B[0m\u001B[37m\u001B[0m \u001B[1m0s\u001B[0m 3ms/step - accuracy: 0.7729 - loss: 0.6118 - val_accuracy: 0.9673 - val_loss: 0.2609\n",
      "Epoch 118/1000\n",
      "\u001B[1m 1/28\u001B[0m \u001B[37m━━━━━━━━━━━━━━━━━━━━\u001B[0m \u001B[1m0s\u001B[0m 17ms/step - accuracy: 0.7266 - loss: 0.6792\n",
      "Epoch 118: saving model to grimm\\PycharmProjects\\hand-gesture-recognition-mediapipe\\model\\keypoint_classifier\\keypoint_classifier.keras\n",
      "\u001B[1m28/28\u001B[0m \u001B[32m━━━━━━━━━━━━━━━━━━━━\u001B[0m\u001B[37m\u001B[0m \u001B[1m0s\u001B[0m 3ms/step - accuracy: 0.7579 - loss: 0.6410 - val_accuracy: 0.9630 - val_loss: 0.2687\n",
      "Epoch 119/1000\n",
      "\u001B[1m 1/28\u001B[0m \u001B[37m━━━━━━━━━━━━━━━━━━━━\u001B[0m \u001B[1m0s\u001B[0m 18ms/step - accuracy: 0.7656 - loss: 0.5031\n",
      "Epoch 119: saving model to grimm\\PycharmProjects\\hand-gesture-recognition-mediapipe\\model\\keypoint_classifier\\keypoint_classifier.keras\n",
      "\u001B[1m28/28\u001B[0m \u001B[32m━━━━━━━━━━━━━━━━━━━━\u001B[0m\u001B[37m\u001B[0m \u001B[1m0s\u001B[0m 3ms/step - accuracy: 0.7642 - loss: 0.6140 - val_accuracy: 0.9621 - val_loss: 0.2637\n",
      "Epoch 120/1000\n",
      "\u001B[1m 1/28\u001B[0m \u001B[37m━━━━━━━━━━━━━━━━━━━━\u001B[0m \u001B[1m0s\u001B[0m 16ms/step - accuracy: 0.7266 - loss: 0.7073\n",
      "Epoch 120: saving model to grimm\\PycharmProjects\\hand-gesture-recognition-mediapipe\\model\\keypoint_classifier\\keypoint_classifier.keras\n",
      "\u001B[1m28/28\u001B[0m \u001B[32m━━━━━━━━━━━━━━━━━━━━\u001B[0m\u001B[37m\u001B[0m \u001B[1m0s\u001B[0m 3ms/step - accuracy: 0.7855 - loss: 0.5824 - val_accuracy: 0.9673 - val_loss: 0.2617\n",
      "Epoch 121/1000\n",
      "\u001B[1m 1/28\u001B[0m \u001B[37m━━━━━━━━━━━━━━━━━━━━\u001B[0m \u001B[1m0s\u001B[0m 17ms/step - accuracy: 0.7734 - loss: 0.5905\n",
      "Epoch 121: saving model to grimm\\PycharmProjects\\hand-gesture-recognition-mediapipe\\model\\keypoint_classifier\\keypoint_classifier.keras\n",
      "\u001B[1m28/28\u001B[0m \u001B[32m━━━━━━━━━━━━━━━━━━━━\u001B[0m\u001B[37m\u001B[0m \u001B[1m0s\u001B[0m 3ms/step - accuracy: 0.7787 - loss: 0.6035 - val_accuracy: 0.9656 - val_loss: 0.2524\n",
      "Epoch 122/1000\n",
      "\u001B[1m 1/28\u001B[0m \u001B[37m━━━━━━━━━━━━━━━━━━━━\u001B[0m \u001B[1m0s\u001B[0m 17ms/step - accuracy: 0.7422 - loss: 0.6116\n",
      "Epoch 122: saving model to grimm\\PycharmProjects\\hand-gesture-recognition-mediapipe\\model\\keypoint_classifier\\keypoint_classifier.keras\n",
      "\u001B[1m28/28\u001B[0m \u001B[32m━━━━━━━━━━━━━━━━━━━━\u001B[0m\u001B[37m\u001B[0m \u001B[1m0s\u001B[0m 3ms/step - accuracy: 0.7664 - loss: 0.6061 - val_accuracy: 0.9664 - val_loss: 0.2529\n",
      "Epoch 123/1000\n",
      "\u001B[1m 1/28\u001B[0m \u001B[37m━━━━━━━━━━━━━━━━━━━━\u001B[0m \u001B[1m0s\u001B[0m 16ms/step - accuracy: 0.8047 - loss: 0.5779\n",
      "Epoch 123: saving model to grimm\\PycharmProjects\\hand-gesture-recognition-mediapipe\\model\\keypoint_classifier\\keypoint_classifier.keras\n",
      "\u001B[1m28/28\u001B[0m \u001B[32m━━━━━━━━━━━━━━━━━━━━\u001B[0m\u001B[37m\u001B[0m \u001B[1m0s\u001B[0m 3ms/step - accuracy: 0.7795 - loss: 0.6039 - val_accuracy: 0.9750 - val_loss: 0.2556\n",
      "Epoch 124/1000\n",
      "\u001B[1m 1/28\u001B[0m \u001B[37m━━━━━━━━━━━━━━━━━━━━\u001B[0m \u001B[1m0s\u001B[0m 16ms/step - accuracy: 0.7734 - loss: 0.6194\n",
      "Epoch 124: saving model to grimm\\PycharmProjects\\hand-gesture-recognition-mediapipe\\model\\keypoint_classifier\\keypoint_classifier.keras\n",
      "\u001B[1m28/28\u001B[0m \u001B[32m━━━━━━━━━━━━━━━━━━━━\u001B[0m\u001B[37m\u001B[0m \u001B[1m0s\u001B[0m 3ms/step - accuracy: 0.7759 - loss: 0.5879 - val_accuracy: 0.9682 - val_loss: 0.2531\n",
      "Epoch 125/1000\n",
      "\u001B[1m 1/28\u001B[0m \u001B[37m━━━━━━━━━━━━━━━━━━━━\u001B[0m \u001B[1m0s\u001B[0m 16ms/step - accuracy: 0.7891 - loss: 0.5162\n",
      "Epoch 125: saving model to grimm\\PycharmProjects\\hand-gesture-recognition-mediapipe\\model\\keypoint_classifier\\keypoint_classifier.keras\n",
      "\u001B[1m28/28\u001B[0m \u001B[32m━━━━━━━━━━━━━━━━━━━━\u001B[0m\u001B[37m\u001B[0m \u001B[1m0s\u001B[0m 3ms/step - accuracy: 0.7872 - loss: 0.5794 - val_accuracy: 0.9733 - val_loss: 0.2561\n",
      "Epoch 126/1000\n",
      "\u001B[1m 1/28\u001B[0m \u001B[37m━━━━━━━━━━━━━━━━━━━━\u001B[0m \u001B[1m0s\u001B[0m 16ms/step - accuracy: 0.7812 - loss: 0.5067\n",
      "Epoch 126: saving model to grimm\\PycharmProjects\\hand-gesture-recognition-mediapipe\\model\\keypoint_classifier\\keypoint_classifier.keras\n",
      "\u001B[1m28/28\u001B[0m \u001B[32m━━━━━━━━━━━━━━━━━━━━\u001B[0m\u001B[37m\u001B[0m \u001B[1m0s\u001B[0m 3ms/step - accuracy: 0.7962 - loss: 0.5688 - val_accuracy: 0.9707 - val_loss: 0.2476\n",
      "Epoch 127/1000\n",
      "\u001B[1m 1/28\u001B[0m \u001B[37m━━━━━━━━━━━━━━━━━━━━\u001B[0m \u001B[1m0s\u001B[0m 17ms/step - accuracy: 0.8047 - loss: 0.4736\n",
      "Epoch 127: saving model to grimm\\PycharmProjects\\hand-gesture-recognition-mediapipe\\model\\keypoint_classifier\\keypoint_classifier.keras\n",
      "\u001B[1m28/28\u001B[0m \u001B[32m━━━━━━━━━━━━━━━━━━━━\u001B[0m\u001B[37m\u001B[0m \u001B[1m0s\u001B[0m 3ms/step - accuracy: 0.7693 - loss: 0.5868 - val_accuracy: 0.9733 - val_loss: 0.2491\n",
      "Epoch 128/1000\n",
      "\u001B[1m 1/28\u001B[0m \u001B[37m━━━━━━━━━━━━━━━━━━━━\u001B[0m \u001B[1m0s\u001B[0m 17ms/step - accuracy: 0.7812 - loss: 0.5966\n",
      "Epoch 128: saving model to grimm\\PycharmProjects\\hand-gesture-recognition-mediapipe\\model\\keypoint_classifier\\keypoint_classifier.keras\n",
      "\u001B[1m28/28\u001B[0m \u001B[32m━━━━━━━━━━━━━━━━━━━━\u001B[0m\u001B[37m\u001B[0m \u001B[1m0s\u001B[0m 3ms/step - accuracy: 0.7805 - loss: 0.6043 - val_accuracy: 0.9733 - val_loss: 0.2537\n",
      "Epoch 129/1000\n",
      "\u001B[1m 1/28\u001B[0m \u001B[37m━━━━━━━━━━━━━━━━━━━━\u001B[0m \u001B[1m0s\u001B[0m 17ms/step - accuracy: 0.8359 - loss: 0.5287\n",
      "Epoch 129: saving model to grimm\\PycharmProjects\\hand-gesture-recognition-mediapipe\\model\\keypoint_classifier\\keypoint_classifier.keras\n",
      "\u001B[1m28/28\u001B[0m \u001B[32m━━━━━━━━━━━━━━━━━━━━\u001B[0m\u001B[37m\u001B[0m \u001B[1m0s\u001B[0m 3ms/step - accuracy: 0.7964 - loss: 0.5617 - val_accuracy: 0.9759 - val_loss: 0.2474\n",
      "Epoch 130/1000\n",
      "\u001B[1m 1/28\u001B[0m \u001B[37m━━━━━━━━━━━━━━━━━━━━\u001B[0m \u001B[1m0s\u001B[0m 16ms/step - accuracy: 0.8750 - loss: 0.4464\n",
      "Epoch 130: saving model to grimm\\PycharmProjects\\hand-gesture-recognition-mediapipe\\model\\keypoint_classifier\\keypoint_classifier.keras\n",
      "\u001B[1m28/28\u001B[0m \u001B[32m━━━━━━━━━━━━━━━━━━━━\u001B[0m\u001B[37m\u001B[0m \u001B[1m0s\u001B[0m 3ms/step - accuracy: 0.8063 - loss: 0.5574 - val_accuracy: 0.9733 - val_loss: 0.2344\n",
      "Epoch 131/1000\n",
      "\u001B[1m 1/28\u001B[0m \u001B[37m━━━━━━━━━━━━━━━━━━━━\u001B[0m \u001B[1m0s\u001B[0m 17ms/step - accuracy: 0.7969 - loss: 0.5644\n",
      "Epoch 131: saving model to grimm\\PycharmProjects\\hand-gesture-recognition-mediapipe\\model\\keypoint_classifier\\keypoint_classifier.keras\n",
      "\u001B[1m28/28\u001B[0m \u001B[32m━━━━━━━━━━━━━━━━━━━━\u001B[0m\u001B[37m\u001B[0m \u001B[1m0s\u001B[0m 3ms/step - accuracy: 0.7871 - loss: 0.5726 - val_accuracy: 0.9742 - val_loss: 0.2407\n",
      "Epoch 132/1000\n",
      "\u001B[1m 1/28\u001B[0m \u001B[37m━━━━━━━━━━━━━━━━━━━━\u001B[0m \u001B[1m0s\u001B[0m 16ms/step - accuracy: 0.6953 - loss: 0.7481\n",
      "Epoch 132: saving model to grimm\\PycharmProjects\\hand-gesture-recognition-mediapipe\\model\\keypoint_classifier\\keypoint_classifier.keras\n",
      "\u001B[1m28/28\u001B[0m \u001B[32m━━━━━━━━━━━━━━━━━━━━\u001B[0m\u001B[37m\u001B[0m \u001B[1m0s\u001B[0m 3ms/step - accuracy: 0.7706 - loss: 0.6085 - val_accuracy: 0.9725 - val_loss: 0.2520\n",
      "Epoch 133/1000\n",
      "\u001B[1m 1/28\u001B[0m \u001B[37m━━━━━━━━━━━━━━━━━━━━\u001B[0m \u001B[1m0s\u001B[0m 16ms/step - accuracy: 0.7578 - loss: 0.6536\n",
      "Epoch 133: saving model to grimm\\PycharmProjects\\hand-gesture-recognition-mediapipe\\model\\keypoint_classifier\\keypoint_classifier.keras\n",
      "\u001B[1m28/28\u001B[0m \u001B[32m━━━━━━━━━━━━━━━━━━━━\u001B[0m\u001B[37m\u001B[0m \u001B[1m0s\u001B[0m 3ms/step - accuracy: 0.7851 - loss: 0.5934 - val_accuracy: 0.9682 - val_loss: 0.2479\n",
      "Epoch 134/1000\n",
      "\u001B[1m 1/28\u001B[0m \u001B[37m━━━━━━━━━━━━━━━━━━━━\u001B[0m \u001B[1m0s\u001B[0m 17ms/step - accuracy: 0.8125 - loss: 0.5989\n",
      "Epoch 134: saving model to grimm\\PycharmProjects\\hand-gesture-recognition-mediapipe\\model\\keypoint_classifier\\keypoint_classifier.keras\n",
      "\u001B[1m28/28\u001B[0m \u001B[32m━━━━━━━━━━━━━━━━━━━━\u001B[0m\u001B[37m\u001B[0m \u001B[1m0s\u001B[0m 3ms/step - accuracy: 0.7899 - loss: 0.5783 - val_accuracy: 0.9716 - val_loss: 0.2437\n",
      "Epoch 135/1000\n",
      "\u001B[1m 1/28\u001B[0m \u001B[37m━━━━━━━━━━━━━━━━━━━━\u001B[0m \u001B[1m0s\u001B[0m 16ms/step - accuracy: 0.8125 - loss: 0.5642\n",
      "Epoch 135: saving model to grimm\\PycharmProjects\\hand-gesture-recognition-mediapipe\\model\\keypoint_classifier\\keypoint_classifier.keras\n",
      "\u001B[1m28/28\u001B[0m \u001B[32m━━━━━━━━━━━━━━━━━━━━\u001B[0m\u001B[37m\u001B[0m \u001B[1m0s\u001B[0m 3ms/step - accuracy: 0.7943 - loss: 0.5603 - val_accuracy: 0.9690 - val_loss: 0.2442\n",
      "Epoch 136/1000\n",
      "\u001B[1m 1/28\u001B[0m \u001B[37m━━━━━━━━━━━━━━━━━━━━\u001B[0m \u001B[1m0s\u001B[0m 17ms/step - accuracy: 0.7734 - loss: 0.5905\n",
      "Epoch 136: saving model to grimm\\PycharmProjects\\hand-gesture-recognition-mediapipe\\model\\keypoint_classifier\\keypoint_classifier.keras\n",
      "\u001B[1m28/28\u001B[0m \u001B[32m━━━━━━━━━━━━━━━━━━━━\u001B[0m\u001B[37m\u001B[0m \u001B[1m0s\u001B[0m 3ms/step - accuracy: 0.7894 - loss: 0.5748 - val_accuracy: 0.9768 - val_loss: 0.2409\n",
      "Epoch 137/1000\n",
      "\u001B[1m 1/28\u001B[0m \u001B[37m━━━━━━━━━━━━━━━━━━━━\u001B[0m \u001B[1m0s\u001B[0m 19ms/step - accuracy: 0.7891 - loss: 0.5676\n",
      "Epoch 137: saving model to grimm\\PycharmProjects\\hand-gesture-recognition-mediapipe\\model\\keypoint_classifier\\keypoint_classifier.keras\n",
      "\u001B[1m28/28\u001B[0m \u001B[32m━━━━━━━━━━━━━━━━━━━━\u001B[0m\u001B[37m\u001B[0m \u001B[1m0s\u001B[0m 3ms/step - accuracy: 0.7872 - loss: 0.5815 - val_accuracy: 0.9768 - val_loss: 0.2416\n",
      "Epoch 138/1000\n",
      "\u001B[1m 1/28\u001B[0m \u001B[37m━━━━━━━━━━━━━━━━━━━━\u001B[0m \u001B[1m0s\u001B[0m 18ms/step - accuracy: 0.7812 - loss: 0.6264\n",
      "Epoch 138: saving model to grimm\\PycharmProjects\\hand-gesture-recognition-mediapipe\\model\\keypoint_classifier\\keypoint_classifier.keras\n",
      "\u001B[1m28/28\u001B[0m \u001B[32m━━━━━━━━━━━━━━━━━━━━\u001B[0m\u001B[37m\u001B[0m \u001B[1m0s\u001B[0m 3ms/step - accuracy: 0.7693 - loss: 0.6066 - val_accuracy: 0.9793 - val_loss: 0.2394\n",
      "Epoch 139/1000\n",
      "\u001B[1m 1/28\u001B[0m \u001B[37m━━━━━━━━━━━━━━━━━━━━\u001B[0m \u001B[1m0s\u001B[0m 17ms/step - accuracy: 0.8203 - loss: 0.5130\n",
      "Epoch 139: saving model to grimm\\PycharmProjects\\hand-gesture-recognition-mediapipe\\model\\keypoint_classifier\\keypoint_classifier.keras\n",
      "\u001B[1m28/28\u001B[0m \u001B[32m━━━━━━━━━━━━━━━━━━━━\u001B[0m\u001B[37m\u001B[0m \u001B[1m0s\u001B[0m 3ms/step - accuracy: 0.7814 - loss: 0.5888 - val_accuracy: 0.9742 - val_loss: 0.2390\n",
      "Epoch 140/1000\n",
      "\u001B[1m 1/28\u001B[0m \u001B[37m━━━━━━━━━━━━━━━━━━━━\u001B[0m \u001B[1m0s\u001B[0m 17ms/step - accuracy: 0.7812 - loss: 0.5216\n",
      "Epoch 140: saving model to grimm\\PycharmProjects\\hand-gesture-recognition-mediapipe\\model\\keypoint_classifier\\keypoint_classifier.keras\n",
      "\u001B[1m28/28\u001B[0m \u001B[32m━━━━━━━━━━━━━━━━━━━━\u001B[0m\u001B[37m\u001B[0m \u001B[1m0s\u001B[0m 3ms/step - accuracy: 0.7843 - loss: 0.5856 - val_accuracy: 0.9742 - val_loss: 0.2312\n",
      "Epoch 141/1000\n",
      "\u001B[1m 1/28\u001B[0m \u001B[37m━━━━━━━━━━━━━━━━━━━━\u001B[0m \u001B[1m0s\u001B[0m 17ms/step - accuracy: 0.7500 - loss: 0.7443\n",
      "Epoch 141: saving model to grimm\\PycharmProjects\\hand-gesture-recognition-mediapipe\\model\\keypoint_classifier\\keypoint_classifier.keras\n",
      "\u001B[1m28/28\u001B[0m \u001B[32m━━━━━━━━━━━━━━━━━━━━\u001B[0m\u001B[37m\u001B[0m \u001B[1m0s\u001B[0m 3ms/step - accuracy: 0.7798 - loss: 0.5840 - val_accuracy: 0.9742 - val_loss: 0.2284\n",
      "Epoch 142/1000\n",
      "\u001B[1m 1/28\u001B[0m \u001B[37m━━━━━━━━━━━━━━━━━━━━\u001B[0m \u001B[1m0s\u001B[0m 17ms/step - accuracy: 0.8047 - loss: 0.5053\n",
      "Epoch 142: saving model to grimm\\PycharmProjects\\hand-gesture-recognition-mediapipe\\model\\keypoint_classifier\\keypoint_classifier.keras\n",
      "\u001B[1m28/28\u001B[0m \u001B[32m━━━━━━━━━━━━━━━━━━━━\u001B[0m\u001B[37m\u001B[0m \u001B[1m0s\u001B[0m 3ms/step - accuracy: 0.7863 - loss: 0.5702 - val_accuracy: 0.9759 - val_loss: 0.2264\n",
      "Epoch 143/1000\n",
      "\u001B[1m 1/28\u001B[0m \u001B[37m━━━━━━━━━━━━━━━━━━━━\u001B[0m \u001B[1m0s\u001B[0m 17ms/step - accuracy: 0.7266 - loss: 0.7747\n",
      "Epoch 143: saving model to grimm\\PycharmProjects\\hand-gesture-recognition-mediapipe\\model\\keypoint_classifier\\keypoint_classifier.keras\n",
      "\u001B[1m28/28\u001B[0m \u001B[32m━━━━━━━━━━━━━━━━━━━━\u001B[0m\u001B[37m\u001B[0m \u001B[1m0s\u001B[0m 3ms/step - accuracy: 0.7817 - loss: 0.6156 - val_accuracy: 0.9699 - val_loss: 0.2301\n",
      "Epoch 144/1000\n",
      "\u001B[1m 1/28\u001B[0m \u001B[37m━━━━━━━━━━━━━━━━━━━━\u001B[0m \u001B[1m0s\u001B[0m 16ms/step - accuracy: 0.8125 - loss: 0.5390\n",
      "Epoch 144: saving model to grimm\\PycharmProjects\\hand-gesture-recognition-mediapipe\\model\\keypoint_classifier\\keypoint_classifier.keras\n",
      "\u001B[1m28/28\u001B[0m \u001B[32m━━━━━━━━━━━━━━━━━━━━\u001B[0m\u001B[37m\u001B[0m \u001B[1m0s\u001B[0m 3ms/step - accuracy: 0.7910 - loss: 0.5857 - val_accuracy: 0.9759 - val_loss: 0.2341\n",
      "Epoch 145/1000\n",
      "\u001B[1m 1/28\u001B[0m \u001B[37m━━━━━━━━━━━━━━━━━━━━\u001B[0m \u001B[1m0s\u001B[0m 20ms/step - accuracy: 0.7422 - loss: 0.6955\n",
      "Epoch 145: saving model to grimm\\PycharmProjects\\hand-gesture-recognition-mediapipe\\model\\keypoint_classifier\\keypoint_classifier.keras\n",
      "\u001B[1m28/28\u001B[0m \u001B[32m━━━━━━━━━━━━━━━━━━━━\u001B[0m\u001B[37m\u001B[0m \u001B[1m0s\u001B[0m 3ms/step - accuracy: 0.7698 - loss: 0.6111 - val_accuracy: 0.9776 - val_loss: 0.2376\n",
      "Epoch 146/1000\n",
      "\u001B[1m 1/28\u001B[0m \u001B[37m━━━━━━━━━━━━━━━━━━━━\u001B[0m \u001B[1m0s\u001B[0m 17ms/step - accuracy: 0.7656 - loss: 0.5849\n",
      "Epoch 146: saving model to grimm\\PycharmProjects\\hand-gesture-recognition-mediapipe\\model\\keypoint_classifier\\keypoint_classifier.keras\n",
      "\u001B[1m28/28\u001B[0m \u001B[32m━━━━━━━━━━━━━━━━━━━━\u001B[0m\u001B[37m\u001B[0m \u001B[1m0s\u001B[0m 3ms/step - accuracy: 0.7795 - loss: 0.5752 - val_accuracy: 0.9785 - val_loss: 0.2346\n",
      "Epoch 147/1000\n",
      "\u001B[1m 1/28\u001B[0m \u001B[37m━━━━━━━━━━━━━━━━━━━━\u001B[0m \u001B[1m0s\u001B[0m 17ms/step - accuracy: 0.8047 - loss: 0.5535\n",
      "Epoch 147: saving model to grimm\\PycharmProjects\\hand-gesture-recognition-mediapipe\\model\\keypoint_classifier\\keypoint_classifier.keras\n",
      "\u001B[1m28/28\u001B[0m \u001B[32m━━━━━━━━━━━━━━━━━━━━\u001B[0m\u001B[37m\u001B[0m \u001B[1m0s\u001B[0m 3ms/step - accuracy: 0.7970 - loss: 0.5795 - val_accuracy: 0.9819 - val_loss: 0.2286\n",
      "Epoch 148/1000\n",
      "\u001B[1m 1/28\u001B[0m \u001B[37m━━━━━━━━━━━━━━━━━━━━\u001B[0m \u001B[1m0s\u001B[0m 17ms/step - accuracy: 0.8594 - loss: 0.5247\n",
      "Epoch 148: saving model to grimm\\PycharmProjects\\hand-gesture-recognition-mediapipe\\model\\keypoint_classifier\\keypoint_classifier.keras\n",
      "\u001B[1m28/28\u001B[0m \u001B[32m━━━━━━━━━━━━━━━━━━━━\u001B[0m\u001B[37m\u001B[0m \u001B[1m0s\u001B[0m 3ms/step - accuracy: 0.7994 - loss: 0.5534 - val_accuracy: 0.9768 - val_loss: 0.2307\n",
      "Epoch 149/1000\n",
      "\u001B[1m 1/28\u001B[0m \u001B[37m━━━━━━━━━━━━━━━━━━━━\u001B[0m \u001B[1m0s\u001B[0m 17ms/step - accuracy: 0.7891 - loss: 0.5924\n",
      "Epoch 149: saving model to grimm\\PycharmProjects\\hand-gesture-recognition-mediapipe\\model\\keypoint_classifier\\keypoint_classifier.keras\n",
      "\u001B[1m28/28\u001B[0m \u001B[32m━━━━━━━━━━━━━━━━━━━━\u001B[0m\u001B[37m\u001B[0m \u001B[1m0s\u001B[0m 3ms/step - accuracy: 0.7866 - loss: 0.5956 - val_accuracy: 0.9768 - val_loss: 0.2310\n",
      "Epoch 150/1000\n",
      "\u001B[1m 1/28\u001B[0m \u001B[37m━━━━━━━━━━━━━━━━━━━━\u001B[0m \u001B[1m0s\u001B[0m 16ms/step - accuracy: 0.7422 - loss: 0.6836\n",
      "Epoch 150: saving model to grimm\\PycharmProjects\\hand-gesture-recognition-mediapipe\\model\\keypoint_classifier\\keypoint_classifier.keras\n",
      "\u001B[1m28/28\u001B[0m \u001B[32m━━━━━━━━━━━━━━━━━━━━\u001B[0m\u001B[37m\u001B[0m \u001B[1m0s\u001B[0m 3ms/step - accuracy: 0.7946 - loss: 0.5704 - val_accuracy: 0.9725 - val_loss: 0.2346\n",
      "Epoch 151/1000\n",
      "\u001B[1m 1/28\u001B[0m \u001B[37m━━━━━━━━━━━━━━━━━━━━\u001B[0m \u001B[1m0s\u001B[0m 17ms/step - accuracy: 0.7812 - loss: 0.6361\n",
      "Epoch 151: saving model to grimm\\PycharmProjects\\hand-gesture-recognition-mediapipe\\model\\keypoint_classifier\\keypoint_classifier.keras\n",
      "\u001B[1m28/28\u001B[0m \u001B[32m━━━━━━━━━━━━━━━━━━━━\u001B[0m\u001B[37m\u001B[0m \u001B[1m0s\u001B[0m 3ms/step - accuracy: 0.7926 - loss: 0.5672 - val_accuracy: 0.9725 - val_loss: 0.2309\n",
      "Epoch 152/1000\n",
      "\u001B[1m 1/28\u001B[0m \u001B[37m━━━━━━━━━━━━━━━━━━━━\u001B[0m \u001B[1m0s\u001B[0m 16ms/step - accuracy: 0.8203 - loss: 0.5591\n",
      "Epoch 152: saving model to grimm\\PycharmProjects\\hand-gesture-recognition-mediapipe\\model\\keypoint_classifier\\keypoint_classifier.keras\n",
      "\u001B[1m28/28\u001B[0m \u001B[32m━━━━━━━━━━━━━━━━━━━━\u001B[0m\u001B[37m\u001B[0m \u001B[1m0s\u001B[0m 3ms/step - accuracy: 0.7965 - loss: 0.5665 - val_accuracy: 0.9742 - val_loss: 0.2275\n",
      "Epoch 153/1000\n",
      "\u001B[1m 1/28\u001B[0m \u001B[37m━━━━━━━━━━━━━━━━━━━━\u001B[0m \u001B[1m0s\u001B[0m 16ms/step - accuracy: 0.7344 - loss: 0.6897\n",
      "Epoch 153: saving model to grimm\\PycharmProjects\\hand-gesture-recognition-mediapipe\\model\\keypoint_classifier\\keypoint_classifier.keras\n",
      "\u001B[1m28/28\u001B[0m \u001B[32m━━━━━━━━━━━━━━━━━━━━\u001B[0m\u001B[37m\u001B[0m \u001B[1m0s\u001B[0m 3ms/step - accuracy: 0.7782 - loss: 0.6005 - val_accuracy: 0.9759 - val_loss: 0.2277\n",
      "Epoch 154/1000\n",
      "\u001B[1m 1/28\u001B[0m \u001B[37m━━━━━━━━━━━━━━━━━━━━\u001B[0m \u001B[1m0s\u001B[0m 16ms/step - accuracy: 0.7422 - loss: 0.6317\n",
      "Epoch 154: saving model to grimm\\PycharmProjects\\hand-gesture-recognition-mediapipe\\model\\keypoint_classifier\\keypoint_classifier.keras\n",
      "\u001B[1m28/28\u001B[0m \u001B[32m━━━━━━━━━━━━━━━━━━━━\u001B[0m\u001B[37m\u001B[0m \u001B[1m0s\u001B[0m 3ms/step - accuracy: 0.7835 - loss: 0.5750 - val_accuracy: 0.9768 - val_loss: 0.2345\n",
      "Epoch 155/1000\n",
      "\u001B[1m 1/28\u001B[0m \u001B[37m━━━━━━━━━━━━━━━━━━━━\u001B[0m \u001B[1m0s\u001B[0m 17ms/step - accuracy: 0.8438 - loss: 0.4546\n",
      "Epoch 155: saving model to grimm\\PycharmProjects\\hand-gesture-recognition-mediapipe\\model\\keypoint_classifier\\keypoint_classifier.keras\n",
      "\u001B[1m28/28\u001B[0m \u001B[32m━━━━━━━━━━━━━━━━━━━━\u001B[0m\u001B[37m\u001B[0m \u001B[1m0s\u001B[0m 3ms/step - accuracy: 0.8016 - loss: 0.5641 - val_accuracy: 0.9750 - val_loss: 0.2321\n",
      "Epoch 156/1000\n",
      "\u001B[1m 1/28\u001B[0m \u001B[37m━━━━━━━━━━━━━━━━━━━━\u001B[0m \u001B[1m0s\u001B[0m 17ms/step - accuracy: 0.7422 - loss: 0.6906\n",
      "Epoch 156: saving model to grimm\\PycharmProjects\\hand-gesture-recognition-mediapipe\\model\\keypoint_classifier\\keypoint_classifier.keras\n",
      "\u001B[1m28/28\u001B[0m \u001B[32m━━━━━━━━━━━━━━━━━━━━\u001B[0m\u001B[37m\u001B[0m \u001B[1m0s\u001B[0m 3ms/step - accuracy: 0.7791 - loss: 0.6128 - val_accuracy: 0.9725 - val_loss: 0.2265\n",
      "Epoch 157/1000\n",
      "\u001B[1m 1/28\u001B[0m \u001B[37m━━━━━━━━━━━━━━━━━━━━\u001B[0m \u001B[1m0s\u001B[0m 17ms/step - accuracy: 0.8359 - loss: 0.4455\n",
      "Epoch 157: saving model to grimm\\PycharmProjects\\hand-gesture-recognition-mediapipe\\model\\keypoint_classifier\\keypoint_classifier.keras\n",
      "\u001B[1m28/28\u001B[0m \u001B[32m━━━━━━━━━━━━━━━━━━━━\u001B[0m\u001B[37m\u001B[0m \u001B[1m0s\u001B[0m 3ms/step - accuracy: 0.7949 - loss: 0.5442 - val_accuracy: 0.9742 - val_loss: 0.2297\n",
      "Epoch 158/1000\n",
      "\u001B[1m 1/28\u001B[0m \u001B[37m━━━━━━━━━━━━━━━━━━━━\u001B[0m \u001B[1m0s\u001B[0m 18ms/step - accuracy: 0.7578 - loss: 0.6549\n",
      "Epoch 158: saving model to grimm\\PycharmProjects\\hand-gesture-recognition-mediapipe\\model\\keypoint_classifier\\keypoint_classifier.keras\n",
      "\u001B[1m28/28\u001B[0m \u001B[32m━━━━━━━━━━━━━━━━━━━━\u001B[0m\u001B[37m\u001B[0m \u001B[1m0s\u001B[0m 3ms/step - accuracy: 0.7914 - loss: 0.5645 - val_accuracy: 0.9768 - val_loss: 0.2274\n",
      "Epoch 159/1000\n",
      "\u001B[1m 1/28\u001B[0m \u001B[37m━━━━━━━━━━━━━━━━━━━━\u001B[0m \u001B[1m0s\u001B[0m 16ms/step - accuracy: 0.7656 - loss: 0.6366\n",
      "Epoch 159: saving model to grimm\\PycharmProjects\\hand-gesture-recognition-mediapipe\\model\\keypoint_classifier\\keypoint_classifier.keras\n",
      "\u001B[1m28/28\u001B[0m \u001B[32m━━━━━━━━━━━━━━━━━━━━\u001B[0m\u001B[37m\u001B[0m \u001B[1m0s\u001B[0m 3ms/step - accuracy: 0.7872 - loss: 0.5927 - val_accuracy: 0.9802 - val_loss: 0.2305\n",
      "Epoch 160/1000\n",
      "\u001B[1m 1/28\u001B[0m \u001B[37m━━━━━━━━━━━━━━━━━━━━\u001B[0m \u001B[1m0s\u001B[0m 17ms/step - accuracy: 0.7734 - loss: 0.6118\n",
      "Epoch 160: saving model to grimm\\PycharmProjects\\hand-gesture-recognition-mediapipe\\model\\keypoint_classifier\\keypoint_classifier.keras\n",
      "\u001B[1m28/28\u001B[0m \u001B[32m━━━━━━━━━━━━━━━━━━━━\u001B[0m\u001B[37m\u001B[0m \u001B[1m0s\u001B[0m 3ms/step - accuracy: 0.7822 - loss: 0.5880 - val_accuracy: 0.9785 - val_loss: 0.2348\n",
      "Epoch 161/1000\n",
      "\u001B[1m 1/28\u001B[0m \u001B[37m━━━━━━━━━━━━━━━━━━━━\u001B[0m \u001B[1m0s\u001B[0m 17ms/step - accuracy: 0.7969 - loss: 0.5556\n",
      "Epoch 161: saving model to grimm\\PycharmProjects\\hand-gesture-recognition-mediapipe\\model\\keypoint_classifier\\keypoint_classifier.keras\n",
      "\u001B[1m28/28\u001B[0m \u001B[32m━━━━━━━━━━━━━━━━━━━━\u001B[0m\u001B[37m\u001B[0m \u001B[1m0s\u001B[0m 3ms/step - accuracy: 0.7844 - loss: 0.5751 - val_accuracy: 0.9785 - val_loss: 0.2264\n",
      "Epoch 162/1000\n",
      "\u001B[1m 1/28\u001B[0m \u001B[37m━━━━━━━━━━━━━━━━━━━━\u001B[0m \u001B[1m0s\u001B[0m 16ms/step - accuracy: 0.8047 - loss: 0.5790\n",
      "Epoch 162: saving model to grimm\\PycharmProjects\\hand-gesture-recognition-mediapipe\\model\\keypoint_classifier\\keypoint_classifier.keras\n",
      "\u001B[1m28/28\u001B[0m \u001B[32m━━━━━━━━━━━━━━━━━━━━\u001B[0m\u001B[37m\u001B[0m \u001B[1m0s\u001B[0m 3ms/step - accuracy: 0.7942 - loss: 0.5536 - val_accuracy: 0.9776 - val_loss: 0.2327\n",
      "Epoch 162: early stopping\n"
     ]
    },
    {
     "data": {
      "text/plain": [
       "<keras.src.callbacks.history.History at 0x20d79eb4bb0>"
      ]
     },
     "execution_count": 11,
     "metadata": {},
     "output_type": "execute_result"
    }
   ],
   "execution_count": 11
  },
  {
   "cell_type": "code",
   "metadata": {
    "ExecuteTime": {
     "end_time": "2025-04-07T01:32:49.335407Z",
     "start_time": "2025-04-07T01:32:49.268888Z"
    }
   },
   "source": [
    "# モデル評価\n",
    "val_loss, val_acc = model.evaluate(X_test, y_test, batch_size=128)"
   ],
   "outputs": [
    {
     "name": "stdout",
     "output_type": "stream",
     "text": [
      "\u001B[1m10/10\u001B[0m \u001B[32m━━━━━━━━━━━━━━━━━━━━\u001B[0m\u001B[37m\u001B[0m \u001B[1m0s\u001B[0m 2ms/step - accuracy: 0.9737 - loss: 0.2289 \n"
     ]
    }
   ],
   "execution_count": 12
  },
  {
   "cell_type": "code",
   "metadata": {
    "ExecuteTime": {
     "end_time": "2025-04-07T01:32:49.414025Z",
     "start_time": "2025-04-07T01:32:49.351409Z"
    }
   },
   "source": [
    "# 保存したモデルのロード\n",
    "model = tf.keras.models.load_model(model_save_path)"
   ],
   "outputs": [],
   "execution_count": 13
  },
  {
   "cell_type": "code",
   "metadata": {
    "ExecuteTime": {
     "end_time": "2025-04-07T01:32:49.493678Z",
     "start_time": "2025-04-07T01:32:49.431099Z"
    }
   },
   "source": [
    "# 推論テスト\n",
    "predict_result = model.predict(np.array([X_test[0]]))\n",
    "print(np.squeeze(predict_result))\n",
    "print(np.argmax(np.squeeze(predict_result)))"
   ],
   "outputs": [
    {
     "name": "stdout",
     "output_type": "stream",
     "text": [
      "\u001B[1m1/1\u001B[0m \u001B[32m━━━━━━━━━━━━━━━━━━━━\u001B[0m\u001B[37m\u001B[0m \u001B[1m0s\u001B[0m 30ms/step\n",
      "[9.8055995e-01 1.9246580e-02 1.6972909e-04 1.5124833e-07 1.4379638e-05\n",
      " 9.2182872e-06]\n",
      "0\n"
     ]
    }
   ],
   "execution_count": 14
  },
  {
   "cell_type": "markdown",
   "metadata": {},
   "source": [
    "# 混同行列"
   ]
  },
  {
   "cell_type": "code",
   "metadata": {
    "ExecuteTime": {
     "end_time": "2025-04-07T01:32:49.746395Z",
     "start_time": "2025-04-07T01:32:49.510717Z"
    }
   },
   "source": [
    "import pandas as pd\n",
    "import seaborn as sns\n",
    "import matplotlib.pyplot as plt\n",
    "from sklearn.metrics import confusion_matrix, classification_report\n",
    "\n",
    "def print_confusion_matrix(y_true, y_pred, report=True):\n",
    "    labels = sorted(list(set(y_true)))\n",
    "    cmx_data = confusion_matrix(y_true, y_pred, labels=labels)\n",
    "    \n",
    "    df_cmx = pd.DataFrame(cmx_data, index=labels, columns=labels)\n",
    " \n",
    "    fig, ax = plt.subplots(figsize=(7, 6))\n",
    "    sns.heatmap(df_cmx, annot=True, fmt='g' ,square=False)\n",
    "    ax.set_ylim(len(set(y_true)), 0)\n",
    "    plt.show()\n",
    "    \n",
    "    if report:\n",
    "        print('Classification Report')\n",
    "        print(classification_report(y_test, y_pred))\n",
    "\n",
    "Y_pred = model.predict(X_test)\n",
    "y_pred = np.argmax(Y_pred, axis=1)\n",
    "\n",
    "print_confusion_matrix(y_test, y_pred)"
   ],
   "outputs": [
    {
     "name": "stdout",
     "output_type": "stream",
     "text": [
      "\u001B[1m37/37\u001B[0m \u001B[32m━━━━━━━━━━━━━━━━━━━━\u001B[0m\u001B[37m\u001B[0m \u001B[1m0s\u001B[0m 630us/step\n"
     ]
    },
    {
     "data": {
      "text/plain": [
       "<Figure size 700x600 with 2 Axes>"
      ],
      "image/png": "[encoded data removed]"
     },
     "metadata": {},
     "output_type": "display_data"
    },
    {
     "name": "stdout",
     "output_type": "stream",
     "text": [
      "Classification Report\n",
      "              precision    recall  f1-score   support\n",
      "\n",
      "           0       0.98      1.00      0.99       394\n",
      "           1       1.00      0.95      0.97       238\n",
      "           2       0.96      0.99      0.97       333\n",
      "           3       0.99      0.94      0.96        77\n",
      "           4       1.00      0.97      0.99        71\n",
      "           5       0.94      0.98      0.96        49\n",
      "\n",
      "    accuracy                           0.98      1162\n",
      "   macro avg       0.98      0.97      0.97      1162\n",
      "weighted avg       0.98      0.98      0.98      1162\n",
      "\n"
     ]
    }
   ],
   "execution_count": 15
  },
  {
   "cell_type": "markdown",
   "metadata": {},
   "source": [
    "# Tensorflow-Lite用のモデルへ変換"
   ]
  },
  {
   "cell_type": "code",
   "metadata": {
    "ExecuteTime": {
     "end_time": "2025-04-07T01:32:49.982375Z",
     "start_time": "2025-04-07T01:32:49.763399Z"
    }
   },
   "source": [
    "# モデルを変換(量子化)\n",
    "tflite_save_path = 'model/keypoint_classifier/keypoint_classifier.tflite'\n",
    "\n",
    "converter = tf.lite.TFLiteConverter.from_keras_model(model)\n",
    "converter.optimizations = [tf.lite.Optimize.DEFAULT]\n",
    "tflite_quantized_model = converter.convert()\n",
    "\n",
    "open(tflite_save_path, 'wb').write(tflite_quantized_model)"
   ],
   "outputs": [
    {
     "name": "stdout",
     "output_type": "stream",
     "text": [
      "INFO:tensorflow:Assets written to: C:\\Users\\grimm\\AppData\\Local\\Temp\\tmp0n5lulxf\\assets\n"
     ]
    },
    {
     "name": "stderr",
     "output_type": "stream",
     "text": [
      "INFO:tensorflow:Assets written to: C:\\Users\\grimm\\AppData\\Local\\Temp\\tmp0n5lulxf\\assets\n"
     ]
    },
    {
     "name": "stdout",
     "output_type": "stream",
     "text": [
      "Saved artifact at 'C:\\Users\\grimm\\AppData\\Local\\Temp\\tmp0n5lulxf'. The following endpoints are available:\n",
      "\n",
      "* Endpoint 'serve'\n",
      "  args_0 (POSITIONAL_ONLY): TensorSpec(shape=(None, 42), dtype=tf.float32, name='input_layer')\n",
      "Output Type:\n",
      "  TensorSpec(shape=(None, 6), dtype=tf.float32, name=None)\n",
      "Captures:\n",
      "  2256939976832: TensorSpec(shape=(), dtype=tf.resource, name=None)\n",
      "  2256939988096: TensorSpec(shape=(), dtype=tf.resource, name=None)\n",
      "  2256939987568: TensorSpec(shape=(), dtype=tf.resource, name=None)\n",
      "  2256940372336: TensorSpec(shape=(), dtype=tf.resource, name=None)\n",
      "  2256940377968: TensorSpec(shape=(), dtype=tf.resource, name=None)\n",
      "  2256940368992: TensorSpec(shape=(), dtype=tf.resource, name=None)\n"
     ]
    },
    {
     "data": {
      "text/plain": [
       "6644"
      ]
     },
     "execution_count": 16,
     "metadata": {},
     "output_type": "execute_result"
    }
   ],
   "execution_count": 16
  },
  {
   "cell_type": "markdown",
   "metadata": {},
   "source": [
    "# 推論テスト"
   ]
  },
  {
   "cell_type": "code",
   "metadata": {
    "ExecuteTime": {
     "end_time": "2025-04-07T01:32:50.013297Z",
     "start_time": "2025-04-07T01:32:49.998788Z"
    }
   },
   "source": [
    "interpreter = tf.lite.Interpreter(model_path=tflite_save_path)\n",
    "interpreter.allocate_tensors()"
   ],
   "outputs": [
    {
     "name": "stderr",
     "output_type": "stream",
     "text": [
      "C:\\Users\\grimm\\PycharmProjects\\hand-gesture-recognition-mediapipe\\.venv\\lib\\site-packages\\tensorflow\\lite\\python\\interpreter.py:457: UserWarning:     Warning: tf.lite.Interpreter is deprecated and is scheduled for deletion in\n",
      "    TF 2.20. Please use the LiteRT interpreter from the ai_edge_litert package.\n",
      "    See the [migration guide](https://ai.google.dev/edge/litert/migration)\n",
      "    for details.\n",
      "    \n",
      "  warnings.warn(_INTERPRETER_DELETION_WARNING)\n"
     ]
    }
   ],
   "execution_count": 17
  },
  {
   "cell_type": "code",
   "metadata": {
    "ExecuteTime": {
     "end_time": "2025-04-07T01:32:50.044788Z",
     "start_time": "2025-04-07T01:32:50.030297Z"
    }
   },
   "source": [
    "# 入出力テンソルを取得\n",
    "input_details = interpreter.get_input_details()\n",
    "output_details = interpreter.get_output_details()"
   ],
   "outputs": [],
   "execution_count": 18
  },
  {
   "cell_type": "code",
   "metadata": {
    "ExecuteTime": {
     "end_time": "2025-04-07T01:32:50.075650Z",
     "start_time": "2025-04-07T01:32:50.061303Z"
    }
   },
   "source": [
    "interpreter.set_tensor(input_details[0]['index'], np.array([X_test[0]]))"
   ],
   "outputs": [],
   "execution_count": 19
  },
  {
   "cell_type": "code",
   "metadata": {
    "scrolled": true,
    "ExecuteTime": {
     "end_time": "2025-04-07T01:32:50.107549Z",
     "start_time": "2025-04-07T01:32:50.092544Z"
    }
   },
   "source": [
    "%%time\n",
    "# 推論実施\n",
    "interpreter.invoke()\n",
    "tflite_results = interpreter.get_tensor(output_details[0]['index'])"
   ],
   "outputs": [
    {
     "name": "stdout",
     "output_type": "stream",
     "text": [
      "CPU times: total: 0 ns\n",
      "Wall time: 0 ns\n"
     ]
    }
   ],
   "execution_count": 20
  },
  {
   "metadata": {
    "ExecuteTime": {
     "end_time": "2025-04-07T01:32:50.154657Z",
     "start_time": "2025-04-07T01:32:50.124490Z"
    }
   },
   "cell_type": "code",
   "source": [
    "# 推論専用のモデルとして保存\n",
    "model.save(model_save_path, include_optimizer=False)"
   ],
   "outputs": [],
   "execution_count": 21
  },
  {
   "metadata": {
    "ExecuteTime": {
     "end_time": "2025-04-07T01:32:50.186660Z",
     "start_time": "2025-04-07T01:32:50.171660Z"
    }
   },
   "cell_type": "code",
   "source": [
    "print(np.squeeze(tflite_results))\n",
    "print(np.argmax(np.squeeze(tflite_results)))"
   ],
   "outputs": [
    {
     "name": "stdout",
     "output_type": "stream",
     "text": [
      "[9.8055995e-01 1.9246584e-02 1.6972909e-04 1.5124817e-07 1.4379638e-05\n",
      " 9.2182863e-06]\n",
      "0\n"
     ]
    }
   ],
   "execution_count": 22
  }
 ],
 "metadata": {
  "kernelspec": {
   "display_name": "Python 3",
   "language": "python",
   "name": "python3"
  },
  "language_info": {
   "codemirror_mode": {
    "name": "ipython",
    "version": 3
   },
   "file_extension": ".py",
   "mimetype": "text/x-python",
   "name": "python",
   "nbconvert_exporter": "python",
   "pygments_lexer": "ipython3",
   "version": "3.8.5"
  }
 },
 "nbformat": 4,
 "nbformat_minor": 4
}
